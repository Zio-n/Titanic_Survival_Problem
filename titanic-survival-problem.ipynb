{
 "cells": [
  {
   "cell_type": "code",
   "execution_count": 1,
   "id": "8e7c2010",
   "metadata": {
    "_cell_guid": "b1076dfc-b9ad-4769-8c92-a6c4dae69d19",
    "_uuid": "8f2839f25d086af736a60e9eeb907d3b93b6e0e5",
    "execution": {
     "iopub.execute_input": "2022-10-14T05:53:02.081265Z",
     "iopub.status.busy": "2022-10-14T05:53:02.079852Z",
     "iopub.status.idle": "2022-10-14T05:53:02.096216Z",
     "shell.execute_reply": "2022-10-14T05:53:02.094715Z"
    },
    "papermill": {
     "duration": 0.04158,
     "end_time": "2022-10-14T05:53:02.099131",
     "exception": false,
     "start_time": "2022-10-14T05:53:02.057551",
     "status": "completed"
    },
    "tags": []
   },
   "outputs": [
    {
     "name": "stdout",
     "output_type": "stream",
     "text": [
      "/kaggle/input/titanic/train.csv\n",
      "/kaggle/input/titanic/test.csv\n",
      "/kaggle/input/titanic/gender_submission.csv\n"
     ]
    }
   ],
   "source": [
    "# This Python 3 environment comes with many helpful analytics libraries installed\n",
    "# It is defined by the kaggle/python Docker image: https://github.com/kaggle/docker-python\n",
    "# For example, here's several helpful packages to load\n",
    "\n",
    "import numpy as np # linear algebra\n",
    "import pandas as pd # data processing, CSV file I/O (e.g. pd.read_csv)\n",
    "\n",
    "# Input data files are available in the read-only \"../input/\" directory\n",
    "# For example, running this (by clicking run or pressing Shift+Enter) will list all files under the input directory\n",
    "\n",
    "import os\n",
    "for dirname, _, filenames in os.walk('/kaggle/input'):\n",
    "    for filename in filenames:\n",
    "        print(os.path.join(dirname, filename))\n",
    "\n",
    "# You can write up to 20GB to the current directory (/kaggle/working/) that gets preserved as output when you create a version using \"Save & Run All\" \n",
    "# You can also write temporary files to /kaggle/temp/, but they won't be saved outside of the current session"
   ]
  },
  {
   "cell_type": "code",
   "execution_count": 2,
   "id": "f4af807c",
   "metadata": {
    "execution": {
     "iopub.execute_input": "2022-10-14T05:53:02.138497Z",
     "iopub.status.busy": "2022-10-14T05:53:02.137794Z",
     "iopub.status.idle": "2022-10-14T05:53:41.398957Z",
     "shell.execute_reply": "2022-10-14T05:53:41.397209Z"
    },
    "papermill": {
     "duration": 39.284023,
     "end_time": "2022-10-14T05:53:41.401703",
     "exception": false,
     "start_time": "2022-10-14T05:53:02.117680",
     "status": "completed"
    },
    "tags": []
   },
   "outputs": [
    {
     "name": "stdout",
     "output_type": "stream",
     "text": [
      "Requirement already satisfied: tensorflow_decision_forests in /opt/conda/lib/python3.7/site-packages (0.2.0)\r\n",
      "Requirement already satisfied: pandas in /opt/conda/lib/python3.7/site-packages (from tensorflow_decision_forests) (1.3.5)\r\n",
      "Requirement already satisfied: numpy in /opt/conda/lib/python3.7/site-packages (from tensorflow_decision_forests) (1.21.6)\r\n",
      "Requirement already satisfied: tensorflow~=2.6 in /opt/conda/lib/python3.7/site-packages (from tensorflow_decision_forests) (2.6.4)\r\n",
      "Requirement already satisfied: absl-py in /opt/conda/lib/python3.7/site-packages (from tensorflow_decision_forests) (0.15.0)\r\n",
      "Requirement already satisfied: six in /opt/conda/lib/python3.7/site-packages (from tensorflow_decision_forests) (1.15.0)\r\n",
      "Requirement already satisfied: wheel in /opt/conda/lib/python3.7/site-packages (from tensorflow_decision_forests) (0.37.1)\r\n",
      "Requirement already satisfied: keras<2.7,>=2.6.0 in /opt/conda/lib/python3.7/site-packages (from tensorflow~=2.6->tensorflow_decision_forests) (2.6.0)\r\n",
      "Requirement already satisfied: opt-einsum~=3.3.0 in /opt/conda/lib/python3.7/site-packages (from tensorflow~=2.6->tensorflow_decision_forests) (3.3.0)\r\n",
      "Collecting h5py~=3.1.0\r\n",
      "  Downloading h5py-3.1.0-cp37-cp37m-manylinux1_x86_64.whl (4.0 MB)\r\n",
      "\u001b[2K     \u001b[90m━━━━━━━━━━━━━━━━━━━━━━━━━━━━━━━━━━━━━━━━\u001b[0m \u001b[32m4.0/4.0 MB\u001b[0m \u001b[31m36.4 MB/s\u001b[0m eta \u001b[36m0:00:00\u001b[0m\r\n",
      "\u001b[?25hRequirement already satisfied: astunparse~=1.6.3 in /opt/conda/lib/python3.7/site-packages (from tensorflow~=2.6->tensorflow_decision_forests) (1.6.3)\r\n",
      "Requirement already satisfied: clang~=5.0 in /opt/conda/lib/python3.7/site-packages (from tensorflow~=2.6->tensorflow_decision_forests) (5.0)\r\n",
      "Requirement already satisfied: termcolor~=1.1.0 in /opt/conda/lib/python3.7/site-packages (from tensorflow~=2.6->tensorflow_decision_forests) (1.1.0)\r\n",
      "Requirement already satisfied: google-pasta~=0.2 in /opt/conda/lib/python3.7/site-packages (from tensorflow~=2.6->tensorflow_decision_forests) (0.2.0)\r\n",
      "Requirement already satisfied: protobuf>=3.9.2 in /opt/conda/lib/python3.7/site-packages (from tensorflow~=2.6->tensorflow_decision_forests) (3.19.4)\r\n",
      "Collecting typing-extensions<3.11,>=3.7\r\n",
      "  Downloading typing_extensions-3.10.0.2-py3-none-any.whl (26 kB)\r\n",
      "Requirement already satisfied: wrapt~=1.12.1 in /opt/conda/lib/python3.7/site-packages (from tensorflow~=2.6->tensorflow_decision_forests) (1.12.1)\r\n",
      "Requirement already satisfied: tensorflow-estimator<2.7,>=2.6.0 in /opt/conda/lib/python3.7/site-packages (from tensorflow~=2.6->tensorflow_decision_forests) (2.6.0)\r\n",
      "Requirement already satisfied: gast==0.4.0 in /opt/conda/lib/python3.7/site-packages (from tensorflow~=2.6->tensorflow_decision_forests) (0.4.0)\r\n",
      "Collecting numpy\r\n",
      "  Downloading numpy-1.19.5-cp37-cp37m-manylinux2010_x86_64.whl (14.8 MB)\r\n",
      "\u001b[2K     \u001b[90m━━━━━━━━━━━━━━━━━━━━━━━━━━━━━━━━━━━━━━━━\u001b[0m \u001b[32m14.8/14.8 MB\u001b[0m \u001b[31m72.6 MB/s\u001b[0m eta \u001b[36m0:00:00\u001b[0m\r\n",
      "\u001b[?25hRequirement already satisfied: flatbuffers~=1.12.0 in /opt/conda/lib/python3.7/site-packages (from tensorflow~=2.6->tensorflow_decision_forests) (1.12)\r\n",
      "Requirement already satisfied: keras-preprocessing~=1.1.2 in /opt/conda/lib/python3.7/site-packages (from tensorflow~=2.6->tensorflow_decision_forests) (1.1.2)\r\n",
      "Requirement already satisfied: grpcio<2.0,>=1.37.0 in /opt/conda/lib/python3.7/site-packages (from tensorflow~=2.6->tensorflow_decision_forests) (1.43.0)\r\n",
      "Collecting tensorboard<2.7,>=2.6.0\r\n",
      "  Downloading tensorboard-2.6.0-py3-none-any.whl (5.6 MB)\r\n",
      "\u001b[2K     \u001b[90m━━━━━━━━━━━━━━━━━━━━━━━━━━━━━━━━━━━━━━━━\u001b[0m \u001b[32m5.6/5.6 MB\u001b[0m \u001b[31m89.4 MB/s\u001b[0m eta \u001b[36m0:00:00\u001b[0m\r\n",
      "\u001b[?25hRequirement already satisfied: python-dateutil>=2.7.3 in /opt/conda/lib/python3.7/site-packages (from pandas->tensorflow_decision_forests) (2.8.2)\r\n",
      "Requirement already satisfied: pytz>=2017.3 in /opt/conda/lib/python3.7/site-packages (from pandas->tensorflow_decision_forests) (2022.1)\r\n",
      "Requirement already satisfied: cached-property in /opt/conda/lib/python3.7/site-packages (from h5py~=3.1.0->tensorflow~=2.6->tensorflow_decision_forests) (1.5.2)\r\n",
      "Requirement already satisfied: requests<3,>=2.21.0 in /opt/conda/lib/python3.7/site-packages (from tensorboard<2.7,>=2.6.0->tensorflow~=2.6->tensorflow_decision_forests) (2.28.1)\r\n",
      "Requirement already satisfied: markdown>=2.6.8 in /opt/conda/lib/python3.7/site-packages (from tensorboard<2.7,>=2.6.0->tensorflow~=2.6->tensorflow_decision_forests) (3.3.7)\r\n",
      "Requirement already satisfied: werkzeug>=0.11.15 in /opt/conda/lib/python3.7/site-packages (from tensorboard<2.7,>=2.6.0->tensorflow~=2.6->tensorflow_decision_forests) (2.2.2)\r\n",
      "Requirement already satisfied: setuptools>=41.0.0 in /opt/conda/lib/python3.7/site-packages (from tensorboard<2.7,>=2.6.0->tensorflow~=2.6->tensorflow_decision_forests) (59.8.0)\r\n",
      "Requirement already satisfied: google-auth<2,>=1.6.3 in /opt/conda/lib/python3.7/site-packages (from tensorboard<2.7,>=2.6.0->tensorflow~=2.6->tensorflow_decision_forests) (1.35.0)\r\n",
      "Requirement already satisfied: tensorboard-plugin-wit>=1.6.0 in /opt/conda/lib/python3.7/site-packages (from tensorboard<2.7,>=2.6.0->tensorflow~=2.6->tensorflow_decision_forests) (1.8.1)\r\n",
      "Requirement already satisfied: tensorboard-data-server<0.7.0,>=0.6.0 in /opt/conda/lib/python3.7/site-packages (from tensorboard<2.7,>=2.6.0->tensorflow~=2.6->tensorflow_decision_forests) (0.6.1)\r\n",
      "Requirement already satisfied: google-auth-oauthlib<0.5,>=0.4.1 in /opt/conda/lib/python3.7/site-packages (from tensorboard<2.7,>=2.6.0->tensorflow~=2.6->tensorflow_decision_forests) (0.4.6)\r\n",
      "Requirement already satisfied: rsa<5,>=3.1.4 in /opt/conda/lib/python3.7/site-packages (from google-auth<2,>=1.6.3->tensorboard<2.7,>=2.6.0->tensorflow~=2.6->tensorflow_decision_forests) (4.8)\r\n",
      "Requirement already satisfied: pyasn1-modules>=0.2.1 in /opt/conda/lib/python3.7/site-packages (from google-auth<2,>=1.6.3->tensorboard<2.7,>=2.6.0->tensorflow~=2.6->tensorflow_decision_forests) (0.2.7)\r\n",
      "Requirement already satisfied: cachetools<5.0,>=2.0.0 in /opt/conda/lib/python3.7/site-packages (from google-auth<2,>=1.6.3->tensorboard<2.7,>=2.6.0->tensorflow~=2.6->tensorflow_decision_forests) (4.2.4)\r\n",
      "Requirement already satisfied: requests-oauthlib>=0.7.0 in /opt/conda/lib/python3.7/site-packages (from google-auth-oauthlib<0.5,>=0.4.1->tensorboard<2.7,>=2.6.0->tensorflow~=2.6->tensorflow_decision_forests) (1.3.1)\r\n",
      "Requirement already satisfied: importlib-metadata>=4.4 in /opt/conda/lib/python3.7/site-packages (from markdown>=2.6.8->tensorboard<2.7,>=2.6.0->tensorflow~=2.6->tensorflow_decision_forests) (4.12.0)\r\n",
      "Requirement already satisfied: charset-normalizer<3,>=2 in /opt/conda/lib/python3.7/site-packages (from requests<3,>=2.21.0->tensorboard<2.7,>=2.6.0->tensorflow~=2.6->tensorflow_decision_forests) (2.1.0)\r\n",
      "Requirement already satisfied: certifi>=2017.4.17 in /opt/conda/lib/python3.7/site-packages (from requests<3,>=2.21.0->tensorboard<2.7,>=2.6.0->tensorflow~=2.6->tensorflow_decision_forests) (2022.6.15.2)\r\n",
      "Requirement already satisfied: urllib3<1.27,>=1.21.1 in /opt/conda/lib/python3.7/site-packages (from requests<3,>=2.21.0->tensorboard<2.7,>=2.6.0->tensorflow~=2.6->tensorflow_decision_forests) (1.26.12)\r\n",
      "Requirement already satisfied: idna<4,>=2.5 in /opt/conda/lib/python3.7/site-packages (from requests<3,>=2.21.0->tensorboard<2.7,>=2.6.0->tensorflow~=2.6->tensorflow_decision_forests) (3.3)\r\n",
      "Requirement already satisfied: MarkupSafe>=2.1.1 in /opt/conda/lib/python3.7/site-packages (from werkzeug>=0.11.15->tensorboard<2.7,>=2.6.0->tensorflow~=2.6->tensorflow_decision_forests) (2.1.1)\r\n",
      "Requirement already satisfied: zipp>=0.5 in /opt/conda/lib/python3.7/site-packages (from importlib-metadata>=4.4->markdown>=2.6.8->tensorboard<2.7,>=2.6.0->tensorflow~=2.6->tensorflow_decision_forests) (3.8.0)\r\n",
      "Requirement already satisfied: pyasn1<0.5.0,>=0.4.6 in /opt/conda/lib/python3.7/site-packages (from pyasn1-modules>=0.2.1->google-auth<2,>=1.6.3->tensorboard<2.7,>=2.6.0->tensorflow~=2.6->tensorflow_decision_forests) (0.4.8)\r\n",
      "Requirement already satisfied: oauthlib>=3.0.0 in /opt/conda/lib/python3.7/site-packages (from requests-oauthlib>=0.7.0->google-auth-oauthlib<0.5,>=0.4.1->tensorboard<2.7,>=2.6.0->tensorflow~=2.6->tensorflow_decision_forests) (3.2.0)\r\n",
      "Installing collected packages: typing-extensions, numpy, h5py, tensorboard\r\n",
      "  Attempting uninstall: typing-extensions\r\n",
      "    Found existing installation: typing_extensions 4.3.0\r\n",
      "    Uninstalling typing_extensions-4.3.0:\r\n",
      "      Successfully uninstalled typing_extensions-4.3.0\r\n",
      "  Attempting uninstall: numpy\r\n",
      "    Found existing installation: numpy 1.21.6\r\n",
      "    Uninstalling numpy-1.21.6:\r\n",
      "      Successfully uninstalled numpy-1.21.6\r\n",
      "  Attempting uninstall: h5py\r\n",
      "    Found existing installation: h5py 3.7.0\r\n",
      "    Uninstalling h5py-3.7.0:\r\n",
      "      Successfully uninstalled h5py-3.7.0\r\n",
      "  Attempting uninstall: tensorboard\r\n",
      "    Found existing installation: tensorboard 2.10.0\r\n",
      "    Uninstalling tensorboard-2.10.0:\r\n",
      "      Successfully uninstalled tensorboard-2.10.0\r\n",
      "\u001b[31mERROR: pip's dependency resolver does not currently take into account all the packages that are installed. This behaviour is the source of the following dependency conflicts.\r\n",
      "tensorflow-io 0.21.0 requires tensorflow-io-gcs-filesystem==0.21.0, which is not installed.\r\n",
      "beatrix-jupyterlab 3.1.7 requires google-cloud-bigquery-storage, which is not installed.\r\n",
      "xarray-einstats 0.2.2 requires numpy>=1.21, but you have numpy 1.19.5 which is incompatible.\r\n",
      "tfx-bsl 1.9.0 requires pyarrow<6,>=1, but you have pyarrow 8.0.0 which is incompatible.\r\n",
      "tfx-bsl 1.9.0 requires tensorflow!=2.0.*,!=2.1.*,!=2.2.*,!=2.3.*,!=2.4.*,!=2.5.*,!=2.6.*,!=2.7.*,!=2.8.*,<3,>=1.15.5, but you have tensorflow 2.6.4 which is incompatible.\r\n",
      "tensorflow-transform 1.9.0 requires pyarrow<6,>=1, but you have pyarrow 8.0.0 which is incompatible.\r\n",
      "tensorflow-transform 1.9.0 requires tensorflow!=2.0.*,!=2.1.*,!=2.2.*,!=2.3.*,!=2.4.*,!=2.5.*,!=2.6.*,!=2.7.*,!=2.8.*,<2.10,>=1.15.5, but you have tensorflow 2.6.4 which is incompatible.\r\n",
      "tensorflow-serving-api 2.9.0 requires tensorflow<3,>=2.9.0, but you have tensorflow 2.6.4 which is incompatible.\r\n",
      "pytorch-lightning 1.7.6 requires tensorboard>=2.9.1, but you have tensorboard 2.6.0 which is incompatible.\r\n",
      "pytorch-lightning 1.7.6 requires typing-extensions>=4.0.0, but you have typing-extensions 3.10.0.2 which is incompatible.\r\n",
      "pdpbox 0.2.1 requires matplotlib==3.1.1, but you have matplotlib 3.5.3 which is incompatible.\r\n",
      "pandas-profiling 3.1.0 requires markupsafe~=2.0.1, but you have markupsafe 2.1.1 which is incompatible.\r\n",
      "nnabla 1.30.0 requires numpy>=1.20.0, but you have numpy 1.19.5 which is incompatible.\r\n",
      "jax 0.3.17 requires numpy>=1.20, but you have numpy 1.19.5 which is incompatible.\r\n",
      "flax 0.6.0 requires rich~=11.1, but you have rich 12.1.0 which is incompatible.\r\n",
      "flax 0.6.0 requires typing-extensions>=4.1.1, but you have typing-extensions 3.10.0.2 which is incompatible.\r\n",
      "flake8 4.0.1 requires importlib-metadata<4.3; python_version < \"3.8\", but you have importlib-metadata 4.12.0 which is incompatible.\r\n",
      "featuretools 1.11.1 requires numpy>=1.21.0, but you have numpy 1.19.5 which is incompatible.\r\n",
      "cmdstanpy 1.0.7 requires numpy>=1.21, but you have numpy 1.19.5 which is incompatible.\r\n",
      "apache-beam 2.40.0 requires dill<0.3.2,>=0.3.1.1, but you have dill 0.3.5.1 which is incompatible.\r\n",
      "apache-beam 2.40.0 requires pyarrow<8.0.0,>=0.15.1, but you have pyarrow 8.0.0 which is incompatible.\r\n",
      "allennlp 2.10.0 requires h5py>=3.6.0, but you have h5py 3.1.0 which is incompatible.\r\n",
      "allennlp 2.10.0 requires numpy>=1.21.4, but you have numpy 1.19.5 which is incompatible.\r\n",
      "allennlp 2.10.0 requires protobuf==3.20.0, but you have protobuf 3.19.4 which is incompatible.\r\n",
      "aioitertools 0.10.0 requires typing_extensions>=4.0; python_version < \"3.10\", but you have typing-extensions 3.10.0.2 which is incompatible.\r\n",
      "aiobotocore 2.4.0 requires botocore<1.27.60,>=1.27.59, but you have botocore 1.27.72 which is incompatible.\u001b[0m\u001b[31m\r\n",
      "\u001b[0mSuccessfully installed h5py-3.1.0 numpy-1.19.5 tensorboard-2.6.0 typing-extensions-3.10.0.2\r\n",
      "\u001b[33mWARNING: Running pip as the 'root' user can result in broken permissions and conflicting behaviour with the system package manager. It is recommended to use a virtual environment instead: https://pip.pypa.io/warnings/venv\u001b[0m\u001b[33m\r\n",
      "\u001b[0mCollecting wurlitzer\r\n",
      "  Downloading wurlitzer-3.0.2-py3-none-any.whl (7.3 kB)\r\n",
      "Installing collected packages: wurlitzer\r\n",
      "Successfully installed wurlitzer-3.0.2\r\n",
      "\u001b[33mWARNING: Running pip as the 'root' user can result in broken permissions and conflicting behaviour with the system package manager. It is recommended to use a virtual environment instead: https://pip.pypa.io/warnings/venv\u001b[0m\u001b[33m\r\n",
      "\u001b[0m"
     ]
    }
   ],
   "source": [
    "!pip install tensorflow_decision_forests\n",
    "# wurlitzer is needed for displaying wurlitzer\n",
    "!pip install wurlitzer"
   ]
  },
  {
   "cell_type": "code",
   "execution_count": 3,
   "id": "4121649a",
   "metadata": {
    "execution": {
     "iopub.execute_input": "2022-10-14T05:53:41.443334Z",
     "iopub.status.busy": "2022-10-14T05:53:41.442994Z",
     "iopub.status.idle": "2022-10-14T05:53:48.132424Z",
     "shell.execute_reply": "2022-10-14T05:53:48.131082Z"
    },
    "papermill": {
     "duration": 6.713705,
     "end_time": "2022-10-14T05:53:48.135301",
     "exception": false,
     "start_time": "2022-10-14T05:53:41.421596",
     "status": "completed"
    },
    "tags": []
   },
   "outputs": [],
   "source": [
    "# Required imports\n",
    "import tensorflow_decision_forests as tfdf\n",
    "\n",
    "import os\n",
    "import numpy as np\n",
    "import pandas as pd\n",
    "import matplotlib.pyplot as plt\n",
    "import seaborn as sns\n",
    "import tensorflow as tf\n",
    "import math"
   ]
  },
  {
   "cell_type": "markdown",
   "id": "ccc35195",
   "metadata": {
    "papermill": {
     "duration": 0.019153,
     "end_time": "2022-10-14T05:53:48.174212",
     "exception": false,
     "start_time": "2022-10-14T05:53:48.155059",
     "status": "completed"
    },
    "tags": []
   },
   "source": [
    "## Load Data"
   ]
  },
  {
   "cell_type": "code",
   "execution_count": 4,
   "id": "d1692462",
   "metadata": {
    "execution": {
     "iopub.execute_input": "2022-10-14T05:53:48.215788Z",
     "iopub.status.busy": "2022-10-14T05:53:48.214629Z",
     "iopub.status.idle": "2022-10-14T05:53:48.268205Z",
     "shell.execute_reply": "2022-10-14T05:53:48.266843Z"
    },
    "papermill": {
     "duration": 0.076455,
     "end_time": "2022-10-14T05:53:48.270142",
     "exception": false,
     "start_time": "2022-10-14T05:53:48.193687",
     "status": "completed"
    },
    "tags": []
   },
   "outputs": [
    {
     "name": "stdout",
     "output_type": "stream",
     "text": [
      "<class 'pandas.core.frame.DataFrame'>\n",
      "RangeIndex: 891 entries, 0 to 890\n",
      "Data columns (total 12 columns):\n",
      " #   Column       Non-Null Count  Dtype  \n",
      "---  ------       --------------  -----  \n",
      " 0   PassengerId  891 non-null    int64  \n",
      " 1   Survived     891 non-null    int64  \n",
      " 2   Pclass       891 non-null    int64  \n",
      " 3   Name         891 non-null    object \n",
      " 4   Sex          891 non-null    object \n",
      " 5   Age          714 non-null    float64\n",
      " 6   SibSp        891 non-null    int64  \n",
      " 7   Parch        891 non-null    int64  \n",
      " 8   Ticket       891 non-null    object \n",
      " 9   Fare         891 non-null    float64\n",
      " 10  Cabin        204 non-null    object \n",
      " 11  Embarked     889 non-null    object \n",
      "dtypes: float64(2), int64(5), object(5)\n",
      "memory usage: 83.7+ KB\n"
     ]
    }
   ],
   "source": [
    "load_data = pd.read_csv('/kaggle/input/titanic/train.csv')\n",
    "testds = pd.read_csv('/kaggle/input/titanic/test.csv')\n",
    "load_data.info()"
   ]
  },
  {
   "cell_type": "code",
   "execution_count": 5,
   "id": "11a2d0b4",
   "metadata": {
    "execution": {
     "iopub.execute_input": "2022-10-14T05:53:48.313106Z",
     "iopub.status.busy": "2022-10-14T05:53:48.312394Z",
     "iopub.status.idle": "2022-10-14T05:53:48.334158Z",
     "shell.execute_reply": "2022-10-14T05:53:48.332805Z"
    },
    "papermill": {
     "duration": 0.045377,
     "end_time": "2022-10-14T05:53:48.336308",
     "exception": false,
     "start_time": "2022-10-14T05:53:48.290931",
     "status": "completed"
    },
    "tags": []
   },
   "outputs": [
    {
     "data": {
      "text/html": [
       "<div>\n",
       "<style scoped>\n",
       "    .dataframe tbody tr th:only-of-type {\n",
       "        vertical-align: middle;\n",
       "    }\n",
       "\n",
       "    .dataframe tbody tr th {\n",
       "        vertical-align: top;\n",
       "    }\n",
       "\n",
       "    .dataframe thead th {\n",
       "        text-align: right;\n",
       "    }\n",
       "</style>\n",
       "<table border=\"1\" class=\"dataframe\">\n",
       "  <thead>\n",
       "    <tr style=\"text-align: right;\">\n",
       "      <th></th>\n",
       "      <th>PassengerId</th>\n",
       "      <th>Survived</th>\n",
       "      <th>Pclass</th>\n",
       "      <th>Name</th>\n",
       "      <th>Sex</th>\n",
       "      <th>Age</th>\n",
       "      <th>SibSp</th>\n",
       "      <th>Parch</th>\n",
       "      <th>Ticket</th>\n",
       "      <th>Fare</th>\n",
       "      <th>Cabin</th>\n",
       "      <th>Embarked</th>\n",
       "    </tr>\n",
       "  </thead>\n",
       "  <tbody>\n",
       "    <tr>\n",
       "      <th>0</th>\n",
       "      <td>1</td>\n",
       "      <td>0</td>\n",
       "      <td>3</td>\n",
       "      <td>Braund, Mr. Owen Harris</td>\n",
       "      <td>male</td>\n",
       "      <td>22.0</td>\n",
       "      <td>1</td>\n",
       "      <td>0</td>\n",
       "      <td>A/5 21171</td>\n",
       "      <td>7.2500</td>\n",
       "      <td>NaN</td>\n",
       "      <td>S</td>\n",
       "    </tr>\n",
       "    <tr>\n",
       "      <th>1</th>\n",
       "      <td>2</td>\n",
       "      <td>1</td>\n",
       "      <td>1</td>\n",
       "      <td>Cumings, Mrs. John Bradley (Florence Briggs Th...</td>\n",
       "      <td>female</td>\n",
       "      <td>38.0</td>\n",
       "      <td>1</td>\n",
       "      <td>0</td>\n",
       "      <td>PC 17599</td>\n",
       "      <td>71.2833</td>\n",
       "      <td>C85</td>\n",
       "      <td>C</td>\n",
       "    </tr>\n",
       "    <tr>\n",
       "      <th>2</th>\n",
       "      <td>3</td>\n",
       "      <td>1</td>\n",
       "      <td>3</td>\n",
       "      <td>Heikkinen, Miss. Laina</td>\n",
       "      <td>female</td>\n",
       "      <td>26.0</td>\n",
       "      <td>0</td>\n",
       "      <td>0</td>\n",
       "      <td>STON/O2. 3101282</td>\n",
       "      <td>7.9250</td>\n",
       "      <td>NaN</td>\n",
       "      <td>S</td>\n",
       "    </tr>\n",
       "    <tr>\n",
       "      <th>3</th>\n",
       "      <td>4</td>\n",
       "      <td>1</td>\n",
       "      <td>1</td>\n",
       "      <td>Futrelle, Mrs. Jacques Heath (Lily May Peel)</td>\n",
       "      <td>female</td>\n",
       "      <td>35.0</td>\n",
       "      <td>1</td>\n",
       "      <td>0</td>\n",
       "      <td>113803</td>\n",
       "      <td>53.1000</td>\n",
       "      <td>C123</td>\n",
       "      <td>S</td>\n",
       "    </tr>\n",
       "    <tr>\n",
       "      <th>4</th>\n",
       "      <td>5</td>\n",
       "      <td>0</td>\n",
       "      <td>3</td>\n",
       "      <td>Allen, Mr. William Henry</td>\n",
       "      <td>male</td>\n",
       "      <td>35.0</td>\n",
       "      <td>0</td>\n",
       "      <td>0</td>\n",
       "      <td>373450</td>\n",
       "      <td>8.0500</td>\n",
       "      <td>NaN</td>\n",
       "      <td>S</td>\n",
       "    </tr>\n",
       "  </tbody>\n",
       "</table>\n",
       "</div>"
      ],
      "text/plain": [
       "   PassengerId  Survived  Pclass  \\\n",
       "0            1         0       3   \n",
       "1            2         1       1   \n",
       "2            3         1       3   \n",
       "3            4         1       1   \n",
       "4            5         0       3   \n",
       "\n",
       "                                                Name     Sex   Age  SibSp  \\\n",
       "0                            Braund, Mr. Owen Harris    male  22.0      1   \n",
       "1  Cumings, Mrs. John Bradley (Florence Briggs Th...  female  38.0      1   \n",
       "2                             Heikkinen, Miss. Laina  female  26.0      0   \n",
       "3       Futrelle, Mrs. Jacques Heath (Lily May Peel)  female  35.0      1   \n",
       "4                           Allen, Mr. William Henry    male  35.0      0   \n",
       "\n",
       "   Parch            Ticket     Fare Cabin Embarked  \n",
       "0      0         A/5 21171   7.2500   NaN        S  \n",
       "1      0          PC 17599  71.2833   C85        C  \n",
       "2      0  STON/O2. 3101282   7.9250   NaN        S  \n",
       "3      0            113803  53.1000  C123        S  \n",
       "4      0            373450   8.0500   NaN        S  "
      ]
     },
     "execution_count": 5,
     "metadata": {},
     "output_type": "execute_result"
    }
   ],
   "source": [
    "load_data.head()"
   ]
  },
  {
   "cell_type": "markdown",
   "id": "e0af6064",
   "metadata": {
    "papermill": {
     "duration": 0.019664,
     "end_time": "2022-10-14T05:53:48.375896",
     "exception": false,
     "start_time": "2022-10-14T05:53:48.356232",
     "status": "completed"
    },
    "tags": []
   },
   "source": [
    "## Data Analysis"
   ]
  },
  {
   "cell_type": "markdown",
   "id": "b1e5ade3",
   "metadata": {
    "papermill": {
     "duration": 0.022618,
     "end_time": "2022-10-14T05:53:48.421887",
     "exception": false,
     "start_time": "2022-10-14T05:53:48.399269",
     "status": "completed"
    },
    "tags": []
   },
   "source": [
    "* plot missing data"
   ]
  },
  {
   "cell_type": "code",
   "execution_count": 6,
   "id": "c28c0028",
   "metadata": {
    "execution": {
     "iopub.execute_input": "2022-10-14T05:53:48.474223Z",
     "iopub.status.busy": "2022-10-14T05:53:48.473268Z",
     "iopub.status.idle": "2022-10-14T05:53:48.479090Z",
     "shell.execute_reply": "2022-10-14T05:53:48.477947Z"
    },
    "papermill": {
     "duration": 0.034015,
     "end_time": "2022-10-14T05:53:48.481426",
     "exception": false,
     "start_time": "2022-10-14T05:53:48.447411",
     "status": "completed"
    },
    "tags": []
   },
   "outputs": [],
   "source": [
    "def plot_missing_data(dataset, title):\n",
    "    fig, ax = plt.subplots(figsize=(5,5))\n",
    "    plt.title(title)\n",
    "    sns.heatmap(dataset.isnull(),cbar=False)"
   ]
  },
  {
   "cell_type": "code",
   "execution_count": 7,
   "id": "4b309fc3",
   "metadata": {
    "execution": {
     "iopub.execute_input": "2022-10-14T05:53:48.523656Z",
     "iopub.status.busy": "2022-10-14T05:53:48.522239Z",
     "iopub.status.idle": "2022-10-14T05:53:48.843127Z",
     "shell.execute_reply": "2022-10-14T05:53:48.842068Z"
    },
    "papermill": {
     "duration": 0.344416,
     "end_time": "2022-10-14T05:53:48.845643",
     "exception": false,
     "start_time": "2022-10-14T05:53:48.501227",
     "status": "completed"
    },
    "tags": []
   },
   "outputs": [
    {
     "data": {
      "image/png": "[encoded data removed]",
      "text/plain": [
       "<Figure size 360x360 with 1 Axes>"
      ]
     },
     "metadata": {
      "needs_background": "light"
     },
     "output_type": "display_data"
    }
   ],
   "source": [
    "plot_missing_data(load_data, \"Training Dataset\")"
   ]
  },
  {
   "cell_type": "markdown",
   "id": "df43b98f",
   "metadata": {
    "papermill": {
     "duration": 0.02025,
     "end_time": "2022-10-14T05:53:48.887297",
     "exception": false,
     "start_time": "2022-10-14T05:53:48.867047",
     "status": "completed"
    },
    "tags": []
   },
   "source": [
    "* passengers who survived"
   ]
  },
  {
   "cell_type": "code",
   "execution_count": 8,
   "id": "53d3bf87",
   "metadata": {
    "execution": {
     "iopub.execute_input": "2022-10-14T05:53:48.929660Z",
     "iopub.status.busy": "2022-10-14T05:53:48.929340Z",
     "iopub.status.idle": "2022-10-14T05:53:48.937409Z",
     "shell.execute_reply": "2022-10-14T05:53:48.936082Z"
    },
    "papermill": {
     "duration": 0.031387,
     "end_time": "2022-10-14T05:53:48.939221",
     "exception": false,
     "start_time": "2022-10-14T05:53:48.907834",
     "status": "completed"
    },
    "tags": []
   },
   "outputs": [
    {
     "data": {
      "text/plain": [
       "0    549\n",
       "1    342\n",
       "Name: Survived, dtype: int64"
      ]
     },
     "execution_count": 8,
     "metadata": {},
     "output_type": "execute_result"
    }
   ],
   "source": [
    "load_data['Survived'].value_counts()"
   ]
  },
  {
   "cell_type": "code",
   "execution_count": 9,
   "id": "c14d4ede",
   "metadata": {
    "execution": {
     "iopub.execute_input": "2022-10-14T05:53:48.982665Z",
     "iopub.status.busy": "2022-10-14T05:53:48.982293Z",
     "iopub.status.idle": "2022-10-14T05:53:48.991961Z",
     "shell.execute_reply": "2022-10-14T05:53:48.990652Z"
    },
    "papermill": {
     "duration": 0.034399,
     "end_time": "2022-10-14T05:53:48.994368",
     "exception": false,
     "start_time": "2022-10-14T05:53:48.959969",
     "status": "completed"
    },
    "tags": []
   },
   "outputs": [
    {
     "data": {
      "text/plain": [
       "0    0.616162\n",
       "1    0.383838\n",
       "Name: Survived, dtype: float64"
      ]
     },
     "execution_count": 9,
     "metadata": {},
     "output_type": "execute_result"
    }
   ],
   "source": [
    "load_data['Survived'].value_counts(normalize=True)"
   ]
  },
  {
   "cell_type": "code",
   "execution_count": 10,
   "id": "ac4bb1f5",
   "metadata": {
    "execution": {
     "iopub.execute_input": "2022-10-14T05:53:49.038625Z",
     "iopub.status.busy": "2022-10-14T05:53:49.038049Z",
     "iopub.status.idle": "2022-10-14T05:53:49.044180Z",
     "shell.execute_reply": "2022-10-14T05:53:49.042831Z"
    },
    "papermill": {
     "duration": 0.031586,
     "end_time": "2022-10-14T05:53:49.046898",
     "exception": false,
     "start_time": "2022-10-14T05:53:49.015312",
     "status": "completed"
    },
    "tags": []
   },
   "outputs": [],
   "source": [
    "def bar_chart_stacked(dataset, feature, stacked=True):\n",
    "    survived = dataset[dataset[\"Survived\"]==1][feature].value_counts()\n",
    "    dead = dataset[dataset['Survived']==0][feature].value_counts()\n",
    "    df_survived_dead = pd.DataFrame([survived,dead])\n",
    "    df_survived_dead.index = ['Passengers Survived','Passengers Died']\n",
    "    ax = df_survived_dead.plot(kind='bar',stacked=stacked,figsize=(5,5))\n",
    "    \n",
    "    "
   ]
  },
  {
   "cell_type": "code",
   "execution_count": 11,
   "id": "9039d76b",
   "metadata": {
    "execution": {
     "iopub.execute_input": "2022-10-14T05:53:49.090036Z",
     "iopub.status.busy": "2022-10-14T05:53:49.089371Z",
     "iopub.status.idle": "2022-10-14T05:53:49.260229Z",
     "shell.execute_reply": "2022-10-14T05:53:49.259132Z"
    },
    "papermill": {
     "duration": 0.194448,
     "end_time": "2022-10-14T05:53:49.262230",
     "exception": false,
     "start_time": "2022-10-14T05:53:49.067782",
     "status": "completed"
    },
    "tags": []
   },
   "outputs": [
    {
     "data": {
      "image/png": "[encoded data removed]",
      "text/plain": [
       "<Figure size 360x360 with 1 Axes>"
      ]
     },
     "metadata": {
      "needs_background": "light"
     },
     "output_type": "display_data"
    }
   ],
   "source": [
    "bar_chart_stacked(load_data, \"Survived\")"
   ]
  },
  {
   "cell_type": "code",
   "execution_count": 12,
   "id": "135636c2",
   "metadata": {
    "execution": {
     "iopub.execute_input": "2022-10-14T05:53:49.304907Z",
     "iopub.status.busy": "2022-10-14T05:53:49.304568Z",
     "iopub.status.idle": "2022-10-14T05:53:49.313957Z",
     "shell.execute_reply": "2022-10-14T05:53:49.312949Z"
    },
    "papermill": {
     "duration": 0.033069,
     "end_time": "2022-10-14T05:53:49.315937",
     "exception": false,
     "start_time": "2022-10-14T05:53:49.282868",
     "status": "completed"
    },
    "tags": []
   },
   "outputs": [
    {
     "data": {
      "text/html": [
       "<div>\n",
       "<style scoped>\n",
       "    .dataframe tbody tr th:only-of-type {\n",
       "        vertical-align: middle;\n",
       "    }\n",
       "\n",
       "    .dataframe tbody tr th {\n",
       "        vertical-align: top;\n",
       "    }\n",
       "\n",
       "    .dataframe thead th {\n",
       "        text-align: right;\n",
       "    }\n",
       "</style>\n",
       "<table border=\"1\" class=\"dataframe\">\n",
       "  <thead>\n",
       "    <tr style=\"text-align: right;\">\n",
       "      <th></th>\n",
       "      <th>Sex</th>\n",
       "    </tr>\n",
       "  </thead>\n",
       "  <tbody>\n",
       "    <tr>\n",
       "      <th>male</th>\n",
       "      <td>577</td>\n",
       "    </tr>\n",
       "    <tr>\n",
       "      <th>female</th>\n",
       "      <td>314</td>\n",
       "    </tr>\n",
       "  </tbody>\n",
       "</table>\n",
       "</div>"
      ],
      "text/plain": [
       "        Sex\n",
       "male    577\n",
       "female  314"
      ]
     },
     "execution_count": 12,
     "metadata": {},
     "output_type": "execute_result"
    }
   ],
   "source": [
    "load_data['Sex'].value_counts().to_frame()"
   ]
  },
  {
   "cell_type": "code",
   "execution_count": 13,
   "id": "e6d749e4",
   "metadata": {
    "execution": {
     "iopub.execute_input": "2022-10-14T05:53:49.358496Z",
     "iopub.status.busy": "2022-10-14T05:53:49.358159Z",
     "iopub.status.idle": "2022-10-14T05:53:49.369403Z",
     "shell.execute_reply": "2022-10-14T05:53:49.368109Z"
    },
    "papermill": {
     "duration": 0.035494,
     "end_time": "2022-10-14T05:53:49.371930",
     "exception": false,
     "start_time": "2022-10-14T05:53:49.336436",
     "status": "completed"
    },
    "tags": []
   },
   "outputs": [
    {
     "data": {
      "text/plain": [
       "Sex\n",
       "female    0.742038\n",
       "male      0.188908\n",
       "Name: Survived, dtype: float64"
      ]
     },
     "execution_count": 13,
     "metadata": {},
     "output_type": "execute_result"
    }
   ],
   "source": [
    "load_data.groupby('Sex').Survived.mean()"
   ]
  },
  {
   "cell_type": "code",
   "execution_count": 14,
   "id": "43adbb93",
   "metadata": {
    "execution": {
     "iopub.execute_input": "2022-10-14T05:53:49.415278Z",
     "iopub.status.busy": "2022-10-14T05:53:49.414838Z",
     "iopub.status.idle": "2022-10-14T05:53:49.576501Z",
     "shell.execute_reply": "2022-10-14T05:53:49.574777Z"
    },
    "papermill": {
     "duration": 0.186358,
     "end_time": "2022-10-14T05:53:49.579309",
     "exception": false,
     "start_time": "2022-10-14T05:53:49.392951",
     "status": "completed"
    },
    "tags": []
   },
   "outputs": [
    {
     "data": {
      "image/png": "[encoded data removed]",
      "text/plain": [
       "<Figure size 360x360 with 1 Axes>"
      ]
     },
     "metadata": {
      "needs_background": "light"
     },
     "output_type": "display_data"
    }
   ],
   "source": [
    "bar_chart_stacked(load_data, 'Sex')"
   ]
  },
  {
   "cell_type": "code",
   "execution_count": 15,
   "id": "ca3aed87",
   "metadata": {
    "execution": {
     "iopub.execute_input": "2022-10-14T05:53:49.624158Z",
     "iopub.status.busy": "2022-10-14T05:53:49.623335Z",
     "iopub.status.idle": "2022-10-14T05:53:49.645528Z",
     "shell.execute_reply": "2022-10-14T05:53:49.644027Z"
    },
    "papermill": {
     "duration": 0.046711,
     "end_time": "2022-10-14T05:53:49.647960",
     "exception": false,
     "start_time": "2022-10-14T05:53:49.601249",
     "status": "completed"
    },
    "tags": []
   },
   "outputs": [
    {
     "data": {
      "text/html": [
       "<div>\n",
       "<style scoped>\n",
       "    .dataframe tbody tr th:only-of-type {\n",
       "        vertical-align: middle;\n",
       "    }\n",
       "\n",
       "    .dataframe tbody tr th {\n",
       "        vertical-align: top;\n",
       "    }\n",
       "\n",
       "    .dataframe thead th {\n",
       "        text-align: right;\n",
       "    }\n",
       "</style>\n",
       "<table border=\"1\" class=\"dataframe\">\n",
       "  <thead>\n",
       "    <tr style=\"text-align: right;\">\n",
       "      <th>Pclass</th>\n",
       "      <th>1</th>\n",
       "      <th>2</th>\n",
       "      <th>3</th>\n",
       "    </tr>\n",
       "    <tr>\n",
       "      <th>Survived</th>\n",
       "      <th></th>\n",
       "      <th></th>\n",
       "      <th></th>\n",
       "    </tr>\n",
       "  </thead>\n",
       "  <tbody>\n",
       "    <tr>\n",
       "      <th>0</th>\n",
       "      <td>80</td>\n",
       "      <td>97</td>\n",
       "      <td>372</td>\n",
       "    </tr>\n",
       "    <tr>\n",
       "      <th>1</th>\n",
       "      <td>136</td>\n",
       "      <td>87</td>\n",
       "      <td>119</td>\n",
       "    </tr>\n",
       "  </tbody>\n",
       "</table>\n",
       "</div>"
      ],
      "text/plain": [
       "Pclass      1   2    3\n",
       "Survived              \n",
       "0          80  97  372\n",
       "1         136  87  119"
      ]
     },
     "execution_count": 15,
     "metadata": {},
     "output_type": "execute_result"
    }
   ],
   "source": [
    "pd.pivot_table(load_data, index=\"Survived\", columns=\"Pclass\", values='Ticket', aggfunc='count')"
   ]
  },
  {
   "cell_type": "code",
   "execution_count": 16,
   "id": "0dea9f91",
   "metadata": {
    "execution": {
     "iopub.execute_input": "2022-10-14T05:53:49.693019Z",
     "iopub.status.busy": "2022-10-14T05:53:49.692626Z",
     "iopub.status.idle": "2022-10-14T05:53:49.704429Z",
     "shell.execute_reply": "2022-10-14T05:53:49.702769Z"
    },
    "papermill": {
     "duration": 0.037493,
     "end_time": "2022-10-14T05:53:49.706861",
     "exception": false,
     "start_time": "2022-10-14T05:53:49.669368",
     "status": "completed"
    },
    "tags": []
   },
   "outputs": [
    {
     "data": {
      "text/html": [
       "<div>\n",
       "<style scoped>\n",
       "    .dataframe tbody tr th:only-of-type {\n",
       "        vertical-align: middle;\n",
       "    }\n",
       "\n",
       "    .dataframe tbody tr th {\n",
       "        vertical-align: top;\n",
       "    }\n",
       "\n",
       "    .dataframe thead th {\n",
       "        text-align: right;\n",
       "    }\n",
       "</style>\n",
       "<table border=\"1\" class=\"dataframe\">\n",
       "  <thead>\n",
       "    <tr style=\"text-align: right;\">\n",
       "      <th></th>\n",
       "      <th>Survived</th>\n",
       "    </tr>\n",
       "    <tr>\n",
       "      <th>Pclass</th>\n",
       "      <th></th>\n",
       "    </tr>\n",
       "  </thead>\n",
       "  <tbody>\n",
       "    <tr>\n",
       "      <th>1</th>\n",
       "      <td>0.629630</td>\n",
       "    </tr>\n",
       "    <tr>\n",
       "      <th>2</th>\n",
       "      <td>0.472826</td>\n",
       "    </tr>\n",
       "    <tr>\n",
       "      <th>3</th>\n",
       "      <td>0.242363</td>\n",
       "    </tr>\n",
       "  </tbody>\n",
       "</table>\n",
       "</div>"
      ],
      "text/plain": [
       "        Survived\n",
       "Pclass          \n",
       "1       0.629630\n",
       "2       0.472826\n",
       "3       0.242363"
      ]
     },
     "execution_count": 16,
     "metadata": {},
     "output_type": "execute_result"
    }
   ],
   "source": [
    "load_data.groupby(['Pclass']).Survived.mean().to_frame()"
   ]
  },
  {
   "cell_type": "code",
   "execution_count": 17,
   "id": "e37a61d8",
   "metadata": {
    "execution": {
     "iopub.execute_input": "2022-10-14T05:53:49.751241Z",
     "iopub.status.busy": "2022-10-14T05:53:49.750864Z",
     "iopub.status.idle": "2022-10-14T05:53:49.914001Z",
     "shell.execute_reply": "2022-10-14T05:53:49.912737Z"
    },
    "papermill": {
     "duration": 0.187599,
     "end_time": "2022-10-14T05:53:49.916118",
     "exception": false,
     "start_time": "2022-10-14T05:53:49.728519",
     "status": "completed"
    },
    "tags": []
   },
   "outputs": [
    {
     "data": {
      "image/png": "[encoded data removed]",
      "text/plain": [
       "<Figure size 360x360 with 1 Axes>"
      ]
     },
     "metadata": {
      "needs_background": "light"
     },
     "output_type": "display_data"
    }
   ],
   "source": [
    "bar_chart_stacked(load_data, 'Pclass')"
   ]
  },
  {
   "cell_type": "code",
   "execution_count": 18,
   "id": "1bc7df8c",
   "metadata": {
    "execution": {
     "iopub.execute_input": "2022-10-14T05:53:49.960870Z",
     "iopub.status.busy": "2022-10-14T05:53:49.960481Z",
     "iopub.status.idle": "2022-10-14T05:53:49.966941Z",
     "shell.execute_reply": "2022-10-14T05:53:49.965799Z"
    },
    "papermill": {
     "duration": 0.031397,
     "end_time": "2022-10-14T05:53:49.969043",
     "exception": false,
     "start_time": "2022-10-14T05:53:49.937646",
     "status": "completed"
    },
    "tags": []
   },
   "outputs": [],
   "source": [
    "def bar_chart_compare(dataset, feature1, feature2=None, title=None):\n",
    "    plt.figure(figsize = [5,5])\n",
    "    plt.title(title)\n",
    "    g = sns.barplot(x=feature1, y='Survived', hue=feature2, ci=None, data=dataset).set_ylabel('Survival rate')"
   ]
  },
  {
   "cell_type": "code",
   "execution_count": 19,
   "id": "a9fda72d",
   "metadata": {
    "execution": {
     "iopub.execute_input": "2022-10-14T05:53:50.014056Z",
     "iopub.status.busy": "2022-10-14T05:53:50.013670Z",
     "iopub.status.idle": "2022-10-14T05:53:50.175336Z",
     "shell.execute_reply": "2022-10-14T05:53:50.174479Z"
    },
    "papermill": {
     "duration": 0.186813,
     "end_time": "2022-10-14T05:53:50.177398",
     "exception": false,
     "start_time": "2022-10-14T05:53:49.990585",
     "status": "completed"
    },
    "tags": []
   },
   "outputs": [
    {
     "data": {
      "image/png": "[encoded data removed]",
      "text/plain": [
       "<Figure size 360x360 with 1 Axes>"
      ]
     },
     "metadata": {
      "needs_background": "light"
     },
     "output_type": "display_data"
    }
   ],
   "source": [
    "bar_chart_compare(load_data, \"Pclass\", \"Sex\")"
   ]
  },
  {
   "cell_type": "code",
   "execution_count": 20,
   "id": "b233ac34",
   "metadata": {
    "execution": {
     "iopub.execute_input": "2022-10-14T05:53:50.223633Z",
     "iopub.status.busy": "2022-10-14T05:53:50.223301Z",
     "iopub.status.idle": "2022-10-14T05:53:50.236176Z",
     "shell.execute_reply": "2022-10-14T05:53:50.234973Z"
    },
    "papermill": {
     "duration": 0.03839,
     "end_time": "2022-10-14T05:53:50.238338",
     "exception": false,
     "start_time": "2022-10-14T05:53:50.199948",
     "status": "completed"
    },
    "tags": []
   },
   "outputs": [
    {
     "data": {
      "text/html": [
       "<div>\n",
       "<style scoped>\n",
       "    .dataframe tbody tr th:only-of-type {\n",
       "        vertical-align: middle;\n",
       "    }\n",
       "\n",
       "    .dataframe tbody tr th {\n",
       "        vertical-align: top;\n",
       "    }\n",
       "\n",
       "    .dataframe thead th {\n",
       "        text-align: right;\n",
       "    }\n",
       "</style>\n",
       "<table border=\"1\" class=\"dataframe\">\n",
       "  <thead>\n",
       "    <tr style=\"text-align: right;\">\n",
       "      <th></th>\n",
       "      <th></th>\n",
       "      <th>Survived</th>\n",
       "    </tr>\n",
       "    <tr>\n",
       "      <th>Pclass</th>\n",
       "      <th>Sex</th>\n",
       "      <th></th>\n",
       "    </tr>\n",
       "  </thead>\n",
       "  <tbody>\n",
       "    <tr>\n",
       "      <th rowspan=\"2\" valign=\"top\">1</th>\n",
       "      <th>female</th>\n",
       "      <td>0.968085</td>\n",
       "    </tr>\n",
       "    <tr>\n",
       "      <th>male</th>\n",
       "      <td>0.368852</td>\n",
       "    </tr>\n",
       "    <tr>\n",
       "      <th rowspan=\"2\" valign=\"top\">2</th>\n",
       "      <th>female</th>\n",
       "      <td>0.921053</td>\n",
       "    </tr>\n",
       "    <tr>\n",
       "      <th>male</th>\n",
       "      <td>0.157407</td>\n",
       "    </tr>\n",
       "    <tr>\n",
       "      <th rowspan=\"2\" valign=\"top\">3</th>\n",
       "      <th>female</th>\n",
       "      <td>0.500000</td>\n",
       "    </tr>\n",
       "    <tr>\n",
       "      <th>male</th>\n",
       "      <td>0.135447</td>\n",
       "    </tr>\n",
       "  </tbody>\n",
       "</table>\n",
       "</div>"
      ],
      "text/plain": [
       "               Survived\n",
       "Pclass Sex             \n",
       "1      female  0.968085\n",
       "       male    0.368852\n",
       "2      female  0.921053\n",
       "       male    0.157407\n",
       "3      female  0.500000\n",
       "       male    0.135447"
      ]
     },
     "execution_count": 20,
     "metadata": {},
     "output_type": "execute_result"
    }
   ],
   "source": [
    "load_data.groupby(['Pclass', 'Sex']).Survived.mean().to_frame()"
   ]
  },
  {
   "cell_type": "markdown",
   "id": "1a331704",
   "metadata": {
    "papermill": {
     "duration": 0.021911,
     "end_time": "2022-10-14T05:53:50.282916",
     "exception": false,
     "start_time": "2022-10-14T05:53:50.261005",
     "status": "completed"
    },
    "tags": []
   },
   "source": [
    "* function to plot histogram and kernel density estimate"
   ]
  },
  {
   "cell_type": "code",
   "execution_count": 21,
   "id": "04ea5ccc",
   "metadata": {
    "execution": {
     "iopub.execute_input": "2022-10-14T05:53:50.330284Z",
     "iopub.status.busy": "2022-10-14T05:53:50.329019Z",
     "iopub.status.idle": "2022-10-14T05:53:50.337064Z",
     "shell.execute_reply": "2022-10-14T05:53:50.336251Z"
    },
    "papermill": {
     "duration": 0.033752,
     "end_time": "2022-10-14T05:53:50.339134",
     "exception": false,
     "start_time": "2022-10-14T05:53:50.305382",
     "status": "completed"
    },
    "tags": []
   },
   "outputs": [],
   "source": [
    "def plot_distribution(dataset, feature, title, bins=30, hist=True, fsize= (5,5)):\n",
    "    fig, ax = plt.subplots(figsize=fsize)\n",
    "    ax.set_title(title)\n",
    "    sns.distplot(load_data[feature], color='g', bins=bins, ax=ax)\n",
    "    \n",
    "def plot_kernel_density_estimate_survivors(dataset, feature1, title, fsize=(5,5)):\n",
    "    fig, ax = plt.subplots(figsize=fsize)\n",
    "    ax.set_title(title)\n",
    "    sns.kdeplot(dataset[feature1].loc[load_data[\"Survived\"]==1],\n",
    "               shade=True, ax=ax, label='Survived').set_xlabel(feature1)\n",
    "    sns.kdeplot(dataset[feature1].loc[load_data[\"Survived\"]==0],\n",
    "               shade=True, ax=ax, label=\"Died\")"
   ]
  },
  {
   "cell_type": "code",
   "execution_count": 22,
   "id": "bfe21310",
   "metadata": {
    "execution": {
     "iopub.execute_input": "2022-10-14T05:53:50.385311Z",
     "iopub.status.busy": "2022-10-14T05:53:50.384902Z",
     "iopub.status.idle": "2022-10-14T05:53:50.620672Z",
     "shell.execute_reply": "2022-10-14T05:53:50.619504Z"
    },
    "papermill": {
     "duration": 0.262377,
     "end_time": "2022-10-14T05:53:50.623581",
     "exception": false,
     "start_time": "2022-10-14T05:53:50.361204",
     "status": "completed"
    },
    "tags": []
   },
   "outputs": [
    {
     "name": "stderr",
     "output_type": "stream",
     "text": [
      "/opt/conda/lib/python3.7/site-packages/seaborn/distributions.py:2619: FutureWarning: `distplot` is a deprecated function and will be removed in a future version. Please adapt your code to use either `displot` (a figure-level function with similar flexibility) or `histplot` (an axes-level function for histograms).\n",
      "  warnings.warn(msg, FutureWarning)\n"
     ]
    },
    {
     "data": {
      "image/png": "[encoded data removed]",
      "text/plain": [
       "<Figure size 360x360 with 1 Axes>"
      ]
     },
     "metadata": {
      "needs_background": "light"
     },
     "output_type": "display_data"
    }
   ],
   "source": [
    "plot_distribution(load_data, \"Age\", \"Age Distribution Passengers\")"
   ]
  },
  {
   "cell_type": "code",
   "execution_count": 23,
   "id": "7089e1a2",
   "metadata": {
    "execution": {
     "iopub.execute_input": "2022-10-14T05:53:50.671031Z",
     "iopub.status.busy": "2022-10-14T05:53:50.670210Z",
     "iopub.status.idle": "2022-10-14T05:53:50.853967Z",
     "shell.execute_reply": "2022-10-14T05:53:50.852869Z"
    },
    "papermill": {
     "duration": 0.210013,
     "end_time": "2022-10-14T05:53:50.856308",
     "exception": false,
     "start_time": "2022-10-14T05:53:50.646295",
     "status": "completed"
    },
    "tags": []
   },
   "outputs": [
    {
     "data": {
      "image/png": "[encoded data removed]",
      "text/plain": [
       "<Figure size 360x360 with 1 Axes>"
      ]
     },
     "metadata": {
      "needs_background": "light"
     },
     "output_type": "display_data"
    }
   ],
   "source": [
    "plot_kernel_density_estimate_survivors(load_data, \"Age\", \"Age Distribution survived vs Died\")"
   ]
  },
  {
   "cell_type": "code",
   "execution_count": 24,
   "id": "abbb0564",
   "metadata": {
    "execution": {
     "iopub.execute_input": "2022-10-14T05:53:50.904159Z",
     "iopub.status.busy": "2022-10-14T05:53:50.903125Z",
     "iopub.status.idle": "2022-10-14T05:53:50.910282Z",
     "shell.execute_reply": "2022-10-14T05:53:50.908911Z"
    },
    "papermill": {
     "duration": 0.033382,
     "end_time": "2022-10-14T05:53:50.912979",
     "exception": false,
     "start_time": "2022-10-14T05:53:50.879597",
     "status": "completed"
    },
    "tags": []
   },
   "outputs": [],
   "source": [
    "def plot_swarm_survivors(dataset, feature1, feature2, title, fsize= (155)):\n",
    "    fig, ax = plt.subplots(figsize=(18,5))\n",
    "    # Turns off grid on the left Axis\n",
    "    ax.grid(True)\n",
    "    plt.xticks(list(range(0,100,2)))\n",
    "    sns.swarmplot(y=feature1, x=feature2, hue='Survived', data=load_data).set_title(title)"
   ]
  },
  {
   "cell_type": "code",
   "execution_count": 25,
   "id": "1debaec3",
   "metadata": {
    "execution": {
     "iopub.execute_input": "2022-10-14T05:53:50.959393Z",
     "iopub.status.busy": "2022-10-14T05:53:50.959017Z",
     "iopub.status.idle": "2022-10-14T05:53:51.582952Z",
     "shell.execute_reply": "2022-10-14T05:53:51.581470Z"
    },
    "papermill": {
     "duration": 0.650985,
     "end_time": "2022-10-14T05:53:51.586476",
     "exception": false,
     "start_time": "2022-10-14T05:53:50.935491",
     "status": "completed"
    },
    "tags": []
   },
   "outputs": [
    {
     "data": {
      "image/png": "[encoded data removed]",
      "text/plain": [
       "<Figure size 1296x360 with 1 Axes>"
      ]
     },
     "metadata": {
      "needs_background": "light"
     },
     "output_type": "display_data"
    }
   ],
   "source": [
    "plot_swarm_survivors(load_data, \"Sex\", \"Age\", \"Survivor Swarmplot for Age and Gender\")"
   ]
  },
  {
   "cell_type": "code",
   "execution_count": 26,
   "id": "d26454fd",
   "metadata": {
    "execution": {
     "iopub.execute_input": "2022-10-14T05:53:51.643164Z",
     "iopub.status.busy": "2022-10-14T05:53:51.642205Z",
     "iopub.status.idle": "2022-10-14T05:53:52.235340Z",
     "shell.execute_reply": "2022-10-14T05:53:52.234523Z"
    },
    "papermill": {
     "duration": 0.620697,
     "end_time": "2022-10-14T05:53:52.237207",
     "exception": false,
     "start_time": "2022-10-14T05:53:51.616510",
     "status": "completed"
    },
    "tags": []
   },
   "outputs": [
    {
     "data": {
      "image/png": "[encoded data removed]",
      "text/plain": [
       "<Figure size 1296x360 with 1 Axes>"
      ]
     },
     "metadata": {
      "needs_background": "light"
     },
     "output_type": "display_data"
    }
   ],
   "source": [
    "plot_swarm_survivors(load_data, \"Age\", \"Pclass\", \"Survivor Swarmplot for Age and Gender\")"
   ]
  },
  {
   "cell_type": "code",
   "execution_count": 27,
   "id": "f1ec4c74",
   "metadata": {
    "execution": {
     "iopub.execute_input": "2022-10-14T05:53:52.289306Z",
     "iopub.status.busy": "2022-10-14T05:53:52.288921Z",
     "iopub.status.idle": "2022-10-14T05:53:52.506776Z",
     "shell.execute_reply": "2022-10-14T05:53:52.505435Z"
    },
    "papermill": {
     "duration": 0.247199,
     "end_time": "2022-10-14T05:53:52.509062",
     "exception": false,
     "start_time": "2022-10-14T05:53:52.261863",
     "status": "completed"
    },
    "tags": []
   },
   "outputs": [
    {
     "name": "stderr",
     "output_type": "stream",
     "text": [
      "/opt/conda/lib/python3.7/site-packages/seaborn/distributions.py:2619: FutureWarning: `distplot` is a deprecated function and will be removed in a future version. Please adapt your code to use either `displot` (a figure-level function with similar flexibility) or `histplot` (an axes-level function for histograms).\n",
      "  warnings.warn(msg, FutureWarning)\n"
     ]
    },
    {
     "data": {
      "image/png": "[encoded data removed]",
      "text/plain": [
       "<Figure size 360x360 with 1 Axes>"
      ]
     },
     "metadata": {
      "needs_background": "light"
     },
     "output_type": "display_data"
    }
   ],
   "source": [
    "plot_distribution(load_data, \"Fare\", \"Fare Distribution Passengers\")"
   ]
  },
  {
   "cell_type": "code",
   "execution_count": 28,
   "id": "59f36781",
   "metadata": {
    "execution": {
     "iopub.execute_input": "2022-10-14T05:53:52.561633Z",
     "iopub.status.busy": "2022-10-14T05:53:52.560633Z",
     "iopub.status.idle": "2022-10-14T05:53:52.567296Z",
     "shell.execute_reply": "2022-10-14T05:53:52.566341Z"
    },
    "papermill": {
     "duration": 0.035044,
     "end_time": "2022-10-14T05:53:52.569163",
     "exception": false,
     "start_time": "2022-10-14T05:53:52.534119",
     "status": "completed"
    },
    "tags": []
   },
   "outputs": [],
   "source": [
    "def plot_quartiles(dataset, feature, title, categories):\n",
    "    fig, axarr = plt.subplots(figsize=(5,5))\n",
    "    fare_ranges = pd.qcut(dataset[feature], len(categories), labels = categories) #. [0, .25, .5, .75, 1.]\n",
    "    axarr.set_title(title)\n",
    "    sns.barplot(x=fare_ranges, y=dataset.Survived, ci=None, ax=axarr).set_ylabel('Survival rate')"
   ]
  },
  {
   "cell_type": "code",
   "execution_count": 29,
   "id": "158a4c02",
   "metadata": {
    "execution": {
     "iopub.execute_input": "2022-10-14T05:53:52.623067Z",
     "iopub.status.busy": "2022-10-14T05:53:52.621872Z",
     "iopub.status.idle": "2022-10-14T05:53:52.775201Z",
     "shell.execute_reply": "2022-10-14T05:53:52.774039Z"
    },
    "papermill": {
     "duration": 0.181608,
     "end_time": "2022-10-14T05:53:52.777124",
     "exception": false,
     "start_time": "2022-10-14T05:53:52.595516",
     "status": "completed"
    },
    "tags": []
   },
   "outputs": [
    {
     "data": {
      "image/png": "[encoded data removed]",
      "text/plain": [
       "<Figure size 360x360 with 1 Axes>"
      ]
     },
     "metadata": {
      "needs_background": "light"
     },
     "output_type": "display_data"
    }
   ],
   "source": [
    "categories = ['cheap','Standard','Expensive','Luxury']\n",
    "\n",
    "plot_quartiles(load_data, \"Fare\", \"Survival Rate by Fare Ranges/Categories\", categories)"
   ]
  },
  {
   "cell_type": "code",
   "execution_count": 30,
   "id": "38b21b48",
   "metadata": {
    "execution": {
     "iopub.execute_input": "2022-10-14T05:53:52.828283Z",
     "iopub.status.busy": "2022-10-14T05:53:52.827946Z",
     "iopub.status.idle": "2022-10-14T05:53:56.432742Z",
     "shell.execute_reply": "2022-10-14T05:53:56.431545Z"
    },
    "papermill": {
     "duration": 3.632625,
     "end_time": "2022-10-14T05:53:56.434498",
     "exception": false,
     "start_time": "2022-10-14T05:53:52.801873",
     "status": "completed"
    },
    "tags": []
   },
   "outputs": [
    {
     "name": "stderr",
     "output_type": "stream",
     "text": [
      "/opt/conda/lib/python3.7/site-packages/seaborn/categorical.py:1296: UserWarning: 45.8% of the points cannot be placed; you may want to decrease the size of the markers or use stripplot.\n",
      "  warnings.warn(msg, UserWarning)\n",
      "/opt/conda/lib/python3.7/site-packages/seaborn/categorical.py:1296: UserWarning: 16.2% of the points cannot be placed; you may want to decrease the size of the markers or use stripplot.\n",
      "  warnings.warn(msg, UserWarning)\n"
     ]
    },
    {
     "data": {
      "image/png": "[encoded data removed]",
      "text/plain": [
       "<Figure size 1296x360 with 1 Axes>"
      ]
     },
     "metadata": {
      "needs_background": "light"
     },
     "output_type": "display_data"
    }
   ],
   "source": [
    "plot_swarm_survivors(load_data, \"Fare\",\"Sex\",\"Survivor Swarmplot for Age and Gender\")"
   ]
  },
  {
   "cell_type": "markdown",
   "id": "4f73b439",
   "metadata": {
    "papermill": {
     "duration": 0.025378,
     "end_time": "2022-10-14T05:53:56.485269",
     "exception": false,
     "start_time": "2022-10-14T05:53:56.459891",
     "status": "completed"
    },
    "tags": []
   },
   "source": [
    "fares for free?"
   ]
  },
  {
   "cell_type": "code",
   "execution_count": 31,
   "id": "b5f7c144",
   "metadata": {
    "execution": {
     "iopub.execute_input": "2022-10-14T05:53:56.539075Z",
     "iopub.status.busy": "2022-10-14T05:53:56.538468Z",
     "iopub.status.idle": "2022-10-14T05:53:56.557254Z",
     "shell.execute_reply": "2022-10-14T05:53:56.555869Z"
    },
    "papermill": {
     "duration": 0.048387,
     "end_time": "2022-10-14T05:53:56.559566",
     "exception": false,
     "start_time": "2022-10-14T05:53:56.511179",
     "status": "completed"
    },
    "tags": []
   },
   "outputs": [
    {
     "data": {
      "text/html": [
       "<div>\n",
       "<style scoped>\n",
       "    .dataframe tbody tr th:only-of-type {\n",
       "        vertical-align: middle;\n",
       "    }\n",
       "\n",
       "    .dataframe tbody tr th {\n",
       "        vertical-align: top;\n",
       "    }\n",
       "\n",
       "    .dataframe thead th {\n",
       "        text-align: right;\n",
       "    }\n",
       "</style>\n",
       "<table border=\"1\" class=\"dataframe\">\n",
       "  <thead>\n",
       "    <tr style=\"text-align: right;\">\n",
       "      <th></th>\n",
       "      <th>PassengerId</th>\n",
       "      <th>Survived</th>\n",
       "      <th>Pclass</th>\n",
       "      <th>Name</th>\n",
       "      <th>Sex</th>\n",
       "      <th>Age</th>\n",
       "      <th>SibSp</th>\n",
       "      <th>Parch</th>\n",
       "      <th>Ticket</th>\n",
       "      <th>Fare</th>\n",
       "      <th>Cabin</th>\n",
       "      <th>Embarked</th>\n",
       "    </tr>\n",
       "  </thead>\n",
       "  <tbody>\n",
       "    <tr>\n",
       "      <th>179</th>\n",
       "      <td>180</td>\n",
       "      <td>0</td>\n",
       "      <td>3</td>\n",
       "      <td>Leonard, Mr. Lionel</td>\n",
       "      <td>male</td>\n",
       "      <td>36.0</td>\n",
       "      <td>0</td>\n",
       "      <td>0</td>\n",
       "      <td>LINE</td>\n",
       "      <td>0.0</td>\n",
       "      <td>NaN</td>\n",
       "      <td>S</td>\n",
       "    </tr>\n",
       "    <tr>\n",
       "      <th>263</th>\n",
       "      <td>264</td>\n",
       "      <td>0</td>\n",
       "      <td>1</td>\n",
       "      <td>Harrison, Mr. William</td>\n",
       "      <td>male</td>\n",
       "      <td>40.0</td>\n",
       "      <td>0</td>\n",
       "      <td>0</td>\n",
       "      <td>112059</td>\n",
       "      <td>0.0</td>\n",
       "      <td>B94</td>\n",
       "      <td>S</td>\n",
       "    </tr>\n",
       "    <tr>\n",
       "      <th>271</th>\n",
       "      <td>272</td>\n",
       "      <td>1</td>\n",
       "      <td>3</td>\n",
       "      <td>Tornquist, Mr. William Henry</td>\n",
       "      <td>male</td>\n",
       "      <td>25.0</td>\n",
       "      <td>0</td>\n",
       "      <td>0</td>\n",
       "      <td>LINE</td>\n",
       "      <td>0.0</td>\n",
       "      <td>NaN</td>\n",
       "      <td>S</td>\n",
       "    </tr>\n",
       "    <tr>\n",
       "      <th>277</th>\n",
       "      <td>278</td>\n",
       "      <td>0</td>\n",
       "      <td>2</td>\n",
       "      <td>Parkes, Mr. Francis \"Frank\"</td>\n",
       "      <td>male</td>\n",
       "      <td>NaN</td>\n",
       "      <td>0</td>\n",
       "      <td>0</td>\n",
       "      <td>239853</td>\n",
       "      <td>0.0</td>\n",
       "      <td>NaN</td>\n",
       "      <td>S</td>\n",
       "    </tr>\n",
       "    <tr>\n",
       "      <th>302</th>\n",
       "      <td>303</td>\n",
       "      <td>0</td>\n",
       "      <td>3</td>\n",
       "      <td>Johnson, Mr. William Cahoone Jr</td>\n",
       "      <td>male</td>\n",
       "      <td>19.0</td>\n",
       "      <td>0</td>\n",
       "      <td>0</td>\n",
       "      <td>LINE</td>\n",
       "      <td>0.0</td>\n",
       "      <td>NaN</td>\n",
       "      <td>S</td>\n",
       "    </tr>\n",
       "    <tr>\n",
       "      <th>413</th>\n",
       "      <td>414</td>\n",
       "      <td>0</td>\n",
       "      <td>2</td>\n",
       "      <td>Cunningham, Mr. Alfred Fleming</td>\n",
       "      <td>male</td>\n",
       "      <td>NaN</td>\n",
       "      <td>0</td>\n",
       "      <td>0</td>\n",
       "      <td>239853</td>\n",
       "      <td>0.0</td>\n",
       "      <td>NaN</td>\n",
       "      <td>S</td>\n",
       "    </tr>\n",
       "    <tr>\n",
       "      <th>466</th>\n",
       "      <td>467</td>\n",
       "      <td>0</td>\n",
       "      <td>2</td>\n",
       "      <td>Campbell, Mr. William</td>\n",
       "      <td>male</td>\n",
       "      <td>NaN</td>\n",
       "      <td>0</td>\n",
       "      <td>0</td>\n",
       "      <td>239853</td>\n",
       "      <td>0.0</td>\n",
       "      <td>NaN</td>\n",
       "      <td>S</td>\n",
       "    </tr>\n",
       "    <tr>\n",
       "      <th>481</th>\n",
       "      <td>482</td>\n",
       "      <td>0</td>\n",
       "      <td>2</td>\n",
       "      <td>Frost, Mr. Anthony Wood \"Archie\"</td>\n",
       "      <td>male</td>\n",
       "      <td>NaN</td>\n",
       "      <td>0</td>\n",
       "      <td>0</td>\n",
       "      <td>239854</td>\n",
       "      <td>0.0</td>\n",
       "      <td>NaN</td>\n",
       "      <td>S</td>\n",
       "    </tr>\n",
       "    <tr>\n",
       "      <th>597</th>\n",
       "      <td>598</td>\n",
       "      <td>0</td>\n",
       "      <td>3</td>\n",
       "      <td>Johnson, Mr. Alfred</td>\n",
       "      <td>male</td>\n",
       "      <td>49.0</td>\n",
       "      <td>0</td>\n",
       "      <td>0</td>\n",
       "      <td>LINE</td>\n",
       "      <td>0.0</td>\n",
       "      <td>NaN</td>\n",
       "      <td>S</td>\n",
       "    </tr>\n",
       "    <tr>\n",
       "      <th>633</th>\n",
       "      <td>634</td>\n",
       "      <td>0</td>\n",
       "      <td>1</td>\n",
       "      <td>Parr, Mr. William Henry Marsh</td>\n",
       "      <td>male</td>\n",
       "      <td>NaN</td>\n",
       "      <td>0</td>\n",
       "      <td>0</td>\n",
       "      <td>112052</td>\n",
       "      <td>0.0</td>\n",
       "      <td>NaN</td>\n",
       "      <td>S</td>\n",
       "    </tr>\n",
       "    <tr>\n",
       "      <th>674</th>\n",
       "      <td>675</td>\n",
       "      <td>0</td>\n",
       "      <td>2</td>\n",
       "      <td>Watson, Mr. Ennis Hastings</td>\n",
       "      <td>male</td>\n",
       "      <td>NaN</td>\n",
       "      <td>0</td>\n",
       "      <td>0</td>\n",
       "      <td>239856</td>\n",
       "      <td>0.0</td>\n",
       "      <td>NaN</td>\n",
       "      <td>S</td>\n",
       "    </tr>\n",
       "    <tr>\n",
       "      <th>732</th>\n",
       "      <td>733</td>\n",
       "      <td>0</td>\n",
       "      <td>2</td>\n",
       "      <td>Knight, Mr. Robert J</td>\n",
       "      <td>male</td>\n",
       "      <td>NaN</td>\n",
       "      <td>0</td>\n",
       "      <td>0</td>\n",
       "      <td>239855</td>\n",
       "      <td>0.0</td>\n",
       "      <td>NaN</td>\n",
       "      <td>S</td>\n",
       "    </tr>\n",
       "    <tr>\n",
       "      <th>806</th>\n",
       "      <td>807</td>\n",
       "      <td>0</td>\n",
       "      <td>1</td>\n",
       "      <td>Andrews, Mr. Thomas Jr</td>\n",
       "      <td>male</td>\n",
       "      <td>39.0</td>\n",
       "      <td>0</td>\n",
       "      <td>0</td>\n",
       "      <td>112050</td>\n",
       "      <td>0.0</td>\n",
       "      <td>A36</td>\n",
       "      <td>S</td>\n",
       "    </tr>\n",
       "    <tr>\n",
       "      <th>815</th>\n",
       "      <td>816</td>\n",
       "      <td>0</td>\n",
       "      <td>1</td>\n",
       "      <td>Fry, Mr. Richard</td>\n",
       "      <td>male</td>\n",
       "      <td>NaN</td>\n",
       "      <td>0</td>\n",
       "      <td>0</td>\n",
       "      <td>112058</td>\n",
       "      <td>0.0</td>\n",
       "      <td>B102</td>\n",
       "      <td>S</td>\n",
       "    </tr>\n",
       "    <tr>\n",
       "      <th>822</th>\n",
       "      <td>823</td>\n",
       "      <td>0</td>\n",
       "      <td>1</td>\n",
       "      <td>Reuchlin, Jonkheer. John George</td>\n",
       "      <td>male</td>\n",
       "      <td>38.0</td>\n",
       "      <td>0</td>\n",
       "      <td>0</td>\n",
       "      <td>19972</td>\n",
       "      <td>0.0</td>\n",
       "      <td>NaN</td>\n",
       "      <td>S</td>\n",
       "    </tr>\n",
       "  </tbody>\n",
       "</table>\n",
       "</div>"
      ],
      "text/plain": [
       "     PassengerId  Survived  Pclass                              Name   Sex  \\\n",
       "179          180         0       3               Leonard, Mr. Lionel  male   \n",
       "263          264         0       1             Harrison, Mr. William  male   \n",
       "271          272         1       3      Tornquist, Mr. William Henry  male   \n",
       "277          278         0       2       Parkes, Mr. Francis \"Frank\"  male   \n",
       "302          303         0       3   Johnson, Mr. William Cahoone Jr  male   \n",
       "413          414         0       2    Cunningham, Mr. Alfred Fleming  male   \n",
       "466          467         0       2             Campbell, Mr. William  male   \n",
       "481          482         0       2  Frost, Mr. Anthony Wood \"Archie\"  male   \n",
       "597          598         0       3               Johnson, Mr. Alfred  male   \n",
       "633          634         0       1     Parr, Mr. William Henry Marsh  male   \n",
       "674          675         0       2        Watson, Mr. Ennis Hastings  male   \n",
       "732          733         0       2              Knight, Mr. Robert J  male   \n",
       "806          807         0       1            Andrews, Mr. Thomas Jr  male   \n",
       "815          816         0       1                  Fry, Mr. Richard  male   \n",
       "822          823         0       1   Reuchlin, Jonkheer. John George  male   \n",
       "\n",
       "      Age  SibSp  Parch  Ticket  Fare Cabin Embarked  \n",
       "179  36.0      0      0    LINE   0.0   NaN        S  \n",
       "263  40.0      0      0  112059   0.0   B94        S  \n",
       "271  25.0      0      0    LINE   0.0   NaN        S  \n",
       "277   NaN      0      0  239853   0.0   NaN        S  \n",
       "302  19.0      0      0    LINE   0.0   NaN        S  \n",
       "413   NaN      0      0  239853   0.0   NaN        S  \n",
       "466   NaN      0      0  239853   0.0   NaN        S  \n",
       "481   NaN      0      0  239854   0.0   NaN        S  \n",
       "597  49.0      0      0    LINE   0.0   NaN        S  \n",
       "633   NaN      0      0  112052   0.0   NaN        S  \n",
       "674   NaN      0      0  239856   0.0   NaN        S  \n",
       "732   NaN      0      0  239855   0.0   NaN        S  \n",
       "806  39.0      0      0  112050   0.0   A36        S  \n",
       "815   NaN      0      0  112058   0.0  B102        S  \n",
       "822  38.0      0      0   19972   0.0   NaN        S  "
      ]
     },
     "execution_count": 31,
     "metadata": {},
     "output_type": "execute_result"
    }
   ],
   "source": [
    "load_data.loc[load_data.Fare==0]"
   ]
  },
  {
   "cell_type": "code",
   "execution_count": 32,
   "id": "1798d960",
   "metadata": {
    "execution": {
     "iopub.execute_input": "2022-10-14T05:53:56.615703Z",
     "iopub.status.busy": "2022-10-14T05:53:56.614626Z",
     "iopub.status.idle": "2022-10-14T05:53:56.621494Z",
     "shell.execute_reply": "2022-10-14T05:53:56.620294Z"
    },
    "papermill": {
     "duration": 0.036818,
     "end_time": "2022-10-14T05:53:56.623680",
     "exception": false,
     "start_time": "2022-10-14T05:53:56.586862",
     "status": "completed"
    },
    "tags": []
   },
   "outputs": [],
   "source": [
    "def show_countplot(dataset, feature, title, fsize = (5,5)):\n",
    "    fig, ax = plt.subplots(figsize=fsize)\n",
    "    sns.countplot(dataset[feature], ax=ax).set_title(title)\n",
    "\n",
    "def show_compare_countplot(dataset, feature1, feature2, title):\n",
    "    fig, ax = plt.subplots(figsize=(5,5))\n",
    "    p = sns.countplot(x = feature1, hue = feature2, data = dataset, ax=ax).set_title(title)"
   ]
  },
  {
   "cell_type": "code",
   "execution_count": 33,
   "id": "0f73bad4",
   "metadata": {
    "execution": {
     "iopub.execute_input": "2022-10-14T05:53:56.678988Z",
     "iopub.status.busy": "2022-10-14T05:53:56.678630Z",
     "iopub.status.idle": "2022-10-14T05:53:56.823447Z",
     "shell.execute_reply": "2022-10-14T05:53:56.822497Z"
    },
    "papermill": {
     "duration": 0.175255,
     "end_time": "2022-10-14T05:53:56.826066",
     "exception": false,
     "start_time": "2022-10-14T05:53:56.650811",
     "status": "completed"
    },
    "tags": []
   },
   "outputs": [
    {
     "data": {
      "image/png": "[encoded data removed]",
      "text/plain": [
       "<Figure size 360x360 with 1 Axes>"
      ]
     },
     "metadata": {
      "needs_background": "light"
     },
     "output_type": "display_data"
    }
   ],
   "source": [
    "bar_chart_stacked(load_data,'Embarked')"
   ]
  },
  {
   "cell_type": "code",
   "execution_count": 34,
   "id": "362019e8",
   "metadata": {
    "execution": {
     "iopub.execute_input": "2022-10-14T05:53:56.881168Z",
     "iopub.status.busy": "2022-10-14T05:53:56.880820Z",
     "iopub.status.idle": "2022-10-14T05:53:57.015279Z",
     "shell.execute_reply": "2022-10-14T05:53:57.014556Z"
    },
    "papermill": {
     "duration": 0.165284,
     "end_time": "2022-10-14T05:53:57.018127",
     "exception": false,
     "start_time": "2022-10-14T05:53:56.852843",
     "status": "completed"
    },
    "tags": []
   },
   "outputs": [
    {
     "name": "stderr",
     "output_type": "stream",
     "text": [
      "/opt/conda/lib/python3.7/site-packages/seaborn/_decorators.py:43: FutureWarning: Pass the following variable as a keyword arg: x. From version 0.12, the only valid positional argument will be `data`, and passing other arguments without an explicit keyword will result in an error or misinterpretation.\n",
      "  FutureWarning\n"
     ]
    },
    {
     "data": {
      "image/png": "[encoded data removed]",
      "text/plain": [
       "<Figure size 360x360 with 1 Axes>"
      ]
     },
     "metadata": {
      "needs_background": "light"
     },
     "output_type": "display_data"
    }
   ],
   "source": [
    "show_countplot(load_data, \"Embarked\", 'Passenger count by boarding point')"
   ]
  },
  {
   "cell_type": "code",
   "execution_count": 35,
   "id": "fab35296",
   "metadata": {
    "execution": {
     "iopub.execute_input": "2022-10-14T05:53:57.080158Z",
     "iopub.status.busy": "2022-10-14T05:53:57.079262Z",
     "iopub.status.idle": "2022-10-14T05:53:57.088948Z",
     "shell.execute_reply": "2022-10-14T05:53:57.087665Z"
    },
    "papermill": {
     "duration": 0.040538,
     "end_time": "2022-10-14T05:53:57.091606",
     "exception": false,
     "start_time": "2022-10-14T05:53:57.051068",
     "status": "completed"
    },
    "tags": []
   },
   "outputs": [
    {
     "data": {
      "text/html": [
       "<div>\n",
       "<style scoped>\n",
       "    .dataframe tbody tr th:only-of-type {\n",
       "        vertical-align: middle;\n",
       "    }\n",
       "\n",
       "    .dataframe tbody tr th {\n",
       "        vertical-align: top;\n",
       "    }\n",
       "\n",
       "    .dataframe thead th {\n",
       "        text-align: right;\n",
       "    }\n",
       "</style>\n",
       "<table border=\"1\" class=\"dataframe\">\n",
       "  <thead>\n",
       "    <tr style=\"text-align: right;\">\n",
       "      <th></th>\n",
       "      <th>Embarked</th>\n",
       "    </tr>\n",
       "  </thead>\n",
       "  <tbody>\n",
       "    <tr>\n",
       "      <th>S</th>\n",
       "      <td>644</td>\n",
       "    </tr>\n",
       "    <tr>\n",
       "      <th>C</th>\n",
       "      <td>168</td>\n",
       "    </tr>\n",
       "    <tr>\n",
       "      <th>Q</th>\n",
       "      <td>77</td>\n",
       "    </tr>\n",
       "  </tbody>\n",
       "</table>\n",
       "</div>"
      ],
      "text/plain": [
       "   Embarked\n",
       "S       644\n",
       "C       168\n",
       "Q        77"
      ]
     },
     "execution_count": 35,
     "metadata": {},
     "output_type": "execute_result"
    }
   ],
   "source": [
    "load_data['Embarked'].value_counts().to_frame()"
   ]
  },
  {
   "cell_type": "code",
   "execution_count": 36,
   "id": "0119d111",
   "metadata": {
    "execution": {
     "iopub.execute_input": "2022-10-14T05:53:57.148077Z",
     "iopub.status.busy": "2022-10-14T05:53:57.147689Z",
     "iopub.status.idle": "2022-10-14T05:53:57.315694Z",
     "shell.execute_reply": "2022-10-14T05:53:57.314079Z"
    },
    "papermill": {
     "duration": 0.199265,
     "end_time": "2022-10-14T05:53:57.318278",
     "exception": false,
     "start_time": "2022-10-14T05:53:57.119013",
     "status": "completed"
    },
    "tags": []
   },
   "outputs": [
    {
     "data": {
      "image/png": "[encoded data removed]",
      "text/plain": [
       "<Figure size 360x360 with 1 Axes>"
      ]
     },
     "metadata": {
      "needs_background": "light"
     },
     "output_type": "display_data"
    }
   ],
   "source": [
    "show_compare_countplot(load_data, \"Embarked\", \"Survived\", \"Survivor count by place of embarktion\")"
   ]
  },
  {
   "cell_type": "code",
   "execution_count": 37,
   "id": "cc2224dc",
   "metadata": {
    "execution": {
     "iopub.execute_input": "2022-10-14T05:53:57.374871Z",
     "iopub.status.busy": "2022-10-14T05:53:57.374496Z",
     "iopub.status.idle": "2022-10-14T05:53:57.395344Z",
     "shell.execute_reply": "2022-10-14T05:53:57.394365Z"
    },
    "papermill": {
     "duration": 0.051719,
     "end_time": "2022-10-14T05:53:57.397326",
     "exception": false,
     "start_time": "2022-10-14T05:53:57.345607",
     "status": "completed"
    },
    "tags": []
   },
   "outputs": [
    {
     "data": {
      "text/html": [
       "<div>\n",
       "<style scoped>\n",
       "    .dataframe tbody tr th:only-of-type {\n",
       "        vertical-align: middle;\n",
       "    }\n",
       "\n",
       "    .dataframe tbody tr th {\n",
       "        vertical-align: top;\n",
       "    }\n",
       "\n",
       "    .dataframe thead th {\n",
       "        text-align: right;\n",
       "    }\n",
       "</style>\n",
       "<table border=\"1\" class=\"dataframe\">\n",
       "  <thead>\n",
       "    <tr style=\"text-align: right;\">\n",
       "      <th>Embarked</th>\n",
       "      <th>C</th>\n",
       "      <th>Q</th>\n",
       "      <th>S</th>\n",
       "    </tr>\n",
       "    <tr>\n",
       "      <th>Survived</th>\n",
       "      <th></th>\n",
       "      <th></th>\n",
       "      <th></th>\n",
       "    </tr>\n",
       "  </thead>\n",
       "  <tbody>\n",
       "    <tr>\n",
       "      <th>0</th>\n",
       "      <td>75</td>\n",
       "      <td>47</td>\n",
       "      <td>427</td>\n",
       "    </tr>\n",
       "    <tr>\n",
       "      <th>1</th>\n",
       "      <td>93</td>\n",
       "      <td>30</td>\n",
       "      <td>217</td>\n",
       "    </tr>\n",
       "  </tbody>\n",
       "</table>\n",
       "</div>"
      ],
      "text/plain": [
       "Embarked   C   Q    S\n",
       "Survived             \n",
       "0         75  47  427\n",
       "1         93  30  217"
      ]
     },
     "execution_count": 37,
     "metadata": {},
     "output_type": "execute_result"
    }
   ],
   "source": [
    "pd.pivot_table(load_data, index = 'Survived', columns = 'Embarked', values = 'Ticket', aggfunc='count')"
   ]
  },
  {
   "cell_type": "code",
   "execution_count": 38,
   "id": "3d9fb20d",
   "metadata": {
    "execution": {
     "iopub.execute_input": "2022-10-14T05:53:57.453462Z",
     "iopub.status.busy": "2022-10-14T05:53:57.453120Z",
     "iopub.status.idle": "2022-10-14T05:53:57.641939Z",
     "shell.execute_reply": "2022-10-14T05:53:57.640779Z"
    },
    "papermill": {
     "duration": 0.21917,
     "end_time": "2022-10-14T05:53:57.643813",
     "exception": false,
     "start_time": "2022-10-14T05:53:57.424643",
     "status": "completed"
    },
    "tags": []
   },
   "outputs": [
    {
     "data": {
      "image/png": "[encoded data removed]",
      "text/plain": [
       "<Figure size 360x360 with 1 Axes>"
      ]
     },
     "metadata": {
      "needs_background": "light"
     },
     "output_type": "display_data"
    }
   ],
   "source": [
    "show_compare_countplot(load_data, \"Embarked\", \"Pclass\", \"Passenger count by place of embarktion and class\")"
   ]
  },
  {
   "cell_type": "code",
   "execution_count": 39,
   "id": "3fdfb429",
   "metadata": {
    "execution": {
     "iopub.execute_input": "2022-10-14T05:53:57.700524Z",
     "iopub.status.busy": "2022-10-14T05:53:57.700161Z",
     "iopub.status.idle": "2022-10-14T05:53:57.715272Z",
     "shell.execute_reply": "2022-10-14T05:53:57.713973Z"
    },
    "papermill": {
     "duration": 0.046786,
     "end_time": "2022-10-14T05:53:57.717814",
     "exception": false,
     "start_time": "2022-10-14T05:53:57.671028",
     "status": "completed"
    },
    "tags": []
   },
   "outputs": [
    {
     "data": {
      "text/html": [
       "<div>\n",
       "<style scoped>\n",
       "    .dataframe tbody tr th:only-of-type {\n",
       "        vertical-align: middle;\n",
       "    }\n",
       "\n",
       "    .dataframe tbody tr th {\n",
       "        vertical-align: top;\n",
       "    }\n",
       "\n",
       "    .dataframe thead th {\n",
       "        text-align: right;\n",
       "    }\n",
       "</style>\n",
       "<table border=\"1\" class=\"dataframe\">\n",
       "  <thead>\n",
       "    <tr style=\"text-align: right;\">\n",
       "      <th></th>\n",
       "      <th></th>\n",
       "      <th>Survived</th>\n",
       "    </tr>\n",
       "    <tr>\n",
       "      <th>Embarked</th>\n",
       "      <th>Pclass</th>\n",
       "      <th></th>\n",
       "    </tr>\n",
       "  </thead>\n",
       "  <tbody>\n",
       "    <tr>\n",
       "      <th rowspan=\"3\" valign=\"top\">C</th>\n",
       "      <th>1</th>\n",
       "      <td>59</td>\n",
       "    </tr>\n",
       "    <tr>\n",
       "      <th>2</th>\n",
       "      <td>9</td>\n",
       "    </tr>\n",
       "    <tr>\n",
       "      <th>3</th>\n",
       "      <td>25</td>\n",
       "    </tr>\n",
       "    <tr>\n",
       "      <th rowspan=\"3\" valign=\"top\">Q</th>\n",
       "      <th>1</th>\n",
       "      <td>1</td>\n",
       "    </tr>\n",
       "    <tr>\n",
       "      <th>2</th>\n",
       "      <td>2</td>\n",
       "    </tr>\n",
       "    <tr>\n",
       "      <th>3</th>\n",
       "      <td>27</td>\n",
       "    </tr>\n",
       "    <tr>\n",
       "      <th rowspan=\"3\" valign=\"top\">S</th>\n",
       "      <th>1</th>\n",
       "      <td>74</td>\n",
       "    </tr>\n",
       "    <tr>\n",
       "      <th>2</th>\n",
       "      <td>76</td>\n",
       "    </tr>\n",
       "    <tr>\n",
       "      <th>3</th>\n",
       "      <td>67</td>\n",
       "    </tr>\n",
       "  </tbody>\n",
       "</table>\n",
       "</div>"
      ],
      "text/plain": [
       "                 Survived\n",
       "Embarked Pclass          \n",
       "C        1             59\n",
       "         2              9\n",
       "         3             25\n",
       "Q        1              1\n",
       "         2              2\n",
       "         3             27\n",
       "S        1             74\n",
       "         2             76\n",
       "         3             67"
      ]
     },
     "execution_count": 39,
     "metadata": {},
     "output_type": "execute_result"
    }
   ],
   "source": [
    "load_data.groupby(['Embarked', 'Pclass']).Survived.sum().to_frame()"
   ]
  },
  {
   "cell_type": "code",
   "execution_count": 40,
   "id": "5ffa6b5b",
   "metadata": {
    "execution": {
     "iopub.execute_input": "2022-10-14T05:53:57.775703Z",
     "iopub.status.busy": "2022-10-14T05:53:57.775348Z",
     "iopub.status.idle": "2022-10-14T05:53:57.934429Z",
     "shell.execute_reply": "2022-10-14T05:53:57.933426Z"
    },
    "papermill": {
     "duration": 0.190543,
     "end_time": "2022-10-14T05:53:57.936593",
     "exception": false,
     "start_time": "2022-10-14T05:53:57.746050",
     "status": "completed"
    },
    "tags": []
   },
   "outputs": [
    {
     "data": {
      "image/png": "[encoded data removed]",
      "text/plain": [
       "<Figure size 360x360 with 1 Axes>"
      ]
     },
     "metadata": {
      "needs_background": "light"
     },
     "output_type": "display_data"
    }
   ],
   "source": [
    "show_compare_countplot(load_data, \"Embarked\", \"Sex\", \"Passenger count by place of embarktion and class\")"
   ]
  },
  {
   "cell_type": "code",
   "execution_count": 41,
   "id": "919c402b",
   "metadata": {
    "execution": {
     "iopub.execute_input": "2022-10-14T05:53:57.994968Z",
     "iopub.status.busy": "2022-10-14T05:53:57.994319Z",
     "iopub.status.idle": "2022-10-14T05:53:58.148402Z",
     "shell.execute_reply": "2022-10-14T05:53:58.147378Z"
    },
    "papermill": {
     "duration": 0.186508,
     "end_time": "2022-10-14T05:53:58.151038",
     "exception": false,
     "start_time": "2022-10-14T05:53:57.964530",
     "status": "completed"
    },
    "tags": []
   },
   "outputs": [
    {
     "data": {
      "image/png": "[encoded data removed]",
      "text/plain": [
       "<Figure size 360x360 with 1 Axes>"
      ]
     },
     "metadata": {
      "needs_background": "light"
     },
     "output_type": "display_data"
    }
   ],
   "source": [
    "bar_chart_compare(load_data, \"SibSp\", title = \"Survival rate by siblings / spouses aboard the Titanic\")"
   ]
  },
  {
   "cell_type": "code",
   "execution_count": 42,
   "id": "ce662461",
   "metadata": {
    "execution": {
     "iopub.execute_input": "2022-10-14T05:53:58.211465Z",
     "iopub.status.busy": "2022-10-14T05:53:58.211117Z",
     "iopub.status.idle": "2022-10-14T05:53:58.383829Z",
     "shell.execute_reply": "2022-10-14T05:53:58.382232Z"
    },
    "papermill": {
     "duration": 0.204905,
     "end_time": "2022-10-14T05:53:58.386038",
     "exception": false,
     "start_time": "2022-10-14T05:53:58.181133",
     "status": "completed"
    },
    "tags": []
   },
   "outputs": [
    {
     "name": "stderr",
     "output_type": "stream",
     "text": [
      "/opt/conda/lib/python3.7/site-packages/seaborn/_decorators.py:43: FutureWarning: Pass the following variable as a keyword arg: x. From version 0.12, the only valid positional argument will be `data`, and passing other arguments without an explicit keyword will result in an error or misinterpretation.\n",
      "  FutureWarning\n"
     ]
    },
    {
     "data": {
      "image/png": "[encoded data removed]",
      "text/plain": [
       "<Figure size 1080x216 with 1 Axes>"
      ]
     },
     "metadata": {
      "needs_background": "light"
     },
     "output_type": "display_data"
    }
   ],
   "source": [
    "show_countplot(load_data, \"SibSp\", \"SibSp Distribution\", (15,3))"
   ]
  },
  {
   "cell_type": "code",
   "execution_count": 43,
   "id": "af6206f8",
   "metadata": {
    "execution": {
     "iopub.execute_input": "2022-10-14T05:53:58.444210Z",
     "iopub.status.busy": "2022-10-14T05:53:58.443840Z",
     "iopub.status.idle": "2022-10-14T05:53:58.913165Z",
     "shell.execute_reply": "2022-10-14T05:53:58.911848Z"
    },
    "papermill": {
     "duration": 0.500336,
     "end_time": "2022-10-14T05:53:58.915206",
     "exception": false,
     "start_time": "2022-10-14T05:53:58.414870",
     "status": "completed"
    },
    "tags": []
   },
   "outputs": [
    {
     "data": {
      "image/png": "[encoded data removed]",
      "text/plain": [
       "<Figure size 360x360 with 1 Axes>"
      ]
     },
     "metadata": {
      "needs_background": "light"
     },
     "output_type": "display_data"
    }
   ],
   "source": [
    "show_compare_countplot(load_data, \"SibSp\", \"Survived\", \"Survivor count by number of siblings / spouses aboard the Titanic\")"
   ]
  },
  {
   "cell_type": "code",
   "execution_count": 44,
   "id": "3d81d0ce",
   "metadata": {
    "execution": {
     "iopub.execute_input": "2022-10-14T05:53:58.973804Z",
     "iopub.status.busy": "2022-10-14T05:53:58.973378Z",
     "iopub.status.idle": "2022-10-14T05:53:59.139827Z",
     "shell.execute_reply": "2022-10-14T05:53:59.138897Z"
    },
    "papermill": {
     "duration": 0.198424,
     "end_time": "2022-10-14T05:53:59.141948",
     "exception": false,
     "start_time": "2022-10-14T05:53:58.943524",
     "status": "completed"
    },
    "tags": []
   },
   "outputs": [
    {
     "name": "stderr",
     "output_type": "stream",
     "text": [
      "/opt/conda/lib/python3.7/site-packages/seaborn/_decorators.py:43: FutureWarning: Pass the following variable as a keyword arg: x. From version 0.12, the only valid positional argument will be `data`, and passing other arguments without an explicit keyword will result in an error or misinterpretation.\n",
      "  FutureWarning\n"
     ]
    },
    {
     "data": {
      "image/png": "[encoded data removed]",
      "text/plain": [
       "<Figure size 1080x216 with 1 Axes>"
      ]
     },
     "metadata": {
      "needs_background": "light"
     },
     "output_type": "display_data"
    }
   ],
   "source": [
    "show_countplot(load_data, \"Parch\", 'Parch Disstribution', (15,3))"
   ]
  },
  {
   "cell_type": "code",
   "execution_count": 45,
   "id": "49089515",
   "metadata": {
    "execution": {
     "iopub.execute_input": "2022-10-14T05:53:59.202777Z",
     "iopub.status.busy": "2022-10-14T05:53:59.202385Z",
     "iopub.status.idle": "2022-10-14T05:53:59.352557Z",
     "shell.execute_reply": "2022-10-14T05:53:59.351390Z"
    },
    "papermill": {
     "duration": 0.183375,
     "end_time": "2022-10-14T05:53:59.354896",
     "exception": false,
     "start_time": "2022-10-14T05:53:59.171521",
     "status": "completed"
    },
    "tags": []
   },
   "outputs": [
    {
     "data": {
      "image/png": "[encoded data removed]",
      "text/plain": [
       "<Figure size 360x360 with 1 Axes>"
      ]
     },
     "metadata": {
      "needs_background": "light"
     },
     "output_type": "display_data"
    }
   ],
   "source": [
    "bar_chart_compare(load_data, \"Parch\", title=\"Survival rate by Parch\")"
   ]
  },
  {
   "cell_type": "code",
   "execution_count": 46,
   "id": "ee5e9485",
   "metadata": {
    "execution": {
     "iopub.execute_input": "2022-10-14T05:53:59.428135Z",
     "iopub.status.busy": "2022-10-14T05:53:59.427140Z",
     "iopub.status.idle": "2022-10-14T05:53:59.634948Z",
     "shell.execute_reply": "2022-10-14T05:53:59.634029Z"
    },
    "papermill": {
     "duration": 0.245632,
     "end_time": "2022-10-14T05:53:59.636833",
     "exception": false,
     "start_time": "2022-10-14T05:53:59.391201",
     "status": "completed"
    },
    "tags": []
   },
   "outputs": [
    {
     "data": {
      "image/png": "[encoded data removed]",
      "text/plain": [
       "<Figure size 360x360 with 1 Axes>"
      ]
     },
     "metadata": {
      "needs_background": "light"
     },
     "output_type": "display_data"
    }
   ],
   "source": [
    "show_compare_countplot(load_data, \"Parch\", \"Survived\", \"Survivor count by Parch\")"
   ]
  },
  {
   "cell_type": "markdown",
   "id": "3d6a3fa4",
   "metadata": {
    "papermill": {
     "duration": 0.029209,
     "end_time": "2022-10-14T05:53:59.695496",
     "exception": false,
     "start_time": "2022-10-14T05:53:59.666287",
     "status": "completed"
    },
    "tags": []
   },
   "source": [
    "## Feature Engineering"
   ]
  },
  {
   "cell_type": "markdown",
   "id": "e510a4d8",
   "metadata": {
    "papermill": {
     "duration": 0.02862,
     "end_time": "2022-10-14T05:53:59.754030",
     "exception": false,
     "start_time": "2022-10-14T05:53:59.725410",
     "status": "completed"
    },
    "tags": []
   },
   "source": [
    "creating a new feature with name column"
   ]
  },
  {
   "cell_type": "code",
   "execution_count": 47,
   "id": "ac881334",
   "metadata": {
    "execution": {
     "iopub.execute_input": "2022-10-14T05:53:59.814759Z",
     "iopub.status.busy": "2022-10-14T05:53:59.813493Z",
     "iopub.status.idle": "2022-10-14T05:53:59.818801Z",
     "shell.execute_reply": "2022-10-14T05:53:59.817973Z"
    },
    "papermill": {
     "duration": 0.037596,
     "end_time": "2022-10-14T05:53:59.820714",
     "exception": false,
     "start_time": "2022-10-14T05:53:59.783118",
     "status": "completed"
    },
    "tags": []
   },
   "outputs": [],
   "source": [
    "# pd.unique(load_data['Name'])"
   ]
  },
  {
   "cell_type": "code",
   "execution_count": 48,
   "id": "4327b3f8",
   "metadata": {
    "execution": {
     "iopub.execute_input": "2022-10-14T05:53:59.882816Z",
     "iopub.status.busy": "2022-10-14T05:53:59.881562Z",
     "iopub.status.idle": "2022-10-14T05:53:59.889718Z",
     "shell.execute_reply": "2022-10-14T05:53:59.889075Z"
    },
    "papermill": {
     "duration": 0.041925,
     "end_time": "2022-10-14T05:53:59.891825",
     "exception": false,
     "start_time": "2022-10-14T05:53:59.849900",
     "status": "completed"
    },
    "tags": []
   },
   "outputs": [],
   "source": [
    "load_data['Title']=load_data['Name'].apply(lambda x: x.split(',')[1].split('.')[0].strip())\n",
    "testds['Title']=testds['Name'].apply(lambda x: x.split(',')[1].split('.')[0].strip())"
   ]
  },
  {
   "cell_type": "code",
   "execution_count": 49,
   "id": "01f43b9a",
   "metadata": {
    "execution": {
     "iopub.execute_input": "2022-10-14T05:53:59.952954Z",
     "iopub.status.busy": "2022-10-14T05:53:59.951961Z",
     "iopub.status.idle": "2022-10-14T05:54:00.169916Z",
     "shell.execute_reply": "2022-10-14T05:54:00.168778Z"
    },
    "papermill": {
     "duration": 0.250972,
     "end_time": "2022-10-14T05:54:00.172042",
     "exception": false,
     "start_time": "2022-10-14T05:53:59.921070",
     "status": "completed"
    },
    "tags": []
   },
   "outputs": [
    {
     "name": "stderr",
     "output_type": "stream",
     "text": [
      "/opt/conda/lib/python3.7/site-packages/seaborn/_decorators.py:43: FutureWarning: Pass the following variable as a keyword arg: x. From version 0.12, the only valid positional argument will be `data`, and passing other arguments without an explicit keyword will result in an error or misinterpretation.\n",
      "  FutureWarning\n"
     ]
    },
    {
     "data": {
      "image/png": "[encoded data removed]",
      "text/plain": [
       "<Figure size 1080x216 with 1 Axes>"
      ]
     },
     "metadata": {
      "needs_background": "light"
     },
     "output_type": "display_data"
    }
   ],
   "source": [
    "show_countplot(load_data, \"Title\", 'Title Distribution', (15,3))"
   ]
  },
  {
   "cell_type": "code",
   "execution_count": 50,
   "id": "e3553612",
   "metadata": {
    "execution": {
     "iopub.execute_input": "2022-10-14T05:54:00.238722Z",
     "iopub.status.busy": "2022-10-14T05:54:00.238378Z",
     "iopub.status.idle": "2022-10-14T05:54:00.244479Z",
     "shell.execute_reply": "2022-10-14T05:54:00.243262Z"
    },
    "papermill": {
     "duration": 0.040032,
     "end_time": "2022-10-14T05:54:00.246834",
     "exception": false,
     "start_time": "2022-10-14T05:54:00.206802",
     "status": "completed"
    },
    "tags": []
   },
   "outputs": [],
   "source": [
    "# #merge in 'Mr'\n",
    "# load_data['Title'].replace(to_replace=['Don','Major','Sir','Col','Capt','Jonkheer'], value='Mr', inplace=True)\n",
    "# #merge in 'Mrs'\n",
    "# load_data['Title'].replace(to_replace=['Mme','Ms','Lady','Mlle','the Countess'], value='Mrs', inplace=True)"
   ]
  },
  {
   "cell_type": "code",
   "execution_count": 51,
   "id": "586b8f8f",
   "metadata": {
    "execution": {
     "iopub.execute_input": "2022-10-14T05:54:00.308001Z",
     "iopub.status.busy": "2022-10-14T05:54:00.307433Z",
     "iopub.status.idle": "2022-10-14T05:54:00.529875Z",
     "shell.execute_reply": "2022-10-14T05:54:00.528752Z"
    },
    "papermill": {
     "duration": 0.255154,
     "end_time": "2022-10-14T05:54:00.531856",
     "exception": false,
     "start_time": "2022-10-14T05:54:00.276702",
     "status": "completed"
    },
    "tags": []
   },
   "outputs": [
    {
     "name": "stderr",
     "output_type": "stream",
     "text": [
      "/opt/conda/lib/python3.7/site-packages/seaborn/_decorators.py:43: FutureWarning: Pass the following variable as a keyword arg: x. From version 0.12, the only valid positional argument will be `data`, and passing other arguments without an explicit keyword will result in an error or misinterpretation.\n",
      "  FutureWarning\n"
     ]
    },
    {
     "data": {
      "image/png": "[encoded data removed]",
      "text/plain": [
       "<Figure size 1080x216 with 1 Axes>"
      ]
     },
     "metadata": {
      "needs_background": "light"
     },
     "output_type": "display_data"
    }
   ],
   "source": [
    "show_countplot(load_data,\"Title\", 'Title Distribution after substitution', (15,3))"
   ]
  },
  {
   "cell_type": "code",
   "execution_count": 52,
   "id": "6a32539f",
   "metadata": {
    "execution": {
     "iopub.execute_input": "2022-10-14T05:54:00.593029Z",
     "iopub.status.busy": "2022-10-14T05:54:00.592631Z",
     "iopub.status.idle": "2022-10-14T05:54:00.598670Z",
     "shell.execute_reply": "2022-10-14T05:54:00.597257Z"
    },
    "papermill": {
     "duration": 0.040119,
     "end_time": "2022-10-14T05:54:00.601720",
     "exception": false,
     "start_time": "2022-10-14T05:54:00.561601",
     "status": "completed"
    },
    "tags": []
   },
   "outputs": [
    {
     "name": "stdout",
     "output_type": "stream",
     "text": [
      "Label classes: [0, 1]\n"
     ]
    }
   ],
   "source": [
    "label = \"Survived\"\n",
    "\n",
    "classes = load_data[label].unique().tolist()\n",
    "print(f\"Label classes: {classes}\")"
   ]
  },
  {
   "cell_type": "code",
   "execution_count": 53,
   "id": "cba83686",
   "metadata": {
    "execution": {
     "iopub.execute_input": "2022-10-14T05:54:00.665112Z",
     "iopub.status.busy": "2022-10-14T05:54:00.664747Z",
     "iopub.status.idle": "2022-10-14T05:54:00.882791Z",
     "shell.execute_reply": "2022-10-14T05:54:00.881669Z"
    },
    "papermill": {
     "duration": 0.252637,
     "end_time": "2022-10-14T05:54:00.884913",
     "exception": false,
     "start_time": "2022-10-14T05:54:00.632276",
     "status": "completed"
    },
    "tags": []
   },
   "outputs": [
    {
     "data": {
      "image/png": "[encoded data removed]",
      "text/plain": [
       "<Figure size 360x360 with 1 Axes>"
      ]
     },
     "metadata": {
      "needs_background": "light"
     },
     "output_type": "display_data"
    }
   ],
   "source": [
    "bar_chart_compare(load_data, \"Title\", title=\"Survival rate by Title\")"
   ]
  },
  {
   "cell_type": "markdown",
   "id": "228a7846",
   "metadata": {
    "papermill": {
     "duration": 0.030414,
     "end_time": "2022-10-14T05:54:00.946449",
     "exception": false,
     "start_time": "2022-10-14T05:54:00.916035",
     "status": "completed"
    },
    "tags": []
   },
   "source": [
    "* Feature Cabin and Ticket"
   ]
  },
  {
   "cell_type": "code",
   "execution_count": 54,
   "id": "6dc2984c",
   "metadata": {
    "execution": {
     "iopub.execute_input": "2022-10-14T05:54:01.009531Z",
     "iopub.status.busy": "2022-10-14T05:54:01.009170Z",
     "iopub.status.idle": "2022-10-14T05:54:01.020982Z",
     "shell.execute_reply": "2022-10-14T05:54:01.020115Z"
    },
    "papermill": {
     "duration": 0.046667,
     "end_time": "2022-10-14T05:54:01.023664",
     "exception": false,
     "start_time": "2022-10-14T05:54:00.976997",
     "status": "completed"
    },
    "tags": []
   },
   "outputs": [
    {
     "data": {
      "text/html": [
       "<div>\n",
       "<style scoped>\n",
       "    .dataframe tbody tr th:only-of-type {\n",
       "        vertical-align: middle;\n",
       "    }\n",
       "\n",
       "    .dataframe tbody tr th {\n",
       "        vertical-align: top;\n",
       "    }\n",
       "\n",
       "    .dataframe thead th {\n",
       "        text-align: right;\n",
       "    }\n",
       "</style>\n",
       "<table border=\"1\" class=\"dataframe\">\n",
       "  <thead>\n",
       "    <tr style=\"text-align: right;\">\n",
       "      <th></th>\n",
       "      <th>Cabin</th>\n",
       "      <th>Ticket</th>\n",
       "    </tr>\n",
       "  </thead>\n",
       "  <tbody>\n",
       "    <tr>\n",
       "      <th>0</th>\n",
       "      <td>NaN</td>\n",
       "      <td>A/5 21171</td>\n",
       "    </tr>\n",
       "    <tr>\n",
       "      <th>1</th>\n",
       "      <td>C85</td>\n",
       "      <td>PC 17599</td>\n",
       "    </tr>\n",
       "    <tr>\n",
       "      <th>2</th>\n",
       "      <td>NaN</td>\n",
       "      <td>STON/O2. 3101282</td>\n",
       "    </tr>\n",
       "    <tr>\n",
       "      <th>3</th>\n",
       "      <td>C123</td>\n",
       "      <td>113803</td>\n",
       "    </tr>\n",
       "    <tr>\n",
       "      <th>4</th>\n",
       "      <td>NaN</td>\n",
       "      <td>373450</td>\n",
       "    </tr>\n",
       "    <tr>\n",
       "      <th>...</th>\n",
       "      <td>...</td>\n",
       "      <td>...</td>\n",
       "    </tr>\n",
       "    <tr>\n",
       "      <th>886</th>\n",
       "      <td>NaN</td>\n",
       "      <td>211536</td>\n",
       "    </tr>\n",
       "    <tr>\n",
       "      <th>887</th>\n",
       "      <td>B42</td>\n",
       "      <td>112053</td>\n",
       "    </tr>\n",
       "    <tr>\n",
       "      <th>888</th>\n",
       "      <td>NaN</td>\n",
       "      <td>W./C. 6607</td>\n",
       "    </tr>\n",
       "    <tr>\n",
       "      <th>889</th>\n",
       "      <td>C148</td>\n",
       "      <td>111369</td>\n",
       "    </tr>\n",
       "    <tr>\n",
       "      <th>890</th>\n",
       "      <td>NaN</td>\n",
       "      <td>370376</td>\n",
       "    </tr>\n",
       "  </tbody>\n",
       "</table>\n",
       "<p>891 rows × 2 columns</p>\n",
       "</div>"
      ],
      "text/plain": [
       "    Cabin            Ticket\n",
       "0     NaN         A/5 21171\n",
       "1     C85          PC 17599\n",
       "2     NaN  STON/O2. 3101282\n",
       "3    C123            113803\n",
       "4     NaN            373450\n",
       "..    ...               ...\n",
       "886   NaN            211536\n",
       "887   B42            112053\n",
       "888   NaN        W./C. 6607\n",
       "889  C148            111369\n",
       "890   NaN            370376\n",
       "\n",
       "[891 rows x 2 columns]"
      ]
     },
     "execution_count": 54,
     "metadata": {},
     "output_type": "execute_result"
    }
   ],
   "source": [
    "load_data[['Cabin', 'Ticket']]"
   ]
  },
  {
   "cell_type": "code",
   "execution_count": 55,
   "id": "eb830584",
   "metadata": {
    "execution": {
     "iopub.execute_input": "2022-10-14T05:54:01.087743Z",
     "iopub.status.busy": "2022-10-14T05:54:01.086700Z",
     "iopub.status.idle": "2022-10-14T05:54:01.094307Z",
     "shell.execute_reply": "2022-10-14T05:54:01.093623Z"
    },
    "papermill": {
     "duration": 0.041944,
     "end_time": "2022-10-14T05:54:01.096066",
     "exception": false,
     "start_time": "2022-10-14T05:54:01.054122",
     "status": "completed"
    },
    "tags": []
   },
   "outputs": [],
   "source": [
    "#Extract Leading Letter\n",
    "load_data['Ticket_2letter'] = load_data.Ticket.apply(lambda x: x[:2])\n",
    "testds['Ticket_2letter'] = testds.Ticket.apply(lambda x: x[:2])"
   ]
  },
  {
   "cell_type": "code",
   "execution_count": 56,
   "id": "88ef9528",
   "metadata": {
    "execution": {
     "iopub.execute_input": "2022-10-14T05:54:01.159385Z",
     "iopub.status.busy": "2022-10-14T05:54:01.158339Z",
     "iopub.status.idle": "2022-10-14T05:54:01.165919Z",
     "shell.execute_reply": "2022-10-14T05:54:01.165116Z"
    },
    "papermill": {
     "duration": 0.040965,
     "end_time": "2022-10-14T05:54:01.167717",
     "exception": false,
     "start_time": "2022-10-14T05:54:01.126752",
     "status": "completed"
    },
    "tags": []
   },
   "outputs": [],
   "source": [
    "#Extract Ticket Length\n",
    "load_data['Ticket_len'] = load_data.Ticket.apply(lambda x: len(x))\n",
    "testds['Ticket_len'] = testds.Ticket.apply(lambda x: len(x))"
   ]
  },
  {
   "cell_type": "code",
   "execution_count": 57,
   "id": "39cd8d50",
   "metadata": {
    "execution": {
     "iopub.execute_input": "2022-10-14T05:54:01.231878Z",
     "iopub.status.busy": "2022-10-14T05:54:01.231502Z",
     "iopub.status.idle": "2022-10-14T05:54:01.240591Z",
     "shell.execute_reply": "2022-10-14T05:54:01.239034Z"
    },
    "papermill": {
     "duration": 0.043997,
     "end_time": "2022-10-14T05:54:01.242998",
     "exception": false,
     "start_time": "2022-10-14T05:54:01.199001",
     "status": "completed"
    },
    "tags": []
   },
   "outputs": [],
   "source": [
    "#Extract Number of Cabins\n",
    "load_data['Cabin_num'] = load_data.Ticket.apply(lambda x: len(x.split()))\n",
    "testds['Cabin_num'] = testds.Ticket.apply(lambda x: len(x.split()))"
   ]
  },
  {
   "cell_type": "code",
   "execution_count": 58,
   "id": "8934c50b",
   "metadata": {
    "execution": {
     "iopub.execute_input": "2022-10-14T05:54:01.306690Z",
     "iopub.status.busy": "2022-10-14T05:54:01.306357Z",
     "iopub.status.idle": "2022-10-14T05:54:01.314342Z",
     "shell.execute_reply": "2022-10-14T05:54:01.313197Z"
    },
    "papermill": {
     "duration": 0.042448,
     "end_time": "2022-10-14T05:54:01.316160",
     "exception": false,
     "start_time": "2022-10-14T05:54:01.273712",
     "status": "completed"
    },
    "tags": []
   },
   "outputs": [],
   "source": [
    "#Extract Leading Letter\n",
    "load_data['Cabin_1letter'] = load_data.Ticket.apply(lambda x: x[:1])\n",
    "testds['Cabin_1letter'] = testds.Ticket.apply(lambda x: x[:1])"
   ]
  },
  {
   "cell_type": "markdown",
   "id": "18b11d8f",
   "metadata": {
    "papermill": {
     "duration": 0.031385,
     "end_time": "2022-10-14T05:54:01.379004",
     "exception": false,
     "start_time": "2022-10-14T05:54:01.347619",
     "status": "completed"
    },
    "tags": []
   },
   "source": [
    "* Family Size"
   ]
  },
  {
   "cell_type": "code",
   "execution_count": 59,
   "id": "0c24ba26",
   "metadata": {
    "execution": {
     "iopub.execute_input": "2022-10-14T05:54:01.442470Z",
     "iopub.status.busy": "2022-10-14T05:54:01.441220Z",
     "iopub.status.idle": "2022-10-14T05:54:01.448951Z",
     "shell.execute_reply": "2022-10-14T05:54:01.447897Z"
    },
    "papermill": {
     "duration": 0.041206,
     "end_time": "2022-10-14T05:54:01.450839",
     "exception": false,
     "start_time": "2022-10-14T05:54:01.409633",
     "status": "completed"
    },
    "tags": []
   },
   "outputs": [],
   "source": [
    "load_data['Fam_size'] = load_data['SibSp'] + load_data['Parch'] + 1\n",
    "testds['Fam_size'] = testds['SibSp'] + testds['Parch'] + 1"
   ]
  },
  {
   "cell_type": "code",
   "execution_count": 60,
   "id": "618e26a9",
   "metadata": {
    "execution": {
     "iopub.execute_input": "2022-10-14T05:54:01.517647Z",
     "iopub.status.busy": "2022-10-14T05:54:01.517304Z",
     "iopub.status.idle": "2022-10-14T05:54:01.702771Z",
     "shell.execute_reply": "2022-10-14T05:54:01.701265Z"
    },
    "papermill": {
     "duration": 0.222281,
     "end_time": "2022-10-14T05:54:01.704822",
     "exception": false,
     "start_time": "2022-10-14T05:54:01.482541",
     "status": "completed"
    },
    "tags": []
   },
   "outputs": [
    {
     "data": {
      "image/png": "[encoded data removed]",
      "text/plain": [
       "<Figure size 360x360 with 1 Axes>"
      ]
     },
     "metadata": {
      "needs_background": "light"
     },
     "output_type": "display_data"
    }
   ],
   "source": [
    "bar_chart_compare(load_data, \"Fam_size\", title = \"Survival rate by family size\")"
   ]
  },
  {
   "cell_type": "code",
   "execution_count": 61,
   "id": "b0d3d4d0",
   "metadata": {
    "execution": {
     "iopub.execute_input": "2022-10-14T05:54:01.768792Z",
     "iopub.status.busy": "2022-10-14T05:54:01.768390Z",
     "iopub.status.idle": "2022-10-14T05:54:01.994521Z",
     "shell.execute_reply": "2022-10-14T05:54:01.993117Z"
    },
    "papermill": {
     "duration": 0.260017,
     "end_time": "2022-10-14T05:54:01.997030",
     "exception": false,
     "start_time": "2022-10-14T05:54:01.737013",
     "status": "completed"
    },
    "tags": []
   },
   "outputs": [
    {
     "data": {
      "image/png": "[encoded data removed]",
      "text/plain": [
       "<Figure size 360x360 with 1 Axes>"
      ]
     },
     "metadata": {
      "needs_background": "light"
     },
     "output_type": "display_data"
    }
   ],
   "source": [
    "show_compare_countplot(load_data, \"Fam_size\",\"Survived\", \"Survivor count by family size\")"
   ]
  },
  {
   "cell_type": "code",
   "execution_count": 62,
   "id": "684fd8b4",
   "metadata": {
    "execution": {
     "iopub.execute_input": "2022-10-14T05:54:02.061087Z",
     "iopub.status.busy": "2022-10-14T05:54:02.060716Z",
     "iopub.status.idle": "2022-10-14T05:54:02.071248Z",
     "shell.execute_reply": "2022-10-14T05:54:02.069847Z"
    },
    "papermill": {
     "duration": 0.045172,
     "end_time": "2022-10-14T05:54:02.073702",
     "exception": false,
     "start_time": "2022-10-14T05:54:02.028530",
     "status": "completed"
    },
    "tags": []
   },
   "outputs": [],
   "source": [
    "load_data['Fam_type'] = pd.cut(load_data.Fam_size, [0,1,4,7,11], labels=['Solo', 'Small', 'Big', 'Very big'])\n",
    "testds['Fam_type'] = pd.cut(testds.Fam_size, [0,1,4,7,11], labels=['Solo', 'Small', 'Big', 'Very big'])"
   ]
  },
  {
   "cell_type": "code",
   "execution_count": 63,
   "id": "1409ed71",
   "metadata": {
    "execution": {
     "iopub.execute_input": "2022-10-14T05:54:02.136635Z",
     "iopub.status.busy": "2022-10-14T05:54:02.136279Z",
     "iopub.status.idle": "2022-10-14T05:54:02.270410Z",
     "shell.execute_reply": "2022-10-14T05:54:02.269718Z"
    },
    "papermill": {
     "duration": 0.167777,
     "end_time": "2022-10-14T05:54:02.272283",
     "exception": false,
     "start_time": "2022-10-14T05:54:02.104506",
     "status": "completed"
    },
    "tags": []
   },
   "outputs": [
    {
     "data": {
      "image/png": "[encoded data removed]",
      "text/plain": [
       "<Figure size 360x360 with 1 Axes>"
      ]
     },
     "metadata": {
      "needs_background": "light"
     },
     "output_type": "display_data"
    }
   ],
   "source": [
    "bar_chart_compare(load_data, \"Fam_type\", title = \"Survival rate by family type\")"
   ]
  },
  {
   "cell_type": "code",
   "execution_count": 64,
   "id": "6749f6ce",
   "metadata": {
    "execution": {
     "iopub.execute_input": "2022-10-14T05:54:02.337251Z",
     "iopub.status.busy": "2022-10-14T05:54:02.335998Z",
     "iopub.status.idle": "2022-10-14T05:54:02.362351Z",
     "shell.execute_reply": "2022-10-14T05:54:02.361479Z"
    },
    "papermill": {
     "duration": 0.060795,
     "end_time": "2022-10-14T05:54:02.364277",
     "exception": false,
     "start_time": "2022-10-14T05:54:02.303482",
     "status": "completed"
    },
    "tags": []
   },
   "outputs": [
    {
     "data": {
      "text/html": [
       "<div>\n",
       "<style scoped>\n",
       "    .dataframe tbody tr th:only-of-type {\n",
       "        vertical-align: middle;\n",
       "    }\n",
       "\n",
       "    .dataframe tbody tr th {\n",
       "        vertical-align: top;\n",
       "    }\n",
       "\n",
       "    .dataframe thead th {\n",
       "        text-align: right;\n",
       "    }\n",
       "</style>\n",
       "<table border=\"1\" class=\"dataframe\">\n",
       "  <thead>\n",
       "    <tr style=\"text-align: right;\">\n",
       "      <th></th>\n",
       "      <th>PassengerId</th>\n",
       "      <th>Survived</th>\n",
       "      <th>Pclass</th>\n",
       "      <th>Name</th>\n",
       "      <th>Sex</th>\n",
       "      <th>Age</th>\n",
       "      <th>SibSp</th>\n",
       "      <th>Parch</th>\n",
       "      <th>Ticket</th>\n",
       "      <th>Fare</th>\n",
       "      <th>Cabin</th>\n",
       "      <th>Embarked</th>\n",
       "      <th>Title</th>\n",
       "      <th>Ticket_2letter</th>\n",
       "      <th>Ticket_len</th>\n",
       "      <th>Cabin_num</th>\n",
       "      <th>Cabin_1letter</th>\n",
       "      <th>Fam_size</th>\n",
       "      <th>Fam_type</th>\n",
       "    </tr>\n",
       "  </thead>\n",
       "  <tbody>\n",
       "    <tr>\n",
       "      <th>0</th>\n",
       "      <td>1</td>\n",
       "      <td>0</td>\n",
       "      <td>3</td>\n",
       "      <td>Braund, Mr. Owen Harris</td>\n",
       "      <td>male</td>\n",
       "      <td>22.0</td>\n",
       "      <td>1</td>\n",
       "      <td>0</td>\n",
       "      <td>A/5 21171</td>\n",
       "      <td>7.2500</td>\n",
       "      <td>NaN</td>\n",
       "      <td>S</td>\n",
       "      <td>Mr</td>\n",
       "      <td>A/</td>\n",
       "      <td>9</td>\n",
       "      <td>2</td>\n",
       "      <td>A</td>\n",
       "      <td>2</td>\n",
       "      <td>Small</td>\n",
       "    </tr>\n",
       "    <tr>\n",
       "      <th>1</th>\n",
       "      <td>2</td>\n",
       "      <td>1</td>\n",
       "      <td>1</td>\n",
       "      <td>Cumings, Mrs. John Bradley (Florence Briggs Th...</td>\n",
       "      <td>female</td>\n",
       "      <td>38.0</td>\n",
       "      <td>1</td>\n",
       "      <td>0</td>\n",
       "      <td>PC 17599</td>\n",
       "      <td>71.2833</td>\n",
       "      <td>C85</td>\n",
       "      <td>C</td>\n",
       "      <td>Mrs</td>\n",
       "      <td>PC</td>\n",
       "      <td>8</td>\n",
       "      <td>2</td>\n",
       "      <td>P</td>\n",
       "      <td>2</td>\n",
       "      <td>Small</td>\n",
       "    </tr>\n",
       "    <tr>\n",
       "      <th>2</th>\n",
       "      <td>3</td>\n",
       "      <td>1</td>\n",
       "      <td>3</td>\n",
       "      <td>Heikkinen, Miss. Laina</td>\n",
       "      <td>female</td>\n",
       "      <td>26.0</td>\n",
       "      <td>0</td>\n",
       "      <td>0</td>\n",
       "      <td>STON/O2. 3101282</td>\n",
       "      <td>7.9250</td>\n",
       "      <td>NaN</td>\n",
       "      <td>S</td>\n",
       "      <td>Miss</td>\n",
       "      <td>ST</td>\n",
       "      <td>16</td>\n",
       "      <td>2</td>\n",
       "      <td>S</td>\n",
       "      <td>1</td>\n",
       "      <td>Solo</td>\n",
       "    </tr>\n",
       "    <tr>\n",
       "      <th>3</th>\n",
       "      <td>4</td>\n",
       "      <td>1</td>\n",
       "      <td>1</td>\n",
       "      <td>Futrelle, Mrs. Jacques Heath (Lily May Peel)</td>\n",
       "      <td>female</td>\n",
       "      <td>35.0</td>\n",
       "      <td>1</td>\n",
       "      <td>0</td>\n",
       "      <td>113803</td>\n",
       "      <td>53.1000</td>\n",
       "      <td>C123</td>\n",
       "      <td>S</td>\n",
       "      <td>Mrs</td>\n",
       "      <td>11</td>\n",
       "      <td>6</td>\n",
       "      <td>1</td>\n",
       "      <td>1</td>\n",
       "      <td>2</td>\n",
       "      <td>Small</td>\n",
       "    </tr>\n",
       "    <tr>\n",
       "      <th>4</th>\n",
       "      <td>5</td>\n",
       "      <td>0</td>\n",
       "      <td>3</td>\n",
       "      <td>Allen, Mr. William Henry</td>\n",
       "      <td>male</td>\n",
       "      <td>35.0</td>\n",
       "      <td>0</td>\n",
       "      <td>0</td>\n",
       "      <td>373450</td>\n",
       "      <td>8.0500</td>\n",
       "      <td>NaN</td>\n",
       "      <td>S</td>\n",
       "      <td>Mr</td>\n",
       "      <td>37</td>\n",
       "      <td>6</td>\n",
       "      <td>1</td>\n",
       "      <td>3</td>\n",
       "      <td>1</td>\n",
       "      <td>Solo</td>\n",
       "    </tr>\n",
       "    <tr>\n",
       "      <th>...</th>\n",
       "      <td>...</td>\n",
       "      <td>...</td>\n",
       "      <td>...</td>\n",
       "      <td>...</td>\n",
       "      <td>...</td>\n",
       "      <td>...</td>\n",
       "      <td>...</td>\n",
       "      <td>...</td>\n",
       "      <td>...</td>\n",
       "      <td>...</td>\n",
       "      <td>...</td>\n",
       "      <td>...</td>\n",
       "      <td>...</td>\n",
       "      <td>...</td>\n",
       "      <td>...</td>\n",
       "      <td>...</td>\n",
       "      <td>...</td>\n",
       "      <td>...</td>\n",
       "      <td>...</td>\n",
       "    </tr>\n",
       "    <tr>\n",
       "      <th>886</th>\n",
       "      <td>887</td>\n",
       "      <td>0</td>\n",
       "      <td>2</td>\n",
       "      <td>Montvila, Rev. Juozas</td>\n",
       "      <td>male</td>\n",
       "      <td>27.0</td>\n",
       "      <td>0</td>\n",
       "      <td>0</td>\n",
       "      <td>211536</td>\n",
       "      <td>13.0000</td>\n",
       "      <td>NaN</td>\n",
       "      <td>S</td>\n",
       "      <td>Rev</td>\n",
       "      <td>21</td>\n",
       "      <td>6</td>\n",
       "      <td>1</td>\n",
       "      <td>2</td>\n",
       "      <td>1</td>\n",
       "      <td>Solo</td>\n",
       "    </tr>\n",
       "    <tr>\n",
       "      <th>887</th>\n",
       "      <td>888</td>\n",
       "      <td>1</td>\n",
       "      <td>1</td>\n",
       "      <td>Graham, Miss. Margaret Edith</td>\n",
       "      <td>female</td>\n",
       "      <td>19.0</td>\n",
       "      <td>0</td>\n",
       "      <td>0</td>\n",
       "      <td>112053</td>\n",
       "      <td>30.0000</td>\n",
       "      <td>B42</td>\n",
       "      <td>S</td>\n",
       "      <td>Miss</td>\n",
       "      <td>11</td>\n",
       "      <td>6</td>\n",
       "      <td>1</td>\n",
       "      <td>1</td>\n",
       "      <td>1</td>\n",
       "      <td>Solo</td>\n",
       "    </tr>\n",
       "    <tr>\n",
       "      <th>888</th>\n",
       "      <td>889</td>\n",
       "      <td>0</td>\n",
       "      <td>3</td>\n",
       "      <td>Johnston, Miss. Catherine Helen \"Carrie\"</td>\n",
       "      <td>female</td>\n",
       "      <td>NaN</td>\n",
       "      <td>1</td>\n",
       "      <td>2</td>\n",
       "      <td>W./C. 6607</td>\n",
       "      <td>23.4500</td>\n",
       "      <td>NaN</td>\n",
       "      <td>S</td>\n",
       "      <td>Miss</td>\n",
       "      <td>W.</td>\n",
       "      <td>10</td>\n",
       "      <td>2</td>\n",
       "      <td>W</td>\n",
       "      <td>4</td>\n",
       "      <td>Small</td>\n",
       "    </tr>\n",
       "    <tr>\n",
       "      <th>889</th>\n",
       "      <td>890</td>\n",
       "      <td>1</td>\n",
       "      <td>1</td>\n",
       "      <td>Behr, Mr. Karl Howell</td>\n",
       "      <td>male</td>\n",
       "      <td>26.0</td>\n",
       "      <td>0</td>\n",
       "      <td>0</td>\n",
       "      <td>111369</td>\n",
       "      <td>30.0000</td>\n",
       "      <td>C148</td>\n",
       "      <td>C</td>\n",
       "      <td>Mr</td>\n",
       "      <td>11</td>\n",
       "      <td>6</td>\n",
       "      <td>1</td>\n",
       "      <td>1</td>\n",
       "      <td>1</td>\n",
       "      <td>Solo</td>\n",
       "    </tr>\n",
       "    <tr>\n",
       "      <th>890</th>\n",
       "      <td>891</td>\n",
       "      <td>0</td>\n",
       "      <td>3</td>\n",
       "      <td>Dooley, Mr. Patrick</td>\n",
       "      <td>male</td>\n",
       "      <td>32.0</td>\n",
       "      <td>0</td>\n",
       "      <td>0</td>\n",
       "      <td>370376</td>\n",
       "      <td>7.7500</td>\n",
       "      <td>NaN</td>\n",
       "      <td>Q</td>\n",
       "      <td>Mr</td>\n",
       "      <td>37</td>\n",
       "      <td>6</td>\n",
       "      <td>1</td>\n",
       "      <td>3</td>\n",
       "      <td>1</td>\n",
       "      <td>Solo</td>\n",
       "    </tr>\n",
       "  </tbody>\n",
       "</table>\n",
       "<p>891 rows × 19 columns</p>\n",
       "</div>"
      ],
      "text/plain": [
       "     PassengerId  Survived  Pclass  \\\n",
       "0              1         0       3   \n",
       "1              2         1       1   \n",
       "2              3         1       3   \n",
       "3              4         1       1   \n",
       "4              5         0       3   \n",
       "..           ...       ...     ...   \n",
       "886          887         0       2   \n",
       "887          888         1       1   \n",
       "888          889         0       3   \n",
       "889          890         1       1   \n",
       "890          891         0       3   \n",
       "\n",
       "                                                  Name     Sex   Age  SibSp  \\\n",
       "0                              Braund, Mr. Owen Harris    male  22.0      1   \n",
       "1    Cumings, Mrs. John Bradley (Florence Briggs Th...  female  38.0      1   \n",
       "2                               Heikkinen, Miss. Laina  female  26.0      0   \n",
       "3         Futrelle, Mrs. Jacques Heath (Lily May Peel)  female  35.0      1   \n",
       "4                             Allen, Mr. William Henry    male  35.0      0   \n",
       "..                                                 ...     ...   ...    ...   \n",
       "886                              Montvila, Rev. Juozas    male  27.0      0   \n",
       "887                       Graham, Miss. Margaret Edith  female  19.0      0   \n",
       "888           Johnston, Miss. Catherine Helen \"Carrie\"  female   NaN      1   \n",
       "889                              Behr, Mr. Karl Howell    male  26.0      0   \n",
       "890                                Dooley, Mr. Patrick    male  32.0      0   \n",
       "\n",
       "     Parch            Ticket     Fare Cabin Embarked Title Ticket_2letter  \\\n",
       "0        0         A/5 21171   7.2500   NaN        S    Mr             A/   \n",
       "1        0          PC 17599  71.2833   C85        C   Mrs             PC   \n",
       "2        0  STON/O2. 3101282   7.9250   NaN        S  Miss             ST   \n",
       "3        0            113803  53.1000  C123        S   Mrs             11   \n",
       "4        0            373450   8.0500   NaN        S    Mr             37   \n",
       "..     ...               ...      ...   ...      ...   ...            ...   \n",
       "886      0            211536  13.0000   NaN        S   Rev             21   \n",
       "887      0            112053  30.0000   B42        S  Miss             11   \n",
       "888      2        W./C. 6607  23.4500   NaN        S  Miss             W.   \n",
       "889      0            111369  30.0000  C148        C    Mr             11   \n",
       "890      0            370376   7.7500   NaN        Q    Mr             37   \n",
       "\n",
       "     Ticket_len  Cabin_num Cabin_1letter  Fam_size Fam_type  \n",
       "0             9          2             A         2    Small  \n",
       "1             8          2             P         2    Small  \n",
       "2            16          2             S         1     Solo  \n",
       "3             6          1             1         2    Small  \n",
       "4             6          1             3         1     Solo  \n",
       "..          ...        ...           ...       ...      ...  \n",
       "886           6          1             2         1     Solo  \n",
       "887           6          1             1         1     Solo  \n",
       "888          10          2             W         4    Small  \n",
       "889           6          1             1         1     Solo  \n",
       "890           6          1             3         1     Solo  \n",
       "\n",
       "[891 rows x 19 columns]"
      ]
     },
     "execution_count": 64,
     "metadata": {},
     "output_type": "execute_result"
    }
   ],
   "source": [
    "load_data"
   ]
  },
  {
   "cell_type": "markdown",
   "id": "52f33360",
   "metadata": {
    "papermill": {
     "duration": 0.031205,
     "end_time": "2022-10-14T05:54:02.428321",
     "exception": false,
     "start_time": "2022-10-14T05:54:02.397116",
     "status": "completed"
    },
    "tags": []
   },
   "source": [
    "## Split Data"
   ]
  },
  {
   "cell_type": "code",
   "execution_count": 65,
   "id": "15dfa6d0",
   "metadata": {
    "execution": {
     "iopub.execute_input": "2022-10-14T05:54:02.492376Z",
     "iopub.status.busy": "2022-10-14T05:54:02.491809Z",
     "iopub.status.idle": "2022-10-14T05:54:02.499466Z",
     "shell.execute_reply": "2022-10-14T05:54:02.498392Z"
    },
    "papermill": {
     "duration": 0.042145,
     "end_time": "2022-10-14T05:54:02.501468",
     "exception": false,
     "start_time": "2022-10-14T05:54:02.459323",
     "status": "completed"
    },
    "tags": []
   },
   "outputs": [],
   "source": [
    "train_ds = load_data.sample(frac=0.70, random_state=1)\n",
    "\n",
    "val_ds = load_data.drop(train_ds.index)"
   ]
  },
  {
   "cell_type": "code",
   "execution_count": 66,
   "id": "7be6af03",
   "metadata": {
    "execution": {
     "iopub.execute_input": "2022-10-14T05:54:02.565272Z",
     "iopub.status.busy": "2022-10-14T05:54:02.564940Z",
     "iopub.status.idle": "2022-10-14T05:54:02.582348Z",
     "shell.execute_reply": "2022-10-14T05:54:02.581510Z"
    },
    "papermill": {
     "duration": 0.051484,
     "end_time": "2022-10-14T05:54:02.584203",
     "exception": false,
     "start_time": "2022-10-14T05:54:02.532719",
     "status": "completed"
    },
    "tags": []
   },
   "outputs": [
    {
     "data": {
      "text/html": [
       "<div>\n",
       "<style scoped>\n",
       "    .dataframe tbody tr th:only-of-type {\n",
       "        vertical-align: middle;\n",
       "    }\n",
       "\n",
       "    .dataframe tbody tr th {\n",
       "        vertical-align: top;\n",
       "    }\n",
       "\n",
       "    .dataframe thead th {\n",
       "        text-align: right;\n",
       "    }\n",
       "</style>\n",
       "<table border=\"1\" class=\"dataframe\">\n",
       "  <thead>\n",
       "    <tr style=\"text-align: right;\">\n",
       "      <th></th>\n",
       "      <th>PassengerId</th>\n",
       "      <th>Survived</th>\n",
       "      <th>Pclass</th>\n",
       "      <th>Name</th>\n",
       "      <th>Sex</th>\n",
       "      <th>Age</th>\n",
       "      <th>SibSp</th>\n",
       "      <th>Parch</th>\n",
       "      <th>Ticket</th>\n",
       "      <th>Fare</th>\n",
       "      <th>Cabin</th>\n",
       "      <th>Embarked</th>\n",
       "      <th>Title</th>\n",
       "      <th>Ticket_2letter</th>\n",
       "      <th>Ticket_len</th>\n",
       "      <th>Cabin_num</th>\n",
       "      <th>Cabin_1letter</th>\n",
       "      <th>Fam_size</th>\n",
       "      <th>Fam_type</th>\n",
       "    </tr>\n",
       "  </thead>\n",
       "  <tbody>\n",
       "    <tr>\n",
       "      <th>862</th>\n",
       "      <td>863</td>\n",
       "      <td>1</td>\n",
       "      <td>1</td>\n",
       "      <td>Swift, Mrs. Frederick Joel (Margaret Welles Ba...</td>\n",
       "      <td>female</td>\n",
       "      <td>48.0</td>\n",
       "      <td>0</td>\n",
       "      <td>0</td>\n",
       "      <td>17466</td>\n",
       "      <td>25.9292</td>\n",
       "      <td>D17</td>\n",
       "      <td>S</td>\n",
       "      <td>Mrs</td>\n",
       "      <td>17</td>\n",
       "      <td>5</td>\n",
       "      <td>1</td>\n",
       "      <td>1</td>\n",
       "      <td>1</td>\n",
       "      <td>Solo</td>\n",
       "    </tr>\n",
       "    <tr>\n",
       "      <th>223</th>\n",
       "      <td>224</td>\n",
       "      <td>0</td>\n",
       "      <td>3</td>\n",
       "      <td>Nenkoff, Mr. Christo</td>\n",
       "      <td>male</td>\n",
       "      <td>NaN</td>\n",
       "      <td>0</td>\n",
       "      <td>0</td>\n",
       "      <td>349234</td>\n",
       "      <td>7.8958</td>\n",
       "      <td>NaN</td>\n",
       "      <td>S</td>\n",
       "      <td>Mr</td>\n",
       "      <td>34</td>\n",
       "      <td>6</td>\n",
       "      <td>1</td>\n",
       "      <td>3</td>\n",
       "      <td>1</td>\n",
       "      <td>Solo</td>\n",
       "    </tr>\n",
       "    <tr>\n",
       "      <th>84</th>\n",
       "      <td>85</td>\n",
       "      <td>1</td>\n",
       "      <td>2</td>\n",
       "      <td>Ilett, Miss. Bertha</td>\n",
       "      <td>female</td>\n",
       "      <td>17.0</td>\n",
       "      <td>0</td>\n",
       "      <td>0</td>\n",
       "      <td>SO/C 14885</td>\n",
       "      <td>10.5000</td>\n",
       "      <td>NaN</td>\n",
       "      <td>S</td>\n",
       "      <td>Miss</td>\n",
       "      <td>SO</td>\n",
       "      <td>10</td>\n",
       "      <td>2</td>\n",
       "      <td>S</td>\n",
       "      <td>1</td>\n",
       "      <td>Solo</td>\n",
       "    </tr>\n",
       "    <tr>\n",
       "      <th>680</th>\n",
       "      <td>681</td>\n",
       "      <td>0</td>\n",
       "      <td>3</td>\n",
       "      <td>Peters, Miss. Katie</td>\n",
       "      <td>female</td>\n",
       "      <td>NaN</td>\n",
       "      <td>0</td>\n",
       "      <td>0</td>\n",
       "      <td>330935</td>\n",
       "      <td>8.1375</td>\n",
       "      <td>NaN</td>\n",
       "      <td>Q</td>\n",
       "      <td>Miss</td>\n",
       "      <td>33</td>\n",
       "      <td>6</td>\n",
       "      <td>1</td>\n",
       "      <td>3</td>\n",
       "      <td>1</td>\n",
       "      <td>Solo</td>\n",
       "    </tr>\n",
       "    <tr>\n",
       "      <th>535</th>\n",
       "      <td>536</td>\n",
       "      <td>1</td>\n",
       "      <td>2</td>\n",
       "      <td>Hart, Miss. Eva Miriam</td>\n",
       "      <td>female</td>\n",
       "      <td>7.0</td>\n",
       "      <td>0</td>\n",
       "      <td>2</td>\n",
       "      <td>F.C.C. 13529</td>\n",
       "      <td>26.2500</td>\n",
       "      <td>NaN</td>\n",
       "      <td>S</td>\n",
       "      <td>Miss</td>\n",
       "      <td>F.</td>\n",
       "      <td>12</td>\n",
       "      <td>2</td>\n",
       "      <td>F</td>\n",
       "      <td>3</td>\n",
       "      <td>Small</td>\n",
       "    </tr>\n",
       "  </tbody>\n",
       "</table>\n",
       "</div>"
      ],
      "text/plain": [
       "     PassengerId  Survived  Pclass  \\\n",
       "862          863         1       1   \n",
       "223          224         0       3   \n",
       "84            85         1       2   \n",
       "680          681         0       3   \n",
       "535          536         1       2   \n",
       "\n",
       "                                                  Name     Sex   Age  SibSp  \\\n",
       "862  Swift, Mrs. Frederick Joel (Margaret Welles Ba...  female  48.0      0   \n",
       "223                               Nenkoff, Mr. Christo    male   NaN      0   \n",
       "84                                 Ilett, Miss. Bertha  female  17.0      0   \n",
       "680                                Peters, Miss. Katie  female   NaN      0   \n",
       "535                             Hart, Miss. Eva Miriam  female   7.0      0   \n",
       "\n",
       "     Parch        Ticket     Fare Cabin Embarked Title Ticket_2letter  \\\n",
       "862      0         17466  25.9292   D17        S   Mrs             17   \n",
       "223      0        349234   7.8958   NaN        S    Mr             34   \n",
       "84       0    SO/C 14885  10.5000   NaN        S  Miss             SO   \n",
       "680      0        330935   8.1375   NaN        Q  Miss             33   \n",
       "535      2  F.C.C. 13529  26.2500   NaN        S  Miss             F.   \n",
       "\n",
       "     Ticket_len  Cabin_num Cabin_1letter  Fam_size Fam_type  \n",
       "862           5          1             1         1     Solo  \n",
       "223           6          1             3         1     Solo  \n",
       "84           10          2             S         1     Solo  \n",
       "680           6          1             3         1     Solo  \n",
       "535          12          2             F         3    Small  "
      ]
     },
     "execution_count": 66,
     "metadata": {},
     "output_type": "execute_result"
    }
   ],
   "source": [
    "train_ds.head()"
   ]
  },
  {
   "cell_type": "code",
   "execution_count": 67,
   "id": "a22cfbd8",
   "metadata": {
    "execution": {
     "iopub.execute_input": "2022-10-14T05:54:02.649373Z",
     "iopub.status.busy": "2022-10-14T05:54:02.648135Z",
     "iopub.status.idle": "2022-10-14T05:54:02.742092Z",
     "shell.execute_reply": "2022-10-14T05:54:02.741092Z"
    },
    "papermill": {
     "duration": 0.128496,
     "end_time": "2022-10-14T05:54:02.744052",
     "exception": false,
     "start_time": "2022-10-14T05:54:02.615556",
     "status": "completed"
    },
    "tags": []
   },
   "outputs": [
    {
     "name": "stderr",
     "output_type": "stream",
     "text": [
      "/opt/conda/lib/python3.7/site-packages/tensorflow_decision_forests/keras/core.py:1612: FutureWarning: In a future version of pandas all arguments of DataFrame.drop except for the argument 'labels' will be keyword-only\n",
      "  features_dataframe = dataframe.drop(label, 1)\n",
      "2022-10-14 05:54:02.677592: I tensorflow/core/common_runtime/process_util.cc:146] Creating new thread pool with default inter op setting: 2. Tune using inter_op_parallelism_threads for best performance.\n"
     ]
    }
   ],
   "source": [
    "train_ds = tfdf.keras.pd_dataframe_to_tf_dataset(train_ds, label=label)\n",
    "val_ds = tfdf.keras.pd_dataframe_to_tf_dataset(val_ds, label=label)"
   ]
  },
  {
   "cell_type": "markdown",
   "id": "f537b898",
   "metadata": {
    "papermill": {
     "duration": 0.031846,
     "end_time": "2022-10-14T05:54:02.807955",
     "exception": false,
     "start_time": "2022-10-14T05:54:02.776109",
     "status": "completed"
    },
    "tags": []
   },
   "source": [
    "## Specify features"
   ]
  },
  {
   "cell_type": "code",
   "execution_count": 68,
   "id": "fd18f781",
   "metadata": {
    "execution": {
     "iopub.execute_input": "2022-10-14T05:54:02.873050Z",
     "iopub.status.busy": "2022-10-14T05:54:02.872418Z",
     "iopub.status.idle": "2022-10-14T05:54:02.878758Z",
     "shell.execute_reply": "2022-10-14T05:54:02.878094Z"
    },
    "papermill": {
     "duration": 0.041185,
     "end_time": "2022-10-14T05:54:02.880617",
     "exception": false,
     "start_time": "2022-10-14T05:54:02.839432",
     "status": "completed"
    },
    "tags": []
   },
   "outputs": [],
   "source": [
    "pclass = tfdf.keras.FeatureUsage(name=\"Pclass\")\n",
    "fare = tfdf.keras.FeatureUsage(name=\"Fare\")\n",
    "title = tfdf.keras.FeatureUsage(name=\"Title\")\n",
    "embarked = tfdf.keras.FeatureUsage(name=\"Embarked\")\n",
    "famtype = tfdf.keras.FeatureUsage(name=\"Fam_type\")\n",
    "ticketlen = tfdf.keras.FeatureUsage(name=\"Ticket_len\")\n",
    "ticket2letter = tfdf.keras.FeatureUsage(name=\"Ticket_2letter\")\n",
    "\n",
    "all_features = [pclass, fare, title, embarked, famtype, ticketlen, ticket2letter]"
   ]
  },
  {
   "cell_type": "code",
   "execution_count": 69,
   "id": "ac4e5e9c",
   "metadata": {
    "execution": {
     "iopub.execute_input": "2022-10-14T05:54:02.947246Z",
     "iopub.status.busy": "2022-10-14T05:54:02.946596Z",
     "iopub.status.idle": "2022-10-14T05:54:02.979966Z",
     "shell.execute_reply": "2022-10-14T05:54:02.978136Z"
    },
    "papermill": {
     "duration": 0.069859,
     "end_time": "2022-10-14T05:54:02.982362",
     "exception": false,
     "start_time": "2022-10-14T05:54:02.912503",
     "status": "completed"
    },
    "tags": []
   },
   "outputs": [],
   "source": [
    "#Specify the model with features\n",
    "model_2 = tfdf.keras.RandomForestModel(verbose=2, features=all_features, num_trees=500, max_depth=5, exclude_non_specified_features=True)"
   ]
  },
  {
   "cell_type": "markdown",
   "id": "9feff3d9",
   "metadata": {
    "papermill": {
     "duration": 0.031017,
     "end_time": "2022-10-14T05:54:03.045016",
     "exception": false,
     "start_time": "2022-10-14T05:54:03.013999",
     "status": "completed"
    },
    "tags": []
   },
   "source": [
    "## Evaluate the model"
   ]
  },
  {
   "cell_type": "code",
   "execution_count": 70,
   "id": "49a0bf00",
   "metadata": {
    "execution": {
     "iopub.execute_input": "2022-10-14T05:54:03.110150Z",
     "iopub.status.busy": "2022-10-14T05:54:03.109773Z",
     "iopub.status.idle": "2022-10-14T05:54:13.251059Z",
     "shell.execute_reply": "2022-10-14T05:54:13.249445Z"
    },
    "papermill": {
     "duration": 10.17686,
     "end_time": "2022-10-14T05:54:13.253569",
     "exception": false,
     "start_time": "2022-10-14T05:54:03.076709",
     "status": "completed"
    },
    "tags": []
   },
   "outputs": [
    {
     "name": "stdout",
     "output_type": "stream",
     "text": [
      " 1/10 [==>...........................] - ETA: 1:00"
     ]
    },
    {
     "name": "stderr",
     "output_type": "stream",
     "text": [
      "2022-10-14 05:54:09.867463: I tensorflow/compiler/mlir/mlir_graph_optimization_pass.cc:185] None of the MLIR Optimization Passes are enabled (registered 2)\n",
      "[INFO kernel.cc:736] Start Yggdrasil model training\n",
      "[INFO kernel.cc:737] Collect training examples\n",
      "[INFO kernel.cc:392] Number of batches: 10\n",
      "[INFO kernel.cc:393] Number of examples: 624\n",
      "[INFO data_spec_inference.cc:290] 24 item(s) have been pruned (i.e. they are considered out of dictionary) for the column Ticket_2letter (29 item(s) left) because min_value_count=5 and max_number_of_unique_values=2000\n",
      "[INFO data_spec_inference.cc:290] 12 item(s) have been pruned (i.e. they are considered out of dictionary) for the column Title (4 item(s) left) because min_value_count=5 and max_number_of_unique_values=2000\n",
      "[INFO kernel.cc:759] Dataset:\n",
      "Number of records: 624\n",
      "Number of columns: 8\n",
      "\n",
      "Number of columns by type:\n",
      "\tCATEGORICAL: 5 (62.5%)\n",
      "\tNUMERICAL: 3 (37.5%)\n",
      "\n",
      "Columns:\n",
      "\n",
      "CATEGORICAL: 5 (62.5%)\n",
      "\t0: \"Embarked\" CATEGORICAL num-nas:1 (0.160256%) has-dict vocab-size:4 zero-ood-items most-frequent:\"S\" 439 (70.4655%)\n",
      "\t1: \"Fam_type\" CATEGORICAL has-dict vocab-size:5 zero-ood-items most-frequent:\"Solo\" 367 (58.8141%)\n",
      "\t4: \"Ticket_2letter\" CATEGORICAL has-dict vocab-size:30 num-oods:24 (3.84615%) most-frequent:\"34\" 86 (13.7821%)\n",
      "\t6: \"Title\" CATEGORICAL has-dict vocab-size:5 num-oods:12 (1.92308%) most-frequent:\"Mr\" 357 (57.2115%)\n",
      "\t7: \"__LABEL\" CATEGORICAL integerized vocab-size:3 no-ood-item\n",
      "\n",
      "NUMERICAL: 3 (37.5%)\n",
      "\t2: \"Fare\" NUMERICAL mean:34.0257 min:0 max:512.329 sd:54.8729\n",
      "\t3: \"Pclass\" NUMERICAL mean:2.29327 min:1 max:3 sd:0.842892\n",
      "\t5: \"Ticket_len\" NUMERICAL mean:6.84295 min:4 max:18 sd:2.8286\n",
      "\n",
      "Terminology:\n",
      "\tnas: Number of non-available (i.e. missing) values.\n",
      "\tood: Out of dictionary.\n",
      "\tmanually-defined: Attribute which type is manually defined by the user i.e. the type was not automatically inferred.\n",
      "\ttokenized: The attribute value is obtained through tokenization.\n",
      "\thas-dict: The attribute is attached to a string dictionary e.g. a categorical attribute stored as a string.\n",
      "\tvocab-size: Number of unique values.\n",
      "\n",
      "[INFO kernel.cc:762] Configure learner\n",
      "[INFO kernel.cc:787] Training config:\n",
      "learner: \"RANDOM_FOREST\"\n",
      "features: \"Embarked\"\n",
      "features: \"Fam_type\"\n",
      "features: \"Fare\"\n",
      "features: \"Pclass\"\n",
      "features: \"Ticket_2letter\"\n",
      "features: \"Ticket_len\"\n",
      "features: \"Title\"\n",
      "label: \"__LABEL\"\n",
      "task: CLASSIFICATION\n",
      "[yggdrasil_decision_forests.model.random_forest.proto.random_forest_config] {\n",
      "  num_trees: 500\n",
      "  decision_tree {\n",
      "    max_depth: 5\n",
      "    min_examples: 5\n",
      "    in_split_min_examples_check: true\n",
      "    missing_value_policy: GLOBAL_IMPUTATION\n",
      "    allow_na_conditions: false\n",
      "    categorical_set_greedy_forward {\n",
      "      sampling: 0.1\n",
      "      max_num_items: -1\n",
      "      min_item_frequency: 1\n",
      "    }\n",
      "    growing_strategy_local {\n",
      "    }\n",
      "    categorical {\n",
      "      cart {\n",
      "      }\n",
      "    }\n",
      "    num_candidate_attributes_ratio: -1\n",
      "    axis_aligned_split {\n",
      "    }\n",
      "    internal {\n",
      "      sorting_strategy: PRESORTED\n",
      "    }\n",
      "  }\n",
      "  winner_take_all_inference: true\n",
      "  compute_oob_performances: true\n",
      "  compute_oob_variable_importances: false\n",
      "  adapt_bootstrap_size_ratio_for_maximum_training_duration: false\n",
      "}\n",
      "\n",
      "[INFO kernel.cc:790] Deployment config:\n",
      "num_threads: 6\n",
      "\n",
      "[INFO kernel.cc:817] Train model\n",
      "[INFO random_forest.cc:315] Training random forest on 624 example(s) and 7 feature(s).\n",
      "[INFO random_forest.cc:628] Training of tree  1/500 (tree index:2) done accuracy:0.814978 logloss:6.66887\n",
      "[INFO random_forest.cc:628] Training of tree  11/500 (tree index:10) done accuracy:0.805873 logloss:4.46535\n",
      "[INFO random_forest.cc:628] Training of tree  21/500 (tree index:20) done accuracy:0.81891 logloss:2.87896\n",
      "[INFO random_forest.cc:628] Training of tree  31/500 (tree index:30) done accuracy:0.820513 logloss:2.38648\n",
      "[INFO random_forest.cc:628] Training of tree  41/500 (tree index:34) done accuracy:0.823718 logloss:2.06002\n",
      "[INFO random_forest.cc:628] Training of tree  51/500 (tree index:52) done accuracy:0.826923 logloss:1.96042\n",
      "[INFO random_forest.cc:628] Training of tree  61/500 (tree index:60) done accuracy:0.830128 logloss:1.85238\n",
      "[INFO random_forest.cc:628] Training of tree  72/500 (tree index:71) done accuracy:0.831731 logloss:1.85405\n",
      "[INFO random_forest.cc:628] Training of tree  83/500 (tree index:82) done accuracy:0.826923 logloss:1.85506\n",
      "[INFO random_forest.cc:628] Training of tree  93/500 (tree index:93) done accuracy:0.838141 logloss:1.69684\n",
      "[INFO random_forest.cc:628] Training of tree  103/500 (tree index:102) done accuracy:0.831731 logloss:1.64584\n",
      "[INFO random_forest.cc:628] Training of tree  113/500 (tree index:112) done accuracy:0.834936 logloss:1.64269\n",
      "[INFO random_forest.cc:628] Training of tree  124/500 (tree index:123) done accuracy:0.830128 logloss:1.64559\n",
      "[INFO random_forest.cc:628] Training of tree  134/500 (tree index:133) done accuracy:0.826923 logloss:1.64684\n",
      "[INFO random_forest.cc:628] Training of tree  144/500 (tree index:143) done accuracy:0.828526 logloss:1.59698\n",
      "[INFO random_forest.cc:628] Training of tree  154/500 (tree index:153) done accuracy:0.830128 logloss:1.49273\n",
      "[INFO random_forest.cc:628] Training of tree  164/500 (tree index:163) done accuracy:0.830128 logloss:1.44243\n",
      "[INFO random_forest.cc:628] Training of tree  174/500 (tree index:174) done accuracy:0.828526 logloss:1.44479\n",
      "[INFO random_forest.cc:628] Training of tree  184/500 (tree index:183) done accuracy:0.831731 logloss:1.44463\n",
      "[INFO random_forest.cc:628] Training of tree  194/500 (tree index:193) done accuracy:0.825321 logloss:1.44318\n",
      "[INFO random_forest.cc:628] Training of tree  204/500 (tree index:205) done accuracy:0.830128 logloss:1.44387\n",
      "[INFO random_forest.cc:628] Training of tree  215/500 (tree index:214) done accuracy:0.830128 logloss:1.39238\n",
      "[INFO random_forest.cc:628] Training of tree  225/500 (tree index:225) done accuracy:0.826923 logloss:1.39344\n",
      "[INFO random_forest.cc:628] Training of tree  235/500 (tree index:234) done accuracy:0.828526 logloss:1.39336\n",
      "[INFO random_forest.cc:628] Training of tree  245/500 (tree index:240) done accuracy:0.826923 logloss:1.39287\n",
      "[INFO random_forest.cc:628] Training of tree  255/500 (tree index:256) done accuracy:0.825321 logloss:1.39373\n",
      "[INFO random_forest.cc:628] Training of tree  265/500 (tree index:264) done accuracy:0.826923 logloss:1.39278\n",
      "[INFO random_forest.cc:628] Training of tree  275/500 (tree index:277) done accuracy:0.826923 logloss:1.39313\n",
      "[INFO random_forest.cc:628] Training of tree  285/500 (tree index:285) done accuracy:0.825321 logloss:1.39256\n",
      "[INFO random_forest.cc:628] Training of tree  295/500 (tree index:295) done accuracy:0.826923 logloss:1.3917\n",
      "[INFO random_forest.cc:628] Training of tree  305/500 (tree index:305) done accuracy:0.825321 logloss:1.39061\n",
      "[INFO random_forest.cc:628] Training of tree  315/500 (tree index:315) done accuracy:0.826923 logloss:1.39097\n",
      "[INFO random_forest.cc:628] Training of tree  325/500 (tree index:324) done accuracy:0.826923 logloss:1.39053\n",
      "[INFO random_forest.cc:628] Training of tree  335/500 (tree index:334) done accuracy:0.823718 logloss:1.34107\n",
      "[INFO random_forest.cc:628] Training of tree  345/500 (tree index:347) done accuracy:0.825321 logloss:1.34015\n",
      "[INFO random_forest.cc:628] Training of tree  355/500 (tree index:355) done accuracy:0.823718 logloss:1.33955\n",
      "[INFO random_forest.cc:628] Training of tree  365/500 (tree index:365) done accuracy:0.825321 logloss:1.34002\n",
      "[INFO random_forest.cc:628] Training of tree  377/500 (tree index:345) done accuracy:0.825321 logloss:1.2896\n",
      "[INFO random_forest.cc:628] Training of tree  387/500 (tree index:386) done accuracy:0.823718 logloss:1.28971\n",
      "[INFO random_forest.cc:628] Training of tree  397/500 (tree index:398) done accuracy:0.825321 logloss:1.23917\n",
      "[INFO random_forest.cc:628] Training of tree  407/500 (tree index:406) done accuracy:0.825321 logloss:1.23897\n",
      "[INFO random_forest.cc:628] Training of tree  417/500 (tree index:416) done accuracy:0.825321 logloss:1.2391\n",
      "[INFO random_forest.cc:628] Training of tree  428/500 (tree index:427) done accuracy:0.826923 logloss:1.23987\n",
      "[INFO random_forest.cc:628] Training of tree  438/500 (tree index:438) done accuracy:0.825321 logloss:1.2402\n",
      "[INFO random_forest.cc:628] Training of tree  448/500 (tree index:448) done accuracy:0.828526 logloss:1.2405\n",
      "[INFO random_forest.cc:628] Training of tree  458/500 (tree index:457) done accuracy:0.826923 logloss:1.24062\n",
      "[INFO random_forest.cc:628] Training of tree  468/500 (tree index:467) done accuracy:0.826923 logloss:1.24104\n",
      "[INFO random_forest.cc:628] Training of tree  478/500 (tree index:477) done accuracy:0.826923 logloss:1.24178\n",
      "[INFO random_forest.cc:628] Training of tree  488/500 (tree index:489) done accuracy:0.828526 logloss:1.24197\n",
      "[INFO random_forest.cc:628] Training of tree  498/500 (tree index:497) done accuracy:0.826923 logloss:1.24206\n",
      "[INFO random_forest.cc:628] Training of tree  500/500 (tree index:499) done accuracy:0.826923 logloss:1.24193\n",
      "[INFO random_forest.cc:696] Final OOB metrics: accuracy:0.826923 logloss:1.24193\n",
      "[INFO kernel.cc:828] Export model in log directory: /tmp/tmpbp5te9pc\n",
      "[INFO kernel.cc:836] Save model in resources\n",
      "[INFO kernel.cc:988] Loading model from path\n",
      "[INFO decision_forest.cc:590] Model loaded with 500 root(s), 13530 node(s), and 7 input feature(s).\n",
      "[INFO abstract_model.cc:993] Engine \"RandomForestOptPred\" built\n",
      "[INFO kernel.cc:848] Use fast generic engine\n"
     ]
    },
    {
     "name": "stdout",
     "output_type": "stream",
     "text": [
      "10/10 [==============================] - 10s 333ms/step - val_loss: 0.0000e+00 - val_accuracy: 0.8240\n",
      "5/5 [==============================] - 0s 3ms/step - loss: 0.0000e+00 - accuracy: 0.8240\n",
      "{'loss': 0.0, 'accuracy': 0.8239700198173523}\n"
     ]
    }
   ],
   "source": [
    "model_2.compile(metrics=[\"accuracy\"])\n",
    "model_2.fit(x=train_ds, validation_data=val_ds)\n",
    "\n",
    "print(model_2.evaluate(val_ds, return_dict=True))"
   ]
  },
  {
   "cell_type": "markdown",
   "id": "1e6a52e8",
   "metadata": {
    "papermill": {
     "duration": 0.032099,
     "end_time": "2022-10-14T05:54:13.318070",
     "exception": false,
     "start_time": "2022-10-14T05:54:13.285971",
     "status": "completed"
    },
    "tags": []
   },
   "source": [
    "## Save model"
   ]
  },
  {
   "cell_type": "code",
   "execution_count": 71,
   "id": "92d268be",
   "metadata": {
    "execution": {
     "iopub.execute_input": "2022-10-14T05:54:13.384214Z",
     "iopub.status.busy": "2022-10-14T05:54:13.383838Z",
     "iopub.status.idle": "2022-10-14T05:54:14.804408Z",
     "shell.execute_reply": "2022-10-14T05:54:14.803217Z"
    },
    "papermill": {
     "duration": 1.456825,
     "end_time": "2022-10-14T05:54:14.806939",
     "exception": false,
     "start_time": "2022-10-14T05:54:13.350114",
     "status": "completed"
    },
    "tags": []
   },
   "outputs": [
    {
     "name": "stderr",
     "output_type": "stream",
     "text": [
      "2022-10-14 05:54:13.964139: W tensorflow/python/util/util.cc:348] Sets are not currently considered sequences, but this may change in the future, so consider avoiding using them.\n"
     ]
    }
   ],
   "source": [
    "model_2.save(\"titanic_model\")"
   ]
  },
  {
   "cell_type": "markdown",
   "id": "3fc95658",
   "metadata": {
    "papermill": {
     "duration": 0.03244,
     "end_time": "2022-10-14T05:54:14.872510",
     "exception": false,
     "start_time": "2022-10-14T05:54:14.840070",
     "status": "completed"
    },
    "tags": []
   },
   "source": [
    "## Plot the model"
   ]
  },
  {
   "cell_type": "code",
   "execution_count": 72,
   "id": "5c6fb56e",
   "metadata": {
    "execution": {
     "iopub.execute_input": "2022-10-14T05:54:14.940773Z",
     "iopub.status.busy": "2022-10-14T05:54:14.940343Z",
     "iopub.status.idle": "2022-10-14T05:54:14.963571Z",
     "shell.execute_reply": "2022-10-14T05:54:14.962652Z"
    },
    "papermill": {
     "duration": 0.059905,
     "end_time": "2022-10-14T05:54:14.965433",
     "exception": false,
     "start_time": "2022-10-14T05:54:14.905528",
     "status": "completed"
    },
    "tags": []
   },
   "outputs": [
    {
     "data": {
      "text/html": [
       "\n",
       "<script src=\"https://d3js.org/d3.v6.min.js\"></script>\n",
       "<div id=\"tree_plot_0602c51971854fffae5aa99b39aebf25\"></div>\n",
       "<script>\n",
       "/*\n",
       " * Copyright 2021 Google LLC.\n",
       " * Licensed under the Apache License, Version 2.0 (the \"License\");\n",
       " * you may not use this file except in compliance with the License.\n",
       " * You may obtain a copy of the License at\n",
       " *\n",
       " *     https://www.apache.org/licenses/LICENSE-2.0\n",
       " *\n",
       " * Unless required by applicable law or agreed to in writing, software\n",
       " * distributed under the License is distributed on an \"AS IS\" BASIS,\n",
       " * WITHOUT WARRANTIES OR CONDITIONS OF ANY KIND, either express or implied.\n",
       " * See the License for the specific language governing permissions and\n",
       " * limitations under the License.\n",
       " */\n",
       "\n",
       "/**\n",
       " *  Plotting of decision trees generated by TF-DF.\n",
       " *\n",
       " *  A tree is a recursive structure of node objects.\n",
       " *  A node contains one or more of the following components:\n",
       " *\n",
       " *    - A value: Representing the output of the node. If the node is not a leaf,\n",
       " *      the value is only present for analysis i.e. it is not used for\n",
       " *      predictions.\n",
       " *\n",
       " *    - A condition : For non-leaf nodes, the condition (also known as split)\n",
       " *      defines a binary test to branch to the positive or negative child.\n",
       " *\n",
       " *    - An explanation: Generally a plot showing the relation between the label\n",
       " *      and the condition to give insights about the effect of the condition.\n",
       " *\n",
       " *    - Two children : For non-leaf nodes, the children nodes. The first\n",
       " *      children (i.e. \"node.children[0]\") is the negative children (drawn in\n",
       " *      red). The second children is the positive one (drawn in green).\n",
       " *\n",
       " */\n",
       "\n",
       "/**\n",
       " * Plots a single decision tree into a DOM element.\n",
       " * @param {!options} options Dictionary of configurations.\n",
       " * @param {!tree} raw_tree Recursive tree structure.\n",
       " * @param {string} canvas_id Id of the output dom element.\n",
       " */\n",
       "function display_tree(options, raw_tree, canvas_id) {\n",
       "  console.log(options);\n",
       "\n",
       "  // Determine the node placement.\n",
       "  const tree_struct = d3.tree().nodeSize(\n",
       "      [options.node_y_offset, options.node_x_offset])(d3.hierarchy(raw_tree));\n",
       "\n",
       "  // Boundaries of the node placement.\n",
       "  let x_min = Infinity;\n",
       "  let x_max = -x_min;\n",
       "  let y_min = Infinity;\n",
       "  let y_max = -x_min;\n",
       "\n",
       "  tree_struct.each(d => {\n",
       "    if (d.x > x_max) x_max = d.x;\n",
       "    if (d.x < x_min) x_min = d.x;\n",
       "    if (d.y > y_max) y_max = d.y;\n",
       "    if (d.y < y_min) y_min = d.y;\n",
       "  });\n",
       "\n",
       "  // Size of the plot.\n",
       "  const width = y_max - y_min + options.node_x_size + options.margin * 2;\n",
       "  const height = x_max - x_min + options.node_y_size + options.margin * 2 +\n",
       "      options.node_y_offset - options.node_y_size;\n",
       "\n",
       "  const plot = d3.select(canvas_id);\n",
       "\n",
       "  // Tool tip\n",
       "  options.tooltip = plot.append('div')\n",
       "                        .attr('width', 100)\n",
       "                        .attr('height', 100)\n",
       "                        .style('padding', '4px')\n",
       "                        .style('background', '#fff')\n",
       "                        .style('box-shadow', '4px 4px 0px rgba(0,0,0,0.1)')\n",
       "                        .style('border', '1px solid black')\n",
       "                        .style('font-family', 'sans-serif')\n",
       "                        .style('font-size', options.font_size)\n",
       "                        .style('position', 'absolute')\n",
       "                        .style('z-index', '10')\n",
       "                        .attr('pointer-events', 'none')\n",
       "                        .style('display', 'none');\n",
       "\n",
       "  // Create canvas\n",
       "  const svg = plot.append('svg').attr('width', width).attr('height', height);\n",
       "  const graph =\n",
       "      svg.style('overflow', 'visible')\n",
       "          .append('g')\n",
       "          .attr('font-family', 'sans-serif')\n",
       "          .attr('font-size', options.font_size)\n",
       "          .attr(\n",
       "              'transform',\n",
       "              () => `translate(${options.margin},${\n",
       "                  - x_min + options.node_y_offset / 2 + options.margin})`);\n",
       "\n",
       "  // Plot bounding box.\n",
       "  if (options.show_plot_bounding_box) {\n",
       "    svg.append('rect')\n",
       "        .attr('width', width)\n",
       "        .attr('height', height)\n",
       "        .attr('fill', 'none')\n",
       "        .attr('stroke-width', 1.0)\n",
       "        .attr('stroke', 'black');\n",
       "  }\n",
       "\n",
       "  // Draw the edges.\n",
       "  display_edges(options, graph, tree_struct);\n",
       "\n",
       "  // Draw the nodes.\n",
       "  display_nodes(options, graph, tree_struct);\n",
       "}\n",
       "\n",
       "/**\n",
       " * Draw the nodes of the tree.\n",
       " * @param {!options} options Dictionary of configurations.\n",
       " * @param {!graph} graph D3 search handle containing the graph.\n",
       " * @param {!tree_struct} tree_struct Structure of the tree (node placement,\n",
       " *     data, etc.).\n",
       " */\n",
       "function display_nodes(options, graph, tree_struct) {\n",
       "  const nodes = graph.append('g')\n",
       "                    .selectAll('g')\n",
       "                    .data(tree_struct.descendants())\n",
       "                    .join('g')\n",
       "                    .attr('transform', d => `translate(${d.y},${d.x})`);\n",
       "\n",
       "  nodes.append('rect')\n",
       "      .attr('x', 0.5)\n",
       "      .attr('y', 0.5)\n",
       "      .attr('width', options.node_x_size)\n",
       "      .attr('height', options.node_y_size)\n",
       "      .attr('stroke', 'lightgrey')\n",
       "      .attr('stroke-width', 1)\n",
       "      .attr('fill', 'white')\n",
       "      .attr('y', -options.node_y_size / 2);\n",
       "\n",
       "  // Brackets on the right of condition nodes without children.\n",
       "  non_leaf_node_without_children =\n",
       "      nodes.filter(node => node.data.condition != null && node.children == null)\n",
       "          .append('g')\n",
       "          .attr('transform', `translate(${options.node_x_size},0)`);\n",
       "\n",
       "  non_leaf_node_without_children.append('path')\n",
       "      .attr('d', 'M0,0 C 10,0 0,10 10,10')\n",
       "      .attr('fill', 'none')\n",
       "      .attr('stroke-width', 1.0)\n",
       "      .attr('stroke', '#F00');\n",
       "\n",
       "  non_leaf_node_without_children.append('path')\n",
       "      .attr('d', 'M0,0 C 10,0 0,-10 10,-10')\n",
       "      .attr('fill', 'none')\n",
       "      .attr('stroke-width', 1.0)\n",
       "      .attr('stroke', '#0F0');\n",
       "\n",
       "  const node_content = nodes.append('g').attr(\n",
       "      'transform',\n",
       "      `translate(0,${options.node_padding - options.node_y_size / 2})`);\n",
       "\n",
       "  node_content.append(node => create_node_element(options, node));\n",
       "}\n",
       "\n",
       "/**\n",
       " * Creates the D3 content for a single node.\n",
       " * @param {!options} options Dictionary of configurations.\n",
       " * @param {!node} node Node to draw.\n",
       " * @return {!d3} D3 content.\n",
       " */\n",
       "function create_node_element(options, node) {\n",
       "  // Output accumulator.\n",
       "  let output = {\n",
       "    // Content to draw.\n",
       "    content: d3.create('svg:g'),\n",
       "    // Vertical offset to the next element to draw.\n",
       "    vertical_offset: 0\n",
       "  };\n",
       "\n",
       "  // Conditions.\n",
       "  if (node.data.condition != null) {\n",
       "    display_condition(options, node.data.condition, output);\n",
       "  }\n",
       "\n",
       "  // Values.\n",
       "  if (node.data.value != null) {\n",
       "    display_value(options, node.data.value, output);\n",
       "  }\n",
       "\n",
       "  // Explanations.\n",
       "  if (node.data.explanation != null) {\n",
       "    display_explanation(options, node.data.explanation, output);\n",
       "  }\n",
       "\n",
       "  return output.content.node();\n",
       "}\n",
       "\n",
       "\n",
       "/**\n",
       " * Adds a single line of text inside of a node.\n",
       " * @param {!options} options Dictionary of configurations.\n",
       " * @param {string} text Text to display.\n",
       " * @param {!output} output Output display accumulator.\n",
       " */\n",
       "function display_node_text(options, text, output) {\n",
       "  output.content.append('text')\n",
       "      .attr('x', options.node_padding)\n",
       "      .attr('y', output.vertical_offset)\n",
       "      .attr('alignment-baseline', 'hanging')\n",
       "      .text(text);\n",
       "  output.vertical_offset += 10;\n",
       "}\n",
       "\n",
       "/**\n",
       " * Adds a single line of text inside of a node with a tooltip.\n",
       " * @param {!options} options Dictionary of configurations.\n",
       " * @param {string} text Text to display.\n",
       " * @param {string} tooltip Text in the Tooltip.\n",
       " * @param {!output} output Output display accumulator.\n",
       " */\n",
       "function display_node_text_with_tooltip(options, text, tooltip, output) {\n",
       "  const item = output.content.append('text')\n",
       "                   .attr('x', options.node_padding)\n",
       "                   .attr('alignment-baseline', 'hanging')\n",
       "                   .text(text);\n",
       "\n",
       "  add_tooltip(options, item, () => tooltip);\n",
       "  output.vertical_offset += 10;\n",
       "}\n",
       "\n",
       "/**\n",
       " * Adds a tooltip to a dom element.\n",
       " * @param {!options} options Dictionary of configurations.\n",
       " * @param {!dom} target Dom element to equip with a tooltip.\n",
       " * @param {!func} get_content Generates the html content of the tooltip.\n",
       " */\n",
       "function add_tooltip(options, target, get_content) {\n",
       "  function show(d) {\n",
       "    options.tooltip.style('display', 'block');\n",
       "    options.tooltip.html(get_content());\n",
       "  }\n",
       "\n",
       "  function hide(d) {\n",
       "    options.tooltip.style('display', 'none');\n",
       "  }\n",
       "\n",
       "  function move(d) {\n",
       "    options.tooltip.style('display', 'block');\n",
       "    options.tooltip.style('left', (d.pageX + 5) + 'px');\n",
       "    options.tooltip.style('top', d.pageY + 'px');\n",
       "  }\n",
       "\n",
       "  target.on('mouseover', show);\n",
       "  target.on('mouseout', hide);\n",
       "  target.on('mousemove', move);\n",
       "}\n",
       "\n",
       "/**\n",
       " * Adds a condition inside of a node.\n",
       " * @param {!options} options Dictionary of configurations.\n",
       " * @param {!condition} condition Condition to display.\n",
       " * @param {!output} output Output display accumulator.\n",
       " */\n",
       "function display_condition(options, condition, output) {\n",
       "  threshold_format = d3.format('r');\n",
       "\n",
       "  if (condition.type === 'IS_MISSING') {\n",
       "    display_node_text(options, `${condition.attribute} is missing`, output);\n",
       "    return;\n",
       "  }\n",
       "\n",
       "  if (condition.type === 'IS_TRUE') {\n",
       "    display_node_text(options, `${condition.attribute} is true`, output);\n",
       "    return;\n",
       "  }\n",
       "\n",
       "  if (condition.type === 'NUMERICAL_IS_HIGHER_THAN') {\n",
       "    format = d3.format('r');\n",
       "    display_node_text(\n",
       "        options,\n",
       "        `${condition.attribute} >= ${threshold_format(condition.threshold)}`,\n",
       "        output);\n",
       "    return;\n",
       "  }\n",
       "\n",
       "  if (condition.type === 'CATEGORICAL_IS_IN') {\n",
       "    display_node_text_with_tooltip(\n",
       "        options, `${condition.attribute} in [...]`,\n",
       "        `${condition.attribute} in [${condition.mask}]`, output);\n",
       "    return;\n",
       "  }\n",
       "\n",
       "  if (condition.type === 'CATEGORICAL_SET_CONTAINS') {\n",
       "    display_node_text_with_tooltip(\n",
       "        options, `${condition.attribute} intersect [...]`,\n",
       "        `${condition.attribute} intersect [${condition.mask}]`, output);\n",
       "    return;\n",
       "  }\n",
       "\n",
       "  if (condition.type === 'NUMERICAL_SPARSE_OBLIQUE') {\n",
       "    display_node_text_with_tooltip(\n",
       "        options, `Sparse oblique split...`,\n",
       "        `[${condition.attributes}]*[${condition.weights}]>=${\n",
       "            threshold_format(condition.threshold)}`,\n",
       "        output);\n",
       "    return;\n",
       "  }\n",
       "\n",
       "  display_node_text(\n",
       "      options, `Non supported condition ${condition.type}`, output);\n",
       "}\n",
       "\n",
       "/**\n",
       " * Adds a value inside of a node.\n",
       " * @param {!options} options Dictionary of configurations.\n",
       " * @param {!value} value Value to display.\n",
       " * @param {!output} output Output display accumulator.\n",
       " */\n",
       "function display_value(options, value, output) {\n",
       "  if (value.type === 'PROBABILITY') {\n",
       "    const left_margin = 0;\n",
       "    const right_margin = 50;\n",
       "    const plot_width = options.node_x_size - options.node_padding * 2 -\n",
       "        left_margin - right_margin;\n",
       "\n",
       "    let cusum = Array.from(d3.cumsum(value.distribution));\n",
       "    cusum.unshift(0);\n",
       "    const distribution_plot = output.content.append('g').attr(\n",
       "        'transform', `translate(0,${output.vertical_offset + 0.5})`);\n",
       "\n",
       "    distribution_plot.selectAll('rect')\n",
       "        .data(value.distribution)\n",
       "        .join('rect')\n",
       "        .attr('height', 10)\n",
       "        .attr(\n",
       "            'x',\n",
       "            (d, i) =>\n",
       "                (cusum[i] * plot_width + left_margin + options.node_padding))\n",
       "        .attr('width', (d, i) => d * plot_width)\n",
       "        .style('fill', (d, i) => d3.schemeSet1[i]);\n",
       "\n",
       "    const num_examples =\n",
       "        output.content.append('g')\n",
       "            .attr('transform', `translate(0,${output.vertical_offset})`)\n",
       "            .append('text')\n",
       "            .attr('x', options.node_x_size - options.node_padding)\n",
       "            .attr('alignment-baseline', 'hanging')\n",
       "            .attr('text-anchor', 'end')\n",
       "            .text(`(${value.num_examples})`);\n",
       "\n",
       "    const distribution_details = d3.create('ul');\n",
       "    distribution_details.selectAll('li')\n",
       "        .data(value.distribution)\n",
       "        .join('li')\n",
       "        .append('span')\n",
       "        .text(\n",
       "            (d, i) =>\n",
       "                'class ' + i + ': ' + d3.format('.3%')(value.distribution[i]));\n",
       "\n",
       "    add_tooltip(options, distribution_plot, () => distribution_details.html());\n",
       "    add_tooltip(options, num_examples, () => 'Number of examples');\n",
       "\n",
       "    output.vertical_offset += 10;\n",
       "    return;\n",
       "  }\n",
       "\n",
       "  if (value.type === 'REGRESSION') {\n",
       "    display_node_text(\n",
       "        options,\n",
       "        'value: ' + d3.format('r')(value.value) + ` (` +\n",
       "            d3.format('.6')(value.num_examples) + `)`,\n",
       "        output);\n",
       "    return;\n",
       "  }\n",
       "\n",
       "  display_node_text(options, `Non supported value ${value.type}`, output);\n",
       "}\n",
       "\n",
       "/**\n",
       " * Adds an explanation inside of a node.\n",
       " * @param {!options} options Dictionary of configurations.\n",
       " * @param {!explanation} explanation Explanation to display.\n",
       " * @param {!output} output Output display accumulator.\n",
       " */\n",
       "function display_explanation(options, explanation, output) {\n",
       "  // Margin before the explanation.\n",
       "  output.vertical_offset += 10;\n",
       "\n",
       "  display_node_text(\n",
       "      options, `Non supported explanation ${explanation.type}`, output);\n",
       "}\n",
       "\n",
       "\n",
       "/**\n",
       " * Draw the edges of the tree.\n",
       " * @param {!options} options Dictionary of configurations.\n",
       " * @param {!graph} graph D3 search handle containing the graph.\n",
       " * @param {!tree_struct} tree_struct Structure of the tree (node placement,\n",
       " *     data, etc.).\n",
       " */\n",
       "function display_edges(options, graph, tree_struct) {\n",
       "  // Draw an edge between a parent and a child node with a bezier.\n",
       "  function draw_single_edge(d) {\n",
       "    return 'M' + (d.source.y + options.node_x_size) + ',' + d.source.x + ' C' +\n",
       "        (d.source.y + options.node_x_size + options.edge_rounding) + ',' +\n",
       "        d.source.x + ' ' + (d.target.y - options.edge_rounding) + ',' +\n",
       "        d.target.x + ' ' + d.target.y + ',' + d.target.x;\n",
       "  }\n",
       "\n",
       "  graph.append('g')\n",
       "      .attr('fill', 'none')\n",
       "      .attr('stroke-width', 1.2)\n",
       "      .selectAll('path')\n",
       "      .data(tree_struct.links())\n",
       "      .join('path')\n",
       "      .attr('d', draw_single_edge)\n",
       "      .attr(\n",
       "          'stroke', d => (d.target === d.source.children[0]) ? '#0F0' : '#F00');\n",
       "}\n",
       "\n",
       "display_tree({\"margin\": 10, \"node_x_size\": 160, \"node_y_size\": 28, \"node_x_offset\": 180, \"node_y_offset\": 33, \"font_size\": 10, \"edge_rounding\": 20, \"node_padding\": 2, \"show_plot_bounding_box\": false}, {\"value\": {\"type\": \"PROBABILITY\", \"distribution\": [0.592948717948718, 0.40705128205128205], \"num_examples\": 624.0}, \"condition\": {\"type\": \"CATEGORICAL_IS_IN\", \"attribute\": \"Title\", \"mask\": [\"<OOD>\", \"Miss\", \"Mrs\", \"Master\"]}, \"children\": [{\"value\": {\"type\": \"PROBABILITY\", \"distribution\": [0.2730627306273063, 0.7269372693726938], \"num_examples\": 271.0}, \"condition\": {\"type\": \"CATEGORICAL_IS_IN\", \"attribute\": \"Fam_type\", \"mask\": [\"Solo\", \"Small\"]}, \"children\": [{\"value\": {\"type\": \"PROBABILITY\", \"distribution\": [0.17333333333333334, 0.8266666666666667], \"num_examples\": 225.0}, \"condition\": {\"type\": \"NUMERICAL_IS_HIGHER_THAN\", \"attribute\": \"Pclass\", \"threshold\": 2.5}, \"children\": [{\"value\": {\"type\": \"PROBABILITY\", \"distribution\": [0.32558139534883723, 0.6744186046511628], \"num_examples\": 86.0}, \"condition\": {\"type\": \"CATEGORICAL_IS_IN\", \"attribute\": \"Ticket_2letter\", \"mask\": [\"<OOD>\", \"26\", \"31\", \"C.\", \"ST\", \"37\", \"35\", \"CA\", \"38\"]}, \"children\": [{\"value\": {\"type\": \"PROBABILITY\", \"distribution\": [0.047619047619047616, 0.9523809523809523], \"num_examples\": 42.0}}, {\"value\": {\"type\": \"PROBABILITY\", \"distribution\": [0.5909090909090909, 0.4090909090909091], \"num_examples\": 44.0}}]}, {\"value\": {\"type\": \"PROBABILITY\", \"distribution\": [0.07913669064748201, 0.920863309352518], \"num_examples\": 139.0}, \"condition\": {\"type\": \"CATEGORICAL_IS_IN\", \"attribute\": \"Title\", \"mask\": [\"Miss\", \"Mrs\", \"Master\"]}, \"children\": [{\"value\": {\"type\": \"PROBABILITY\", \"distribution\": [0.017241379310344827, 0.9827586206896551], \"num_examples\": 116.0}}, {\"value\": {\"type\": \"PROBABILITY\", \"distribution\": [0.391304347826087, 0.6086956521739131], \"num_examples\": 23.0}}]}]}, {\"value\": {\"type\": \"PROBABILITY\", \"distribution\": [0.7608695652173914, 0.2391304347826087], \"num_examples\": 46.0}, \"condition\": {\"type\": \"NUMERICAL_IS_HIGHER_THAN\", \"attribute\": \"Pclass\", \"threshold\": 2.5}, \"children\": [{\"value\": {\"type\": \"PROBABILITY\", \"distribution\": [0.8974358974358975, 0.10256410256410256], \"num_examples\": 39.0}, \"condition\": {\"type\": \"CATEGORICAL_IS_IN\", \"attribute\": \"Ticket_2letter\", \"mask\": [\"34\", \"31\"]}, \"children\": [{\"value\": {\"type\": \"PROBABILITY\", \"distribution\": [0.8571428571428571, 0.14285714285714285], \"num_examples\": 28.0}}, {\"value\": {\"type\": \"PROBABILITY\", \"distribution\": [1.0, 0.0], \"num_examples\": 11.0}}]}, {\"value\": {\"type\": \"PROBABILITY\", \"distribution\": [0.0, 1.0], \"num_examples\": 7.0}}]}]}, {\"value\": {\"type\": \"PROBABILITY\", \"distribution\": [0.8385269121813032, 0.16147308781869688], \"num_examples\": 353.0}, \"condition\": {\"type\": \"CATEGORICAL_IS_IN\", \"attribute\": \"Ticket_2letter\", \"mask\": [\"11\", \"26\", \"PC\", \"36\", \"24\", \"ST\", \"19\", \"17\", \"29\", \"13\", \"16\"]}, \"children\": [{\"value\": {\"type\": \"PROBABILITY\", \"distribution\": [0.6589147286821705, 0.34108527131782945], \"num_examples\": 129.0}, \"condition\": {\"type\": \"CATEGORICAL_IS_IN\", \"attribute\": \"Fam_type\", \"mask\": [\"Small\"]}, \"children\": [{\"value\": {\"type\": \"PROBABILITY\", \"distribution\": [0.5476190476190477, 0.4523809523809524], \"num_examples\": 42.0}, \"condition\": {\"type\": \"CATEGORICAL_IS_IN\", \"attribute\": \"Ticket_2letter\", \"mask\": [\"11\", \"36\", \"19\", \"17\", \"29\", \"13\"]}, \"children\": [{\"value\": {\"type\": \"PROBABILITY\", \"distribution\": [0.391304347826087, 0.6086956521739131], \"num_examples\": 23.0}}, {\"value\": {\"type\": \"PROBABILITY\", \"distribution\": [0.7368421052631579, 0.2631578947368421], \"num_examples\": 19.0}}]}, {\"value\": {\"type\": \"PROBABILITY\", \"distribution\": [0.7126436781609196, 0.28735632183908044], \"num_examples\": 87.0}, \"condition\": {\"type\": \"NUMERICAL_IS_HIGHER_THAN\", \"attribute\": \"Fare\", \"threshold\": 7.175000190734863}, \"children\": [{\"value\": {\"type\": \"PROBABILITY\", \"distribution\": [0.6794871794871795, 0.32051282051282054], \"num_examples\": 78.0}}, {\"value\": {\"type\": \"PROBABILITY\", \"distribution\": [1.0, 0.0], \"num_examples\": 9.0}}]}]}, {\"value\": {\"type\": \"PROBABILITY\", \"distribution\": [0.9419642857142857, 0.05803571428571429], \"num_examples\": 224.0}, \"condition\": {\"type\": \"NUMERICAL_IS_HIGHER_THAN\", \"attribute\": \"Fare\", \"threshold\": 11.75}, \"children\": [{\"value\": {\"type\": \"PROBABILITY\", \"distribution\": [1.0, 0.0], \"num_examples\": 64.0}}, {\"value\": {\"type\": \"PROBABILITY\", \"distribution\": [0.91875, 0.08125], \"num_examples\": 160.0}, \"condition\": {\"type\": \"CATEGORICAL_IS_IN\", \"attribute\": \"Ticket_2letter\", \"mask\": [\"<OOD>\", \"34\", \"31\", \"SO\", \"S.\"]}, \"children\": [{\"value\": {\"type\": \"PROBABILITY\", \"distribution\": [0.8828828828828829, 0.11711711711711711], \"num_examples\": 111.0}}, {\"value\": {\"type\": \"PROBABILITY\", \"distribution\": [1.0, 0.0], \"num_examples\": 49.0}}]}]}]}]}, \"#tree_plot_0602c51971854fffae5aa99b39aebf25\")\n",
       "</script>\n"
      ],
      "text/plain": [
       "<IPython.core.display.HTML object>"
      ]
     },
     "execution_count": 72,
     "metadata": {},
     "output_type": "execute_result"
    }
   ],
   "source": [
    "tfdf.model_plotter.plot_model_in_colab(model_2, tree_idx=0, max_depth=4)"
   ]
  },
  {
   "cell_type": "markdown",
   "id": "36d3261b",
   "metadata": {
    "papermill": {
     "duration": 0.033314,
     "end_time": "2022-10-14T05:54:15.032458",
     "exception": false,
     "start_time": "2022-10-14T05:54:14.999144",
     "status": "completed"
    },
    "tags": []
   },
   "source": [
    "## Load model"
   ]
  },
  {
   "cell_type": "code",
   "execution_count": 73,
   "id": "48a74268",
   "metadata": {
    "execution": {
     "iopub.execute_input": "2022-10-14T05:54:15.100840Z",
     "iopub.status.busy": "2022-10-14T05:54:15.100179Z",
     "iopub.status.idle": "2022-10-14T05:54:15.589528Z",
     "shell.execute_reply": "2022-10-14T05:54:15.588769Z"
    },
    "papermill": {
     "duration": 0.526971,
     "end_time": "2022-10-14T05:54:15.592354",
     "exception": false,
     "start_time": "2022-10-14T05:54:15.065383",
     "status": "completed"
    },
    "tags": []
   },
   "outputs": [
    {
     "name": "stdout",
     "output_type": "stream",
     "text": [
      "Model: \"random_forest_model\"\n",
      "_________________________________________________________________\n",
      "Layer (type)                 Output Shape              Param #   \n",
      "=================================================================\n",
      "Total params: 1\n",
      "Trainable params: 0\n",
      "Non-trainable params: 1\n",
      "_________________________________________________________________\n"
     ]
    },
    {
     "name": "stderr",
     "output_type": "stream",
     "text": [
      "[INFO kernel.cc:988] Loading model from path\n",
      "[INFO decision_forest.cc:590] Model loaded with 500 root(s), 13530 node(s), and 7 input feature(s).\n",
      "[INFO kernel.cc:848] Use fast generic engine\n"
     ]
    }
   ],
   "source": [
    "evaluator_model = tf.keras.models.load_model('titanic_model')\n",
    "\n",
    "evaluator_model.summary()"
   ]
  },
  {
   "cell_type": "markdown",
   "id": "0ecb6f65",
   "metadata": {
    "papermill": {
     "duration": 0.033073,
     "end_time": "2022-10-14T05:54:15.659557",
     "exception": false,
     "start_time": "2022-10-14T05:54:15.626484",
     "status": "completed"
    },
    "tags": []
   },
   "source": [
    "## Submit"
   ]
  },
  {
   "cell_type": "code",
   "execution_count": 74,
   "id": "85e03c73",
   "metadata": {
    "execution": {
     "iopub.execute_input": "2022-10-14T05:54:15.728592Z",
     "iopub.status.busy": "2022-10-14T05:54:15.727813Z",
     "iopub.status.idle": "2022-10-14T05:54:15.733020Z",
     "shell.execute_reply": "2022-10-14T05:54:15.732234Z"
    },
    "papermill": {
     "duration": 0.042253,
     "end_time": "2022-10-14T05:54:15.735168",
     "exception": false,
     "start_time": "2022-10-14T05:54:15.692915",
     "status": "completed"
    },
    "tags": []
   },
   "outputs": [],
   "source": [
    "ids = testds.pop('PassengerId')"
   ]
  },
  {
   "cell_type": "code",
   "execution_count": 75,
   "id": "b3ec16a3",
   "metadata": {
    "execution": {
     "iopub.execute_input": "2022-10-14T05:54:15.807287Z",
     "iopub.status.busy": "2022-10-14T05:54:15.806874Z",
     "iopub.status.idle": "2022-10-14T05:54:15.834157Z",
     "shell.execute_reply": "2022-10-14T05:54:15.832873Z"
    },
    "papermill": {
     "duration": 0.06736,
     "end_time": "2022-10-14T05:54:15.836993",
     "exception": false,
     "start_time": "2022-10-14T05:54:15.769633",
     "status": "completed"
    },
    "tags": []
   },
   "outputs": [],
   "source": [
    "testds = tfdf.keras.pd_dataframe_to_tf_dataset(testds)"
   ]
  },
  {
   "cell_type": "code",
   "execution_count": 76,
   "id": "87a12404",
   "metadata": {
    "execution": {
     "iopub.execute_input": "2022-10-14T05:54:15.903508Z",
     "iopub.status.busy": "2022-10-14T05:54:15.903176Z",
     "iopub.status.idle": "2022-10-14T05:54:15.914570Z",
     "shell.execute_reply": "2022-10-14T05:54:15.913374Z"
    },
    "papermill": {
     "duration": 0.047254,
     "end_time": "2022-10-14T05:54:15.916865",
     "exception": false,
     "start_time": "2022-10-14T05:54:15.869611",
     "status": "completed"
    },
    "tags": []
   },
   "outputs": [],
   "source": [
    "check =pd.read_csv('/kaggle/input/titanic/gender_submission.csv')"
   ]
  },
  {
   "cell_type": "code",
   "execution_count": 77,
   "id": "a5c82b64",
   "metadata": {
    "execution": {
     "iopub.execute_input": "2022-10-14T05:54:15.986525Z",
     "iopub.status.busy": "2022-10-14T05:54:15.985289Z",
     "iopub.status.idle": "2022-10-14T05:54:16.182609Z",
     "shell.execute_reply": "2022-10-14T05:54:16.181957Z"
    },
    "papermill": {
     "duration": 0.234135,
     "end_time": "2022-10-14T05:54:16.184841",
     "exception": false,
     "start_time": "2022-10-14T05:54:15.950706",
     "status": "completed"
    },
    "tags": []
   },
   "outputs": [
    {
     "data": {
      "text/html": [
       "<div>\n",
       "<style scoped>\n",
       "    .dataframe tbody tr th:only-of-type {\n",
       "        vertical-align: middle;\n",
       "    }\n",
       "\n",
       "    .dataframe tbody tr th {\n",
       "        vertical-align: top;\n",
       "    }\n",
       "\n",
       "    .dataframe thead th {\n",
       "        text-align: right;\n",
       "    }\n",
       "</style>\n",
       "<table border=\"1\" class=\"dataframe\">\n",
       "  <thead>\n",
       "    <tr style=\"text-align: right;\">\n",
       "      <th></th>\n",
       "      <th>PassengerId</th>\n",
       "      <th>Survived</th>\n",
       "    </tr>\n",
       "  </thead>\n",
       "  <tbody>\n",
       "    <tr>\n",
       "      <th>0</th>\n",
       "      <td>892</td>\n",
       "      <td>0</td>\n",
       "    </tr>\n",
       "    <tr>\n",
       "      <th>1</th>\n",
       "      <td>893</td>\n",
       "      <td>1</td>\n",
       "    </tr>\n",
       "    <tr>\n",
       "      <th>2</th>\n",
       "      <td>894</td>\n",
       "      <td>0</td>\n",
       "    </tr>\n",
       "    <tr>\n",
       "      <th>3</th>\n",
       "      <td>895</td>\n",
       "      <td>0</td>\n",
       "    </tr>\n",
       "    <tr>\n",
       "      <th>4</th>\n",
       "      <td>896</td>\n",
       "      <td>1</td>\n",
       "    </tr>\n",
       "    <tr>\n",
       "      <th>5</th>\n",
       "      <td>897</td>\n",
       "      <td>0</td>\n",
       "    </tr>\n",
       "    <tr>\n",
       "      <th>6</th>\n",
       "      <td>898</td>\n",
       "      <td>1</td>\n",
       "    </tr>\n",
       "    <tr>\n",
       "      <th>7</th>\n",
       "      <td>899</td>\n",
       "      <td>0</td>\n",
       "    </tr>\n",
       "    <tr>\n",
       "      <th>8</th>\n",
       "      <td>900</td>\n",
       "      <td>1</td>\n",
       "    </tr>\n",
       "    <tr>\n",
       "      <th>9</th>\n",
       "      <td>901</td>\n",
       "      <td>0</td>\n",
       "    </tr>\n",
       "  </tbody>\n",
       "</table>\n",
       "</div>"
      ],
      "text/plain": [
       "   PassengerId  Survived\n",
       "0          892         0\n",
       "1          893         1\n",
       "2          894         0\n",
       "3          895         0\n",
       "4          896         1\n",
       "5          897         0\n",
       "6          898         1\n",
       "7          899         0\n",
       "8          900         1\n",
       "9          901         0"
      ]
     },
     "execution_count": 77,
     "metadata": {},
     "output_type": "execute_result"
    }
   ],
   "source": [
    "# Preprocessing of test data, fit model\n",
    "pred =  model_2.predict(testds)\n",
    "thresh = 0.5\n",
    "pred_c = tf.cast(pred > thresh, tf.int64)\n",
    "pred_num = tf.reshape(pred_c,[len(pred_c)]).numpy()\n",
    "# Save test predictions to file\n",
    "output = pd.DataFrame({'PassengerId':ids,'Survived': pred_num.squeeze()})\n",
    "output.dtypes\n",
    "output.to_csv('submission.csv', index=False)\n",
    "output.head(10)"
   ]
  },
  {
   "cell_type": "code",
   "execution_count": 78,
   "id": "cfead21b",
   "metadata": {
    "execution": {
     "iopub.execute_input": "2022-10-14T05:54:16.253889Z",
     "iopub.status.busy": "2022-10-14T05:54:16.252430Z",
     "iopub.status.idle": "2022-10-14T05:54:16.257821Z",
     "shell.execute_reply": "2022-10-14T05:54:16.256785Z"
    },
    "papermill": {
     "duration": 0.042024,
     "end_time": "2022-10-14T05:54:16.260083",
     "exception": false,
     "start_time": "2022-10-14T05:54:16.218059",
     "status": "completed"
    },
    "tags": []
   },
   "outputs": [],
   "source": [
    "# os.remove(\"/kaggle/working/submission.csv\")"
   ]
  }
 ],
 "metadata": {
  "kernelspec": {
   "display_name": "Python 3",
   "language": "python",
   "name": "python3"
  },
  "language_info": {
   "codemirror_mode": {
    "name": "ipython",
    "version": 3
   },
   "file_extension": ".py",
   "mimetype": "text/x-python",
   "name": "python",
   "nbconvert_exporter": "python",
   "pygments_lexer": "ipython3",
   "version": "3.7.12"
  },
  "papermill": {
   "default_parameters": {},
   "duration": 86.113068,
   "end_time": "2022-10-14T05:54:19.748514",
   "environment_variables": {},
   "exception": null,
   "input_path": "__notebook__.ipynb",
   "output_path": "__notebook__.ipynb",
   "parameters": {},
   "start_time": "2022-10-14T05:52:53.635446",
   "version": "2.3.4"
  }
 },
 "nbformat": 4,
 "nbformat_minor": 5
}
